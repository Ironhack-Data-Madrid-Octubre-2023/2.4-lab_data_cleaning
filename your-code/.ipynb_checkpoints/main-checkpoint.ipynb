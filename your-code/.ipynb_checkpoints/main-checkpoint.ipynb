{
 "cells": [
  {
   "cell_type": "markdown",
   "metadata": {
    "toc": true
   },
   "source": [
    "<h1>Table of Contents<span class=\"tocSkip\"></span></h1>\n",
    "<div class=\"toc\"><ul class=\"toc-item\"><li><span><a href=\"#Data-Cleaning\" data-toc-modified-id=\"Data-Cleaning-1\"><span class=\"toc-item-num\">1&nbsp;&nbsp;</span>Data Cleaning</a></span></li><li><span><a href=\"#Examining-Data-for-Potential-Issues\" data-toc-modified-id=\"Examining-Data-for-Potential-Issues-2\"><span class=\"toc-item-num\">2&nbsp;&nbsp;</span>Examining Data for Potential Issues</a></span></li><li><span><a href=\"#Missing-Values\" data-toc-modified-id=\"Missing-Values-3\"><span class=\"toc-item-num\">3&nbsp;&nbsp;</span>Missing Values</a></span><ul class=\"toc-item\"><li><span><a href=\"#Show-the-number-of-null-values-only-of-the-columns-that-actually-have-null-values\" data-toc-modified-id=\"Show-the-number-of-null-values-only-of-the-columns-that-actually-have-null-values-3.1\"><span class=\"toc-item-num\">3.1&nbsp;&nbsp;</span>Show the number of null values only of the columns that actually have null values</a></span></li><li><span><a href=\"#Remove-the-columns-that-have-more-than-10,000-null-values-in-them\" data-toc-modified-id=\"Remove-the-columns-that-have-more-than-10,000-null-values-in-them-3.2\"><span class=\"toc-item-num\">3.2&nbsp;&nbsp;</span>Remove the columns that have more than 10,000 null values in them</a></span></li><li><span><a href=\"#Create-a-new-dataframe-that-shows-only-the-row-where-displ-is-null.\" data-toc-modified-id=\"Create-a-new-dataframe-that-shows-only-the-row-where-displ-is-null.-3.3\"><span class=\"toc-item-num\">3.3&nbsp;&nbsp;</span>Create a new dataframe that shows only the row where <code>displ</code> is null.</a></span></li><li><span><a href=\"#Fill-nan-values-with-the-most-appropriate-technique\" data-toc-modified-id=\"Fill-nan-values-with-the-most-appropriate-technique-3.4\"><span class=\"toc-item-num\">3.4&nbsp;&nbsp;</span>Fill nan values with the most appropriate technique</a></span></li><li><span><a href=\"#Bonus:\" data-toc-modified-id=\"Bonus:-3.5\"><span class=\"toc-item-num\">3.5&nbsp;&nbsp;</span>Bonus:</a></span></li></ul></li><li><span><a href=\"#Incorrect-Values\" data-toc-modified-id=\"Incorrect-Values-4\"><span class=\"toc-item-num\">4&nbsp;&nbsp;</span>Incorrect Values</a></span><ul class=\"toc-item\"><li><span><a href=\"#Check-similar-rows\" data-toc-modified-id=\"Check-similar-rows-4.1\"><span class=\"toc-item-num\">4.1&nbsp;&nbsp;</span>Check similar rows</a></span></li><li><span><a href=\"#Bonus:\" data-toc-modified-id=\"Bonus:-4.2\"><span class=\"toc-item-num\">4.2&nbsp;&nbsp;</span>Bonus:</a></span></li></ul></li><li><span><a href=\"#Low-Variance-Columns\" data-toc-modified-id=\"Low-Variance-Columns-5\"><span class=\"toc-item-num\">5&nbsp;&nbsp;</span>Low Variance Columns</a></span><ul class=\"toc-item\"><li><span><a href=\"#Use-the-the-drop-method-like-we-did-earlier-in-this-lesson-to-remove-the-non-informative-columns-from-our-data-frame.\" data-toc-modified-id=\"Use-the-the-drop-method-like-we-did-earlier-in-this-lesson-to-remove-the-non-informative-columns-from-our-data-frame.-5.1\"><span class=\"toc-item-num\">5.1&nbsp;&nbsp;</span>Use the the drop method like we did earlier in this lesson to remove the non informative columns from our data frame.</a></span></li></ul></li><li><span><a href=\"#Extreme-Values-and-Outliers\" data-toc-modified-id=\"Extreme-Values-and-Outliers-6\"><span class=\"toc-item-num\">6&nbsp;&nbsp;</span>Extreme Values and Outliers</a></span></li><li><span><a href=\"#Data-Type-Correction\" data-toc-modified-id=\"Data-Type-Correction-7\"><span class=\"toc-item-num\">7&nbsp;&nbsp;</span>Data Type Correction</a></span><ul class=\"toc-item\"><li><span><a href=\"#Check-the-data-type-of-each-column\" data-toc-modified-id=\"Check-the-data-type-of-each-column-7.1\"><span class=\"toc-item-num\">7.1&nbsp;&nbsp;</span>Check the data type of each column</a></span></li><li><span><a href=\"#Cleaning-years\" data-toc-modified-id=\"Cleaning-years-7.2\"><span class=\"toc-item-num\">7.2&nbsp;&nbsp;</span>Cleaning years</a></span></li></ul></li><li><span><a href=\"#Cleaning-Text-and-Removing-Special-Characters\" data-toc-modified-id=\"Cleaning-Text-and-Removing-Special-Characters-8\"><span class=\"toc-item-num\">8&nbsp;&nbsp;</span>Cleaning Text and Removing Special Characters</a></span></li><li><span><a href=\"#Finding-and-Removing-Duplicates\" data-toc-modified-id=\"Finding-and-Removing-Duplicates-9\"><span class=\"toc-item-num\">9&nbsp;&nbsp;</span>Finding and Removing Duplicates</a></span><ul class=\"toc-item\"><li><span><a href=\"#Drop-duplicate-rows-that-are-completely-equal\" data-toc-modified-id=\"Drop-duplicate-rows-that-are-completely-equal-9.1\"><span class=\"toc-item-num\">9.1&nbsp;&nbsp;</span>Drop duplicate rows that are completely equal</a></span></li><li><span><a href=\"#Select-a-subset-of-columns,-remove-all-other-columns,-and-then-use-the-drop_duplicates-method-to-drop-any-duplicate-records-based-on-the-remaining-columns.\" data-toc-modified-id=\"Select-a-subset-of-columns,-remove-all-other-columns,-and-then-use-the-drop_duplicates-method-to-drop-any-duplicate-records-based-on-the-remaining-columns.-9.2\"><span class=\"toc-item-num\">9.2&nbsp;&nbsp;</span>Select a subset of columns, remove all other columns, and then use the drop_duplicates method to drop any duplicate records based on the remaining columns.</a></span></li></ul></li><li><span><a href=\"#Export-clean-dataset\" data-toc-modified-id=\"Export-clean-dataset-10\"><span class=\"toc-item-num\">10&nbsp;&nbsp;</span>Export clean dataset</a></span></li></ul></div>"
   ]
  },
  {
   "cell_type": "markdown",
   "metadata": {},
   "source": [
    "# Data Cleaning\n",
    "\n",
    "\n",
    "Lab Goals\n",
    "\n",
    "+ Examine data for potential issues.\n",
    "+ Identify and fill in missing values.\n",
    "+ Identify and correct incorrect values.\n",
    "+ Remove low variance columns.\n",
    "+ Identify potential outliers.\n",
    "+ Correct incorrect data types.\n",
    "+ Remove special characters and clean categorical variables.\n",
    "+ Identify and remove duplicate records.\n",
    "\n",
    "Introduction\n",
    "\n",
    "When working with data sets, you will find that they often require a bit of cleaning. Whether Pandas originally read the data types incorrectly, records are duplicated, the data contains special characters or missing value, or there are slightly different references to the same entity, every data analyst must know how to clean the data they are working with before analyzing it. In this lesson, you will learn about some of the most common problems that make data messy and methods for correcting those problems and cleaning your data.\n",
    "\n",
    "The data set we are going to be using for this lesson is a messy version of the vehicles data set we worked with in the previous lesson. Let's import this version of our data set so that we can then practice cleaning it up."
   ]
  },
  {
   "cell_type": "code",
   "execution_count": 175,
   "metadata": {},
   "outputs": [],
   "source": [
    "import re\n",
    "import numpy as np\n",
    "import pandas as pd\n",
    "import seaborn as sns\n",
    "from datetime import datetime\n",
    "import matplotlib.pyplot as plt\n",
    "\n",
    "import warnings\n",
    "warnings.filterwarnings('ignore')"
   ]
  },
  {
   "cell_type": "code",
   "execution_count": 176,
   "metadata": {},
   "outputs": [],
   "source": [
    "raw_data = pd.read_csv('../data/vehicles_messy.csv', low_memory=False)"
   ]
  },
  {
   "cell_type": "code",
   "execution_count": 177,
   "metadata": {},
   "outputs": [],
   "source": [
    "df = raw_data.copy()"
   ]
  },
  {
   "cell_type": "code",
   "execution_count": 178,
   "metadata": {},
   "outputs": [
    {
     "data": {
      "text/html": [
       "<div>\n",
       "<style scoped>\n",
       "    .dataframe tbody tr th:only-of-type {\n",
       "        vertical-align: middle;\n",
       "    }\n",
       "\n",
       "    .dataframe tbody tr th {\n",
       "        vertical-align: top;\n",
       "    }\n",
       "\n",
       "    .dataframe thead th {\n",
       "        text-align: right;\n",
       "    }\n",
       "</style>\n",
       "<table border=\"1\" class=\"dataframe\">\n",
       "  <thead>\n",
       "    <tr style=\"text-align: right;\">\n",
       "      <th></th>\n",
       "      <th>barrels08</th>\n",
       "      <th>barrelsA08</th>\n",
       "      <th>charge120</th>\n",
       "      <th>charge240</th>\n",
       "      <th>city08</th>\n",
       "      <th>city08U</th>\n",
       "      <th>cityA08</th>\n",
       "      <th>cityA08U</th>\n",
       "      <th>cityCD</th>\n",
       "      <th>cityE</th>\n",
       "      <th>...</th>\n",
       "      <th>mfrCode</th>\n",
       "      <th>c240Dscr</th>\n",
       "      <th>charge240b</th>\n",
       "      <th>c240bDscr</th>\n",
       "      <th>createdOn</th>\n",
       "      <th>modifiedOn</th>\n",
       "      <th>startStop</th>\n",
       "      <th>phevCity</th>\n",
       "      <th>phevHwy</th>\n",
       "      <th>phevComb</th>\n",
       "    </tr>\n",
       "  </thead>\n",
       "  <tbody>\n",
       "    <tr>\n",
       "      <th>0</th>\n",
       "      <td>15.695714</td>\n",
       "      <td>0.0</td>\n",
       "      <td>0.0</td>\n",
       "      <td>0.0</td>\n",
       "      <td>19</td>\n",
       "      <td>0.0</td>\n",
       "      <td>0</td>\n",
       "      <td>0.0</td>\n",
       "      <td>0.0</td>\n",
       "      <td>0.0</td>\n",
       "      <td>...</td>\n",
       "      <td>NaN</td>\n",
       "      <td>NaN</td>\n",
       "      <td>0.0</td>\n",
       "      <td>NaN</td>\n",
       "      <td>Tue Jan 01 00:00:00 EST 2013</td>\n",
       "      <td>Tue Jan 01 00:00:00 EST 2013</td>\n",
       "      <td>NaN</td>\n",
       "      <td>0</td>\n",
       "      <td>0</td>\n",
       "      <td>0</td>\n",
       "    </tr>\n",
       "    <tr>\n",
       "      <th>1</th>\n",
       "      <td>29.964545</td>\n",
       "      <td>0.0</td>\n",
       "      <td>0.0</td>\n",
       "      <td>0.0</td>\n",
       "      <td>9</td>\n",
       "      <td>0.0</td>\n",
       "      <td>0</td>\n",
       "      <td>0.0</td>\n",
       "      <td>0.0</td>\n",
       "      <td>0.0</td>\n",
       "      <td>...</td>\n",
       "      <td>NaN</td>\n",
       "      <td>NaN</td>\n",
       "      <td>0.0</td>\n",
       "      <td>NaN</td>\n",
       "      <td>Tue Jan 01 00:00:00 EST 2013</td>\n",
       "      <td>Tue Jan 01 00:00:00 EST 2013</td>\n",
       "      <td>NaN</td>\n",
       "      <td>0</td>\n",
       "      <td>0</td>\n",
       "      <td>0</td>\n",
       "    </tr>\n",
       "  </tbody>\n",
       "</table>\n",
       "<p>2 rows × 83 columns</p>\n",
       "</div>"
      ],
      "text/plain": [
       "   barrels08  barrelsA08  charge120  charge240  city08  city08U  cityA08  \\\n",
       "0  15.695714         0.0        0.0        0.0      19      0.0        0   \n",
       "1  29.964545         0.0        0.0        0.0       9      0.0        0   \n",
       "\n",
       "   cityA08U  cityCD  cityE  ...  mfrCode  c240Dscr  charge240b  c240bDscr  \\\n",
       "0       0.0     0.0    0.0  ...      NaN       NaN         0.0        NaN   \n",
       "1       0.0     0.0    0.0  ...      NaN       NaN         0.0        NaN   \n",
       "\n",
       "                      createdOn                    modifiedOn  startStop  \\\n",
       "0  Tue Jan 01 00:00:00 EST 2013  Tue Jan 01 00:00:00 EST 2013        NaN   \n",
       "1  Tue Jan 01 00:00:00 EST 2013  Tue Jan 01 00:00:00 EST 2013        NaN   \n",
       "\n",
       "   phevCity  phevHwy  phevComb  \n",
       "0         0        0         0  \n",
       "1         0        0         0  \n",
       "\n",
       "[2 rows x 83 columns]"
      ]
     },
     "execution_count": 178,
     "metadata": {},
     "output_type": "execute_result"
    }
   ],
   "source": [
    "df.head(2)"
   ]
  },
  {
   "cell_type": "markdown",
   "metadata": {},
   "source": [
    "# Examining Data for Potential Issues\n",
    "\n",
    "One of the first things we want to do is examine the data and look for any **potential issues**. Some of the things we are interested in identifying in the data at this stage include:\n",
    "\n",
    "- Missing values\n",
    "- Special characters\n",
    "- Incorrect values\n",
    "- Extreme values or outliers\n",
    "- Duplicate records\n",
    "- Incorrect data types\n",
    "\n",
    "The presence of these may cause problems when it's time to analyze the data, so we want to make sure we address them beforehand. We can start by visually inspecting the data using the `.head` method, which will show us the first 5 rows of data. "
   ]
  },
  {
   "cell_type": "markdown",
   "metadata": {},
   "source": [
    "But how big actually is our dataframe??? Check it with `.shape` method"
   ]
  },
  {
   "cell_type": "code",
   "execution_count": 179,
   "metadata": {},
   "outputs": [
    {
     "name": "stdout",
     "output_type": "stream",
     "text": [
      "(37843, 83) (37843, 83)\n"
     ]
    }
   ],
   "source": [
    "print(raw_data.shape, df.shape)"
   ]
  },
  {
   "cell_type": "markdown",
   "metadata": {},
   "source": [
    "Let's dive a little more in the content of our data set. Is there any method that shows us the **column names**, its **data types** and number of **non-null values**?"
   ]
  },
  {
   "cell_type": "code",
   "execution_count": 180,
   "metadata": {},
   "outputs": [
    {
     "name": "stdout",
     "output_type": "stream",
     "text": [
      "<class 'pandas.core.frame.DataFrame'>\n",
      "RangeIndex: 37843 entries, 0 to 37842\n",
      "Data columns (total 83 columns):\n",
      " #   Column           Non-Null Count  Dtype  \n",
      "---  ------           --------------  -----  \n",
      " 0   barrels08        37843 non-null  float64\n",
      " 1   barrelsA08       37843 non-null  float64\n",
      " 2   charge120        37843 non-null  float64\n",
      " 3   charge240        37843 non-null  float64\n",
      " 4   city08           37843 non-null  int64  \n",
      " 5   city08U          37843 non-null  float64\n",
      " 6   cityA08          37843 non-null  int64  \n",
      " 7   cityA08U         37843 non-null  float64\n",
      " 8   cityCD           37843 non-null  float64\n",
      " 9   cityE            37843 non-null  float64\n",
      " 10  cityUF           37843 non-null  float64\n",
      " 11  co2              37843 non-null  int64  \n",
      " 12  co2A             37843 non-null  int64  \n",
      " 13  co2TailpipeAGpm  37843 non-null  float64\n",
      " 14  co2TailpipeGpm   37843 non-null  float64\n",
      " 15  comb08           37843 non-null  int64  \n",
      " 16  comb08U          37843 non-null  float64\n",
      " 17  combA08          37843 non-null  int64  \n",
      " 18  combA08U         37843 non-null  float64\n",
      " 19  combE            37843 non-null  float64\n",
      " 20  combinedCD       37843 non-null  float64\n",
      " 21  combinedUF       37843 non-null  float64\n",
      " 22  cylinders        37720 non-null  float64\n",
      " 23  displ            37723 non-null  float64\n",
      " 24  drive            36654 non-null  object \n",
      " 25  engId            37843 non-null  int64  \n",
      " 26  eng_dscr         22440 non-null  object \n",
      " 27  feScore          37843 non-null  int64  \n",
      " 28  fuelCost08       37843 non-null  int64  \n",
      " 29  fuelCostA08      37843 non-null  int64  \n",
      " 30  fuelType         37843 non-null  object \n",
      " 31  fuelType1        37843 non-null  object \n",
      " 32  ghgScore         37843 non-null  int64  \n",
      " 33  ghgScoreA        37843 non-null  int64  \n",
      " 34  highway08        37843 non-null  int64  \n",
      " 35  highway08U       37843 non-null  float64\n",
      " 36  highwayA08       37843 non-null  int64  \n",
      " 37  highwayA08U      37843 non-null  float64\n",
      " 38  highwayCD        37843 non-null  float64\n",
      " 39  highwayE         37843 non-null  float64\n",
      " 40  highwayUF        37843 non-null  float64\n",
      " 41  hlv              37843 non-null  int64  \n",
      " 42  hpv              37843 non-null  int64  \n",
      " 43  id               37843 non-null  int64  \n",
      " 44  lv2              37843 non-null  int64  \n",
      " 45  lv4              37843 non-null  int64  \n",
      " 46  make             37843 non-null  object \n",
      " 47  model            37843 non-null  object \n",
      " 48  mpgData          37843 non-null  object \n",
      " 49  phevBlended      37843 non-null  bool   \n",
      " 50  pv2              37843 non-null  int64  \n",
      " 51  pv4              37843 non-null  int64  \n",
      " 52  range            37843 non-null  int64  \n",
      " 53  rangeCity        37843 non-null  float64\n",
      " 54  rangeCityA       37843 non-null  float64\n",
      " 55  rangeHwy         37843 non-null  float64\n",
      " 56  rangeHwyA        37843 non-null  float64\n",
      " 57  trany            37832 non-null  object \n",
      " 58  UCity            37843 non-null  float64\n",
      " 59  UCityA           37843 non-null  float64\n",
      " 60  UHighway         37843 non-null  float64\n",
      " 61  UHighwayA        37843 non-null  float64\n",
      " 62  VClass           37843 non-null  object \n",
      " 63  year             37843 non-null  int64  \n",
      " 64  youSaveSpend     37843 non-null  int64  \n",
      " 65  guzzler          2281 non-null   object \n",
      " 66  trans_dscr       15047 non-null  object \n",
      " 67  tCharger         5186 non-null   object \n",
      " 68  sCharger         666 non-null    object \n",
      " 69  atvType          3072 non-null   object \n",
      " 70  fuelType2        1408 non-null   object \n",
      " 71  rangeA           1403 non-null   object \n",
      " 72  evMotor          562 non-null    object \n",
      " 73  mfrCode          7025 non-null   object \n",
      " 74  c240Dscr         37 non-null     object \n",
      " 75  charge240b       37843 non-null  float64\n",
      " 76  c240bDscr        36 non-null     object \n",
      " 77  createdOn        37843 non-null  object \n",
      " 78  modifiedOn       37843 non-null  object \n",
      " 79  startStop        6138 non-null   object \n",
      " 80  phevCity         37843 non-null  int64  \n",
      " 81  phevHwy          37843 non-null  int64  \n",
      " 82  phevComb         37843 non-null  int64  \n",
      "dtypes: bool(1), float64(32), int64(27), object(23)\n",
      "memory usage: 23.7+ MB\n"
     ]
    }
   ],
   "source": [
    "df.info()"
   ]
  },
  {
   "cell_type": "markdown",
   "metadata": {},
   "source": [
    "# Missing Values\n",
    "\n",
    "From this initial view, we can see that our data set contains some columns that have missing values in them and others that seem to have a lot of zero values. \n",
    "\n",
    "Let's see how prevalent missing values are in our data. We can use the Pandas `.isnull()` method to check whether the value in each field is missing (*null*) and return either True or False for each field. \n",
    "\n",
    "We can use the `.sum()` method to total up the number of True values by column, and then we can add a condition using square brackets that will filter the data and show us only columns where the number of null values were greater than zero. "
   ]
  },
  {
   "cell_type": "markdown",
   "metadata": {},
   "source": [
    "## Show the number of null values only of the columns that actually have null values"
   ]
  },
  {
   "cell_type": "code",
   "execution_count": 181,
   "metadata": {},
   "outputs": [
    {
     "data": {
      "text/plain": [
       "c240bDscr     37807\n",
       "c240Dscr      37806\n",
       "evMotor       37281\n",
       "sCharger      37177\n",
       "rangeA        36440\n",
       "fuelType2     36435\n",
       "guzzler       35562\n",
       "atvType       34771\n",
       "tCharger      32657\n",
       "startStop     31705\n",
       "mfrCode       30818\n",
       "trans_dscr    22796\n",
       "eng_dscr      15403\n",
       "drive          1189\n",
       "cylinders       123\n",
       "displ           120\n",
       "trany            11\n",
       "dtype: int64"
      ]
     },
     "execution_count": 181,
     "metadata": {},
     "output_type": "execute_result"
    }
   ],
   "source": [
    "nan = df.isna().sum().sort_values(ascending = False)\n",
    "nan[nan > 0]"
   ]
  },
  {
   "cell_type": "code",
   "execution_count": 182,
   "metadata": {},
   "outputs": [],
   "source": [
    "def check_nan(df: pd.DataFrame) -> None:\n",
    "    \"\"\"\n",
    "    Recibe una DataFrame y enseña el # de valores nulos en un plot\n",
    "    \"\"\"\n",
    "    nan = df.isna().sum().sort_values(ascending=False)\n",
    "    display(f\"# of columns with NaN values: {len(nan[nan > 0]):0.2f}\")\n",
    "    \n",
    "    plt.figure(figsize=(10, 6), facecolor='none') \n",
    "    sns.heatmap(df.isna(),           \n",
    "                yticklabels=False,  \n",
    "                cmap='magma',     \n",
    "                cbar=False)\n",
    "    plt.show();"
   ]
  },
  {
   "cell_type": "code",
   "execution_count": 183,
   "metadata": {},
   "outputs": [
    {
     "data": {
      "text/plain": [
       "'# of columns with NaN values: 17.00'"
      ]
     },
     "metadata": {},
     "output_type": "display_data"
    },
    {
     "data": {
      "image/png": "[encoded data removed]",
      "text/plain": [
       "<Figure size 1000x600 with 1 Axes>"
      ]
     },
     "metadata": {
      "needs_background": "light"
     },
     "output_type": "display_data"
    }
   ],
   "source": [
    "check_nan(df)"
   ]
  },
  {
   "cell_type": "markdown",
   "metadata": {},
   "source": [
    "We can see that some columns have relatively few null values while others have tens of thousands of nulls. For fields that have a lot of null values, you will often have to make a judgement call. If you don't think the information is going to be very useful to your analysis, then you would remove those columns from your data frame. "
   ]
  },
  {
   "cell_type": "markdown",
   "metadata": {},
   "source": [
    "## Remove the columns that have more than 10,000 null values in them"
   ]
  },
  {
   "cell_type": "markdown",
   "metadata": {},
   "source": [
    "In Pandas, we can do that using the drop method. For our purposes, let's remove the columns that have more than 10,000 null values in them. We will add these column names to a list, and then we will pass those columns to the drop method and indicate that we want columns (not rows) dropped by setting the axis parameter to 1. "
   ]
  },
  {
   "cell_type": "code",
   "execution_count": 184,
   "metadata": {},
   "outputs": [],
   "source": [
    "nan_cols_to_drop = nan.index[nan > 10000]"
   ]
  },
  {
   "cell_type": "code",
   "execution_count": 185,
   "metadata": {},
   "outputs": [],
   "source": [
    "df.drop(columns = nan_cols_to_drop, inplace = True)"
   ]
  },
  {
   "cell_type": "code",
   "execution_count": 186,
   "metadata": {},
   "outputs": [
    {
     "name": "stdout",
     "output_type": "stream",
     "text": [
      "(37843, 83) (37843, 70)\n"
     ]
    }
   ],
   "source": [
    "print(raw_data.shape, df.shape)"
   ]
  },
  {
   "cell_type": "code",
   "execution_count": 187,
   "metadata": {},
   "outputs": [
    {
     "data": {
      "text/plain": [
       "'# of columns with NaN values: 4.00'"
      ]
     },
     "metadata": {},
     "output_type": "display_data"
    },
    {
     "data": {
      "image/png": "[encoded data removed]",
      "text/plain": [
       "<Figure size 1000x600 with 1 Axes>"
      ]
     },
     "metadata": {
      "needs_background": "light"
     },
     "output_type": "display_data"
    }
   ],
   "source": [
    "check_nan(df)"
   ]
  },
  {
   "cell_type": "markdown",
   "metadata": {},
   "source": [
    "This leaves us with just a handful of remaining columns that have null values. Of the columns that remain, it looks like the cylinders column and the displ column have a similar number of nulls. Perhaps they are missing for similar reasons. We can investigate this by subsetting the data set and looking at just the records where displ is null and just the columns we think will be informative in allowing us to determine a reason. "
   ]
  },
  {
   "cell_type": "markdown",
   "metadata": {},
   "source": [
    "## Create a new dataframe that shows only the row where `displ` is null. \n",
    "Keep only the columns you think are useful"
   ]
  },
  {
   "cell_type": "code",
   "execution_count": 188,
   "metadata": {},
   "outputs": [],
   "source": [
    "#There are more than one row where 'displ' is null, precisely, there are 120"
   ]
  },
  {
   "cell_type": "code",
   "execution_count": 189,
   "metadata": {},
   "outputs": [
    {
     "data": {
      "text/html": [
       "<div>\n",
       "<style scoped>\n",
       "    .dataframe tbody tr th:only-of-type {\n",
       "        vertical-align: middle;\n",
       "    }\n",
       "\n",
       "    .dataframe tbody tr th {\n",
       "        vertical-align: top;\n",
       "    }\n",
       "\n",
       "    .dataframe thead th {\n",
       "        text-align: right;\n",
       "    }\n",
       "</style>\n",
       "<table border=\"1\" class=\"dataframe\">\n",
       "  <thead>\n",
       "    <tr style=\"text-align: right;\">\n",
       "      <th></th>\n",
       "      <th>barrels08</th>\n",
       "      <th>barrelsA08</th>\n",
       "      <th>charge120</th>\n",
       "      <th>charge240</th>\n",
       "      <th>city08</th>\n",
       "      <th>city08U</th>\n",
       "      <th>cityA08</th>\n",
       "      <th>cityA08U</th>\n",
       "      <th>cityCD</th>\n",
       "      <th>cityE</th>\n",
       "      <th>...</th>\n",
       "      <th>UHighwayA</th>\n",
       "      <th>VClass</th>\n",
       "      <th>year</th>\n",
       "      <th>youSaveSpend</th>\n",
       "      <th>charge240b</th>\n",
       "      <th>createdOn</th>\n",
       "      <th>modifiedOn</th>\n",
       "      <th>phevCity</th>\n",
       "      <th>phevHwy</th>\n",
       "      <th>phevComb</th>\n",
       "    </tr>\n",
       "  </thead>\n",
       "  <tbody>\n",
       "    <tr>\n",
       "      <th>7138</th>\n",
       "      <td>0.240</td>\n",
       "      <td>0.0</td>\n",
       "      <td>0.0</td>\n",
       "      <td>0.0</td>\n",
       "      <td>81</td>\n",
       "      <td>0.0</td>\n",
       "      <td>0</td>\n",
       "      <td>0.0</td>\n",
       "      <td>0.0</td>\n",
       "      <td>41.0</td>\n",
       "      <td>...</td>\n",
       "      <td>0.0</td>\n",
       "      <td>Midsize Station Wagons</td>\n",
       "      <td>2000</td>\n",
       "      <td>2750</td>\n",
       "      <td>0.0</td>\n",
       "      <td>Tue Jan 01 00:00:00 EST 2013</td>\n",
       "      <td>Thu Jul 07 00:00:00 EDT 2016</td>\n",
       "      <td>0</td>\n",
       "      <td>0</td>\n",
       "      <td>0</td>\n",
       "    </tr>\n",
       "    <tr>\n",
       "      <th>7139</th>\n",
       "      <td>0.282</td>\n",
       "      <td>0.0</td>\n",
       "      <td>0.0</td>\n",
       "      <td>0.0</td>\n",
       "      <td>81</td>\n",
       "      <td>0.0</td>\n",
       "      <td>0</td>\n",
       "      <td>0.0</td>\n",
       "      <td>0.0</td>\n",
       "      <td>41.0</td>\n",
       "      <td>...</td>\n",
       "      <td>0.0</td>\n",
       "      <td>Sport Utility Vehicle - 2WD</td>\n",
       "      <td>2000</td>\n",
       "      <td>2250</td>\n",
       "      <td>0.0</td>\n",
       "      <td>Tue Jan 01 00:00:00 EST 2013</td>\n",
       "      <td>Thu Jul 07 00:00:00 EDT 2016</td>\n",
       "      <td>0</td>\n",
       "      <td>0</td>\n",
       "      <td>0</td>\n",
       "    </tr>\n",
       "  </tbody>\n",
       "</table>\n",
       "<p>2 rows × 70 columns</p>\n",
       "</div>"
      ],
      "text/plain": [
       "      barrels08  barrelsA08  charge120  charge240  city08  city08U  cityA08  \\\n",
       "7138      0.240         0.0        0.0        0.0      81      0.0        0   \n",
       "7139      0.282         0.0        0.0        0.0      81      0.0        0   \n",
       "\n",
       "      cityA08U  cityCD  cityE  ...  UHighwayA                       VClass  \\\n",
       "7138       0.0     0.0   41.0  ...        0.0       Midsize Station Wagons   \n",
       "7139       0.0     0.0   41.0  ...        0.0  Sport Utility Vehicle - 2WD   \n",
       "\n",
       "      year  youSaveSpend  charge240b                     createdOn  \\\n",
       "7138  2000          2750         0.0  Tue Jan 01 00:00:00 EST 2013   \n",
       "7139  2000          2250         0.0  Tue Jan 01 00:00:00 EST 2013   \n",
       "\n",
       "                        modifiedOn  phevCity  phevHwy  phevComb  \n",
       "7138  Thu Jul 07 00:00:00 EDT 2016         0        0         0  \n",
       "7139  Thu Jul 07 00:00:00 EDT 2016         0        0         0  \n",
       "\n",
       "[2 rows x 70 columns]"
      ]
     },
     "execution_count": 189,
     "metadata": {},
     "output_type": "execute_result"
    }
   ],
   "source": [
    "df_displ_null = df[df['displ'].isna()]\n",
    "df_displ_null.head(2)"
   ]
  },
  {
   "cell_type": "markdown",
   "metadata": {},
   "source": [
    "## Fill nan values with the most appropriate technique \n",
    "*HINT: Electric cars do not have cylinders and can therefore not have any displacement*"
   ]
  },
  {
   "cell_type": "markdown",
   "metadata": {},
   "source": [
    "## Bonus: \n",
    "Now that we have filled in those null values, there are only two columns in the data set that still have null values: trany and drive. Use what you have learned in this section to investigate and potentially fill in the remaining null values."
   ]
  },
  {
   "cell_type": "code",
   "execution_count": 190,
   "metadata": {},
   "outputs": [
    {
     "data": {
      "text/plain": [
       "drive        1189\n",
       "cylinders     123\n",
       "displ         120\n",
       "trany          11\n",
       "barrels08       0\n",
       "dtype: int64"
      ]
     },
     "execution_count": 190,
     "metadata": {},
     "output_type": "execute_result"
    }
   ],
   "source": [
    "df.isna().sum().sort_values(ascending = False).head()"
   ]
  },
  {
   "cell_type": "markdown",
   "metadata": {},
   "source": [
    "### Column 'drive'"
   ]
  },
  {
   "cell_type": "code",
   "execution_count": 191,
   "metadata": {},
   "outputs": [
    {
     "data": {
      "text/plain": [
       "Front-Wheel Drive             13286\n",
       "Rear-Wheel Drive              12931\n",
       "4-Wheel or All-Wheel Drive     6648\n",
       "All-Wheel Drive                2057\n",
       "4-Wheel Drive                  1065\n",
       "2-Wheel Drive                   507\n",
       "Part-time 4-Wheel Drive         159\n",
       "2-Wheel Drive, Front              1\n",
       "Name: drive, dtype: int64"
      ]
     },
     "execution_count": 191,
     "metadata": {},
     "output_type": "execute_result"
    }
   ],
   "source": [
    "df['drive'].value_counts()"
   ]
  },
  {
   "cell_type": "code",
   "execution_count": 192,
   "metadata": {},
   "outputs": [],
   "source": [
    "df['drive'].fillna('¿?', inplace = True)"
   ]
  },
  {
   "cell_type": "code",
   "execution_count": 193,
   "metadata": {},
   "outputs": [
    {
     "data": {
      "text/plain": [
       "cylinders    123\n",
       "displ        120\n",
       "trany         11\n",
       "barrels08      0\n",
       "range          0\n",
       "dtype: int64"
      ]
     },
     "execution_count": 193,
     "metadata": {},
     "output_type": "execute_result"
    }
   ],
   "source": [
    "df.isna().sum().sort_values(ascending = False).head()"
   ]
  },
  {
   "cell_type": "markdown",
   "metadata": {},
   "source": [
    "### Column 'cylinders'"
   ]
  },
  {
   "cell_type": "code",
   "execution_count": 194,
   "metadata": {},
   "outputs": [
    {
     "data": {
      "text/plain": [
       "Electricity    120\n",
       "Regular          3\n",
       "Name: fuelType, dtype: int64"
      ]
     },
     "execution_count": 194,
     "metadata": {},
     "output_type": "execute_result"
    }
   ],
   "source": [
    "df[\"fuelType\"].loc[df['cylinders'].isna()].value_counts()"
   ]
  },
  {
   "cell_type": "code",
   "execution_count": 195,
   "metadata": {},
   "outputs": [],
   "source": [
    "index_cyl = df[(df['fuelType'] == 'Electricity') & (df['cylinders'].isna())].index"
   ]
  },
  {
   "cell_type": "code",
   "execution_count": 196,
   "metadata": {},
   "outputs": [],
   "source": [
    "df.loc[index_cyl, 'cylinders'] = 0.0"
   ]
  },
  {
   "cell_type": "code",
   "execution_count": 197,
   "metadata": {},
   "outputs": [
    {
     "data": {
      "text/plain": [
       "displ        120\n",
       "trany         11\n",
       "cylinders      3\n",
       "barrels08      0\n",
       "range          0\n",
       "dtype: int64"
      ]
     },
     "execution_count": 197,
     "metadata": {},
     "output_type": "execute_result"
    }
   ],
   "source": [
    "df.isna().sum().sort_values(ascending = False).head()"
   ]
  },
  {
   "cell_type": "code",
   "execution_count": 198,
   "metadata": {},
   "outputs": [
    {
     "data": {
      "text/html": [
       "<div>\n",
       "<style scoped>\n",
       "    .dataframe tbody tr th:only-of-type {\n",
       "        vertical-align: middle;\n",
       "    }\n",
       "\n",
       "    .dataframe tbody tr th {\n",
       "        vertical-align: top;\n",
       "    }\n",
       "\n",
       "    .dataframe thead th {\n",
       "        text-align: right;\n",
       "    }\n",
       "</style>\n",
       "<table border=\"1\" class=\"dataframe\">\n",
       "  <thead>\n",
       "    <tr style=\"text-align: right;\">\n",
       "      <th></th>\n",
       "      <th>make</th>\n",
       "      <th>model</th>\n",
       "      <th>year</th>\n",
       "    </tr>\n",
       "  </thead>\n",
       "  <tbody>\n",
       "    <tr>\n",
       "      <th>21413</th>\n",
       "      <td>Subaru</td>\n",
       "      <td>RX Turbo</td>\n",
       "      <td>1985</td>\n",
       "    </tr>\n",
       "    <tr>\n",
       "      <th>21414</th>\n",
       "      <td>Subaru</td>\n",
       "      <td>RX Turbo</td>\n",
       "      <td>1985</td>\n",
       "    </tr>\n",
       "    <tr>\n",
       "      <th>21506</th>\n",
       "      <td>Mazda</td>\n",
       "      <td>RX-7</td>\n",
       "      <td>1986</td>\n",
       "    </tr>\n",
       "  </tbody>\n",
       "</table>\n",
       "</div>"
      ],
      "text/plain": [
       "         make     model  year\n",
       "21413  Subaru  RX Turbo  1985\n",
       "21414  Subaru  RX Turbo  1985\n",
       "21506   Mazda      RX-7  1986"
      ]
     },
     "execution_count": 198,
     "metadata": {},
     "output_type": "execute_result"
    }
   ],
   "source": [
    "df[['make', 'model', 'year']][df['cylinders'].isna()]"
   ]
  },
  {
   "cell_type": "raw",
   "metadata": {},
   "source": [
    "I asked Bard and receive the following information:\n",
    "\n",
    "    21413: Subaru RX Turbo 1985: 4 cilindros\n",
    "    21414: Subaru RX Turbo 1985: 4 cilindros\n",
    "    21506: Mazda RX-7 1986: 2 cilindros"
   ]
  },
  {
   "cell_type": "code",
   "execution_count": 199,
   "metadata": {},
   "outputs": [],
   "source": [
    "df.loc[21413, 'cylinders'] = 4.0\n",
    "df.loc[21414, 'cylinders'] = 4.0\n",
    "df.loc[21506, 'cylinders'] = 2.0"
   ]
  },
  {
   "cell_type": "code",
   "execution_count": 200,
   "metadata": {},
   "outputs": [
    {
     "data": {
      "text/plain": [
       "displ    120\n",
       "trany     11\n",
       "dtype: int64"
      ]
     },
     "execution_count": 200,
     "metadata": {},
     "output_type": "execute_result"
    }
   ],
   "source": [
    "df.isna().sum().sort_values(ascending = False).head(2)"
   ]
  },
  {
   "cell_type": "markdown",
   "metadata": {},
   "source": [
    "### Column 'displ'"
   ]
  },
  {
   "cell_type": "code",
   "execution_count": 201,
   "metadata": {},
   "outputs": [
    {
     "data": {
      "text/plain": [
       "Electricity    118\n",
       "Regular          2\n",
       "Name: fuelType, dtype: int64"
      ]
     },
     "execution_count": 201,
     "metadata": {},
     "output_type": "execute_result"
    }
   ],
   "source": [
    "df[\"fuelType\"].loc[df['displ'].isna()].value_counts()"
   ]
  },
  {
   "cell_type": "code",
   "execution_count": 202,
   "metadata": {},
   "outputs": [],
   "source": [
    "index_disp = df[(df['fuelType'] == 'Electricity') & (df['displ'].isna())].index"
   ]
  },
  {
   "cell_type": "code",
   "execution_count": 203,
   "metadata": {},
   "outputs": [],
   "source": [
    "df.loc[index_cyl, 'displ'] = 0.0"
   ]
  },
  {
   "cell_type": "code",
   "execution_count": 204,
   "metadata": {},
   "outputs": [
    {
     "data": {
      "text/plain": [
       "trany    11\n",
       "displ     2\n",
       "dtype: int64"
      ]
     },
     "execution_count": 204,
     "metadata": {},
     "output_type": "execute_result"
    }
   ],
   "source": [
    "df.isna().sum().sort_values(ascending = False).head(2)"
   ]
  },
  {
   "cell_type": "code",
   "execution_count": 205,
   "metadata": {},
   "outputs": [
    {
     "data": {
      "text/html": [
       "<div>\n",
       "<style scoped>\n",
       "    .dataframe tbody tr th:only-of-type {\n",
       "        vertical-align: middle;\n",
       "    }\n",
       "\n",
       "    .dataframe tbody tr th {\n",
       "        vertical-align: top;\n",
       "    }\n",
       "\n",
       "    .dataframe thead th {\n",
       "        text-align: right;\n",
       "    }\n",
       "</style>\n",
       "<table border=\"1\" class=\"dataframe\">\n",
       "  <thead>\n",
       "    <tr style=\"text-align: right;\">\n",
       "      <th></th>\n",
       "      <th>make</th>\n",
       "      <th>model</th>\n",
       "      <th>year</th>\n",
       "    </tr>\n",
       "  </thead>\n",
       "  <tbody>\n",
       "    <tr>\n",
       "      <th>21413</th>\n",
       "      <td>Subaru</td>\n",
       "      <td>RX Turbo</td>\n",
       "      <td>1985</td>\n",
       "    </tr>\n",
       "    <tr>\n",
       "      <th>21414</th>\n",
       "      <td>Subaru</td>\n",
       "      <td>RX Turbo</td>\n",
       "      <td>1985</td>\n",
       "    </tr>\n",
       "  </tbody>\n",
       "</table>\n",
       "</div>"
      ],
      "text/plain": [
       "         make     model  year\n",
       "21413  Subaru  RX Turbo  1985\n",
       "21414  Subaru  RX Turbo  1985"
      ]
     },
     "execution_count": 205,
     "metadata": {},
     "output_type": "execute_result"
    }
   ],
   "source": [
    "df[['make', 'model', 'year']][df['displ'].isna()]"
   ]
  },
  {
   "cell_type": "raw",
   "metadata": {},
   "source": [
    "I asked Bard and receive the following information:\n",
    "\n",
    "21413\tSubaru\tRX Turbo\t1985\t1.779 cc\n",
    "21414\tSubaru\tRX Turbo\t1985\t1.779 cc"
   ]
  },
  {
   "cell_type": "code",
   "execution_count": 206,
   "metadata": {},
   "outputs": [],
   "source": [
    "df.loc[21413, 'displ'] = 1779\n",
    "df.loc[21414, 'displ'] = 1779"
   ]
  },
  {
   "cell_type": "code",
   "execution_count": 207,
   "metadata": {},
   "outputs": [
    {
     "data": {
      "text/plain": [
       "trany        11\n",
       "barrels08     0\n",
       "dtype: int64"
      ]
     },
     "execution_count": 207,
     "metadata": {},
     "output_type": "execute_result"
    }
   ],
   "source": [
    "df.isna().sum().sort_values(ascending = False).head(2)"
   ]
  },
  {
   "cell_type": "markdown",
   "metadata": {},
   "source": [
    "### Column 'trany'"
   ]
  },
  {
   "cell_type": "code",
   "execution_count": 208,
   "metadata": {},
   "outputs": [
    {
     "data": {
      "text/html": [
       "<div>\n",
       "<style scoped>\n",
       "    .dataframe tbody tr th:only-of-type {\n",
       "        vertical-align: middle;\n",
       "    }\n",
       "\n",
       "    .dataframe tbody tr th {\n",
       "        vertical-align: top;\n",
       "    }\n",
       "\n",
       "    .dataframe thead th {\n",
       "        text-align: right;\n",
       "    }\n",
       "</style>\n",
       "<table border=\"1\" class=\"dataframe\">\n",
       "  <thead>\n",
       "    <tr style=\"text-align: right;\">\n",
       "      <th></th>\n",
       "      <th>make</th>\n",
       "      <th>model</th>\n",
       "      <th>year</th>\n",
       "      <th>fuelType</th>\n",
       "    </tr>\n",
       "  </thead>\n",
       "  <tbody>\n",
       "    <tr>\n",
       "      <th>7138</th>\n",
       "      <td>Nissan</td>\n",
       "      <td>Altra EV</td>\n",
       "      <td>2000</td>\n",
       "      <td>Electricity</td>\n",
       "    </tr>\n",
       "    <tr>\n",
       "      <th>7139</th>\n",
       "      <td>Toyota</td>\n",
       "      <td>RAV4 EV</td>\n",
       "      <td>2000</td>\n",
       "      <td>Electricity</td>\n",
       "    </tr>\n",
       "    <tr>\n",
       "      <th>8143</th>\n",
       "      <td>Toyota</td>\n",
       "      <td>RAV4 EV</td>\n",
       "      <td>2001</td>\n",
       "      <td>Electricity</td>\n",
       "    </tr>\n",
       "    <tr>\n",
       "      <th>8144</th>\n",
       "      <td>Ford</td>\n",
       "      <td>Th!nk</td>\n",
       "      <td>2001</td>\n",
       "      <td>Electricity</td>\n",
       "    </tr>\n",
       "    <tr>\n",
       "      <th>8146</th>\n",
       "      <td>Ford</td>\n",
       "      <td>Explorer USPS Electric</td>\n",
       "      <td>2001</td>\n",
       "      <td>Electricity</td>\n",
       "    </tr>\n",
       "    <tr>\n",
       "      <th>8147</th>\n",
       "      <td>Nissan</td>\n",
       "      <td>Hyper-Mini</td>\n",
       "      <td>2001</td>\n",
       "      <td>Electricity</td>\n",
       "    </tr>\n",
       "    <tr>\n",
       "      <th>9212</th>\n",
       "      <td>Toyota</td>\n",
       "      <td>RAV4 EV</td>\n",
       "      <td>2002</td>\n",
       "      <td>Electricity</td>\n",
       "    </tr>\n",
       "    <tr>\n",
       "      <th>9213</th>\n",
       "      <td>Ford</td>\n",
       "      <td>Explorer USPS Electric</td>\n",
       "      <td>2002</td>\n",
       "      <td>Electricity</td>\n",
       "    </tr>\n",
       "    <tr>\n",
       "      <th>10329</th>\n",
       "      <td>Toyota</td>\n",
       "      <td>RAV4 EV</td>\n",
       "      <td>2003</td>\n",
       "      <td>Electricity</td>\n",
       "    </tr>\n",
       "    <tr>\n",
       "      <th>19097</th>\n",
       "      <td>Ford</td>\n",
       "      <td>F150 Pickup 2WD</td>\n",
       "      <td>1984</td>\n",
       "      <td>Regular</td>\n",
       "    </tr>\n",
       "    <tr>\n",
       "      <th>19128</th>\n",
       "      <td>GMC</td>\n",
       "      <td>C25 Pickup 2WD</td>\n",
       "      <td>1984</td>\n",
       "      <td>Regular</td>\n",
       "    </tr>\n",
       "  </tbody>\n",
       "</table>\n",
       "</div>"
      ],
      "text/plain": [
       "         make                   model  year     fuelType\n",
       "7138   Nissan                Altra EV  2000  Electricity\n",
       "7139   Toyota                 RAV4 EV  2000  Electricity\n",
       "8143   Toyota                 RAV4 EV  2001  Electricity\n",
       "8144     Ford                   Th!nk  2001  Electricity\n",
       "8146     Ford  Explorer USPS Electric  2001  Electricity\n",
       "8147   Nissan              Hyper-Mini  2001  Electricity\n",
       "9212   Toyota                 RAV4 EV  2002  Electricity\n",
       "9213     Ford  Explorer USPS Electric  2002  Electricity\n",
       "10329  Toyota                 RAV4 EV  2003  Electricity\n",
       "19097    Ford         F150 Pickup 2WD  1984      Regular\n",
       "19128     GMC          C25 Pickup 2WD  1984      Regular"
      ]
     },
     "execution_count": 208,
     "metadata": {},
     "output_type": "execute_result"
    }
   ],
   "source": [
    "df[['make', 'model', 'year', 'fuelType']][df['trany'].isna()]"
   ]
  },
  {
   "cell_type": "code",
   "execution_count": 209,
   "metadata": {},
   "outputs": [],
   "source": [
    "index_trany = df[(df['fuelType'] == 'Electricity') & (df['trany'].isna())].index"
   ]
  },
  {
   "cell_type": "code",
   "execution_count": 210,
   "metadata": {},
   "outputs": [],
   "source": [
    "df.loc[index_trany, 'trany'] = 'Automatic'"
   ]
  },
  {
   "cell_type": "code",
   "execution_count": 211,
   "metadata": {},
   "outputs": [
    {
     "data": {
      "text/html": [
       "<div>\n",
       "<style scoped>\n",
       "    .dataframe tbody tr th:only-of-type {\n",
       "        vertical-align: middle;\n",
       "    }\n",
       "\n",
       "    .dataframe tbody tr th {\n",
       "        vertical-align: top;\n",
       "    }\n",
       "\n",
       "    .dataframe thead th {\n",
       "        text-align: right;\n",
       "    }\n",
       "</style>\n",
       "<table border=\"1\" class=\"dataframe\">\n",
       "  <thead>\n",
       "    <tr style=\"text-align: right;\">\n",
       "      <th></th>\n",
       "      <th>make</th>\n",
       "      <th>model</th>\n",
       "      <th>year</th>\n",
       "      <th>fuelType</th>\n",
       "    </tr>\n",
       "  </thead>\n",
       "  <tbody>\n",
       "    <tr>\n",
       "      <th>19097</th>\n",
       "      <td>Ford</td>\n",
       "      <td>F150 Pickup 2WD</td>\n",
       "      <td>1984</td>\n",
       "      <td>Regular</td>\n",
       "    </tr>\n",
       "    <tr>\n",
       "      <th>19128</th>\n",
       "      <td>GMC</td>\n",
       "      <td>C25 Pickup 2WD</td>\n",
       "      <td>1984</td>\n",
       "      <td>Regular</td>\n",
       "    </tr>\n",
       "  </tbody>\n",
       "</table>\n",
       "</div>"
      ],
      "text/plain": [
       "       make            model  year fuelType\n",
       "19097  Ford  F150 Pickup 2WD  1984  Regular\n",
       "19128   GMC   C25 Pickup 2WD  1984  Regular"
      ]
     },
     "execution_count": 211,
     "metadata": {},
     "output_type": "execute_result"
    }
   ],
   "source": [
    "df[['make', 'model', 'year', 'fuelType']][df['trany'].isna()]"
   ]
  },
  {
   "cell_type": "raw",
   "metadata": {},
   "source": [
    "I asked Bard and receive the following information:\n",
    "\n",
    "19097: Ford F-150 Pickup 2WD (1984): automático de 3 velocidades\n",
    "19128: GMC C25 Pickup 2WD (1984): manual de 5 velocidades"
   ]
  },
  {
   "cell_type": "code",
   "execution_count": 212,
   "metadata": {},
   "outputs": [],
   "source": [
    "df.loc[19097, 'trany'] = 'Automatic 3sp'\n",
    "df.loc[19128, 'trany'] = 'Manual 5sp'"
   ]
  },
  {
   "cell_type": "code",
   "execution_count": 213,
   "metadata": {},
   "outputs": [
    {
     "data": {
      "text/plain": [
       "barrels08      0\n",
       "lv4            0\n",
       "pv4            0\n",
       "pv2            0\n",
       "phevBlended    0\n",
       "dtype: int64"
      ]
     },
     "execution_count": 213,
     "metadata": {},
     "output_type": "execute_result"
    }
   ],
   "source": [
    "df.isna().sum().sort_values(ascending = False).head()"
   ]
  },
  {
   "cell_type": "markdown",
   "metadata": {},
   "source": [
    "# Incorrect Values\n",
    "\n",
    "In addition to null values, we also want to try to identify any values that seem incorrect. For example, in the previous section, we learned that a vehicle without cylinders should not have displacement and vice versa. Let's check to see if there are any cases that violate these rules."
   ]
  },
  {
   "cell_type": "code",
   "execution_count": 214,
   "metadata": {},
   "outputs": [
    {
     "data": {
      "text/plain": [
       "0"
      ]
     },
     "execution_count": 214,
     "metadata": {},
     "output_type": "execute_result"
    }
   ],
   "source": [
    "len(df[(df['cylinders'] == 0.0) & (df['displ'] != 0.0)])"
   ]
  },
  {
   "cell_type": "code",
   "execution_count": 215,
   "metadata": {},
   "outputs": [
    {
     "data": {
      "text/plain": [
       "0"
      ]
     },
     "execution_count": 215,
     "metadata": {},
     "output_type": "execute_result"
    }
   ],
   "source": [
    "len(df[(df['cylinders'] != 0.0) & (df['displ'] == 0.0)])"
   ]
  },
  {
   "cell_type": "markdown",
   "metadata": {},
   "source": [
    "Is there any row that seems to have strange values?"
   ]
  },
  {
   "cell_type": "raw",
   "metadata": {},
   "source": [
    "No"
   ]
  },
  {
   "cell_type": "markdown",
   "metadata": {},
   "source": [
    "Here we have identified a vehicle with a regular gasoline engine that reportedly does not have any cylinders but does have a value for displacement. "
   ]
  },
  {
   "cell_type": "raw",
   "metadata": {},
   "source": [
    "I already solve the problem with the cylinders of the Mazda RX-7 when cleaning the NaN's of the column 'cylinders'"
   ]
  },
  {
   "cell_type": "markdown",
   "metadata": {},
   "source": [
    "The way we would correct this would be to either perform some domain research or ask a domain expert to find out how many actual cylinders this vehicle had. Alternatively, you can also try to look at similar vehicles in the data set and determine the most likely value for this field."
   ]
  },
  {
   "cell_type": "markdown",
   "metadata": {},
   "source": [
    "## Check similar rows"
   ]
  },
  {
   "cell_type": "code",
   "execution_count": 218,
   "metadata": {},
   "outputs": [
    {
     "data": {
      "text/plain": [
       "False"
      ]
     },
     "execution_count": 218,
     "metadata": {},
     "output_type": "execute_result"
    }
   ],
   "source": [
    "df.duplicated().any()"
   ]
  },
  {
   "cell_type": "markdown",
   "metadata": {},
   "source": [
    "Suppose that using one of the aforementioned methods, we found out that this vehicle actually has a 4 cylinder engine. Update that specific value in the data frame. "
   ]
  },
  {
   "cell_type": "raw",
   "metadata": {},
   "source": [
    "If we want to change the cylinder of one vehicle, we can change it using the next line:\n",
    "\n",
    "df.loc[indexofthevehicle, 'cylinders'] = 4.0"
   ]
  },
  {
   "cell_type": "markdown",
   "metadata": {},
   "source": [
    "## Bonus: \n",
    " Try to find other values that might be incorrect in the data set based on what you know about automobiles and correct them."
   ]
  },
  {
   "cell_type": "markdown",
   "metadata": {},
   "source": [
    "### Clean 'drive' column"
   ]
  },
  {
   "cell_type": "code",
   "execution_count": 219,
   "metadata": {},
   "outputs": [
    {
     "data": {
      "text/plain": [
       "Front-Wheel Drive             13286\n",
       "Rear-Wheel Drive              12931\n",
       "4-Wheel or All-Wheel Drive     6648\n",
       "All-Wheel Drive                2057\n",
       "¿?                             1189\n",
       "4-Wheel Drive                  1065\n",
       "2-Wheel Drive                   507\n",
       "Part-time 4-Wheel Drive         159\n",
       "2-Wheel Drive, Front              1\n",
       "Name: drive, dtype: int64"
      ]
     },
     "execution_count": 219,
     "metadata": {},
     "output_type": "execute_result"
    }
   ],
   "source": [
    "df['drive'].value_counts()"
   ]
  },
  {
   "cell_type": "code",
   "execution_count": 220,
   "metadata": {},
   "outputs": [],
   "source": [
    "def clean_drive(x):\n",
    "    x = x.lower()\n",
    "    if 'all' in x:\n",
    "        return 'All-Wheel'\n",
    "    elif '4' in x:\n",
    "        return 'All-Wheel'\n",
    "    elif 'front' in x:\n",
    "        return '2-Wheel_Front'\n",
    "    elif 'rear' in x:\n",
    "        return '2-Wheel_Rear'\n",
    "    elif '2' in x:\n",
    "        return '2-Wheel'\n",
    "    else:\n",
    "        return 'unknown'"
   ]
  },
  {
   "cell_type": "code",
   "execution_count": 221,
   "metadata": {},
   "outputs": [],
   "source": [
    "df['drive'] = df['drive'].apply(clean_drive)"
   ]
  },
  {
   "cell_type": "code",
   "execution_count": 222,
   "metadata": {},
   "outputs": [
    {
     "data": {
      "text/plain": [
       "2-Wheel_Front    13287\n",
       "2-Wheel_Rear     12931\n",
       "All-Wheel         9929\n",
       "unknown           1189\n",
       "2-Wheel            507\n",
       "Name: drive, dtype: int64"
      ]
     },
     "execution_count": 222,
     "metadata": {},
     "output_type": "execute_result"
    }
   ],
   "source": [
    "df['drive'].value_counts()"
   ]
  },
  {
   "cell_type": "markdown",
   "metadata": {},
   "source": [
    "### Clean 'trany' column"
   ]
  },
  {
   "cell_type": "code",
   "execution_count": 223,
   "metadata": {},
   "outputs": [
    {
     "data": {
      "text/plain": [
       "Automatic 4-spd                     11042\n",
       "Manual 5-spd                         8311\n",
       "Automatic 3-spd                      3151\n",
       "Automatic (S6)                       2638\n",
       "Manual 6-spd                         2429\n",
       "Automatic 5-spd                      2184\n",
       "Manual 4-spd                         1483\n",
       "Automatic 6-spd                      1432\n",
       "Automatic (S8)                        960\n",
       "Automatic (S5)                        824\n",
       "Automatic (variable gear ratios)      681\n",
       "Automatic 7-spd                       663\n",
       "Automatic (S7)                        261\n",
       "Auto(AM-S7)                           256\n",
       "Automatic 8-spd                       243\n",
       "Automatic (S4)                        233\n",
       "Auto(AM7)                             160\n",
       "Auto(AV-S6)                           145\n",
       "Auto(AM6)                             110\n",
       "Automatic (A1)                        109\n",
       "Auto(AM-S6)                            92\n",
       "Automatic 9-spd                        90\n",
       "Manual 3-spd                           77\n",
       "Manual 7-spd                           68\n",
       "Auto(AV-S7)                            63\n",
       "Auto(AV-S8)                            26\n",
       "Automatic (S9)                         26\n",
       "Manual 4-spd Doubled                   17\n",
       "Auto(AM5)                              12\n",
       "Automatic (AV-S6)                       9\n",
       "Automatic                               9\n",
       "Auto(AM-S8)                             6\n",
       "Auto(AM8)                               5\n",
       "Automatic (AV)                          4\n",
       "Automatic (A6)                          4\n",
       "Manual(M7)                              3\n",
       "Auto(L3)                                2\n",
       "Auto(L4)                                2\n",
       "Auto (AV)                               2\n",
       "Automatic (AM5)                         2\n",
       "Auto(A1)                                1\n",
       "Manual 5sp                              1\n",
       "Automatic 6spd                          1\n",
       "Auto (AV-S8)                            1\n",
       "Auto (AV-S6)                            1\n",
       "Automatic (AM6)                         1\n",
       "Manual 5 spd                            1\n",
       "Automatic 3sp                           1\n",
       "Auto(AM-S9)                             1\n",
       "Name: trany, dtype: int64"
      ]
     },
     "execution_count": 223,
     "metadata": {},
     "output_type": "execute_result"
    }
   ],
   "source": [
    "df['trany'].value_counts()"
   ]
  },
  {
   "cell_type": "code",
   "execution_count": 224,
   "metadata": {},
   "outputs": [],
   "source": [
    "def extract_number(x):\n",
    "    num = re.findall('\\d+', x)\n",
    "    if num:         \n",
    "        return int(num[0])\n",
    "    else:\n",
    "        return 0"
   ]
  },
  {
   "cell_type": "code",
   "execution_count": 225,
   "metadata": {},
   "outputs": [],
   "source": [
    "df['gear'] = df['trany'].apply(extract_number)"
   ]
  },
  {
   "cell_type": "code",
   "execution_count": 226,
   "metadata": {},
   "outputs": [],
   "source": [
    "def clean_trany(x):\n",
    "    x = x.lower()    \n",
    "    if 'auto' in x:\n",
    "        return 'Automatic'\n",
    "    elif 'man' in x:\n",
    "        return 'Manual'\n",
    "    else:\n",
    "        return 'unknown'"
   ]
  },
  {
   "cell_type": "code",
   "execution_count": 227,
   "metadata": {},
   "outputs": [],
   "source": [
    "df['trany'] = df['trany'].apply(clean_trany)"
   ]
  },
  {
   "cell_type": "code",
   "execution_count": 228,
   "metadata": {},
   "outputs": [
    {
     "data": {
      "text/plain": [
       "Automatic    25453\n",
       "Manual       12390\n",
       "Name: trany, dtype: int64"
      ]
     },
     "execution_count": 228,
     "metadata": {},
     "output_type": "execute_result"
    }
   ],
   "source": [
    "df['trany'].value_counts()"
   ]
  },
  {
   "cell_type": "markdown",
   "metadata": {},
   "source": [
    "# Low Variance Columns\n",
    "\n",
    "When analyzing data, we want the fields we are working with to be informative, and we will want to strip away any columns that don't have a lot of value to us. One easy way to do this is to identify columns that have low variance, where the majority of the values in the column are the same. Since there is not a lot of variability in these columns, they have the potential to not be as informative as columns that have a variety of different values in them.\n",
    "\n",
    "Let's try to identify columns where at least 90% of the values are the same so that we can remove them from our data set. To do this, we are going to create an empty list called low_variance that will eventually contain the names of columns that fit our criteria.\n",
    "\n",
    "We will then write a for loop that will take the minimum and the 90th percentile value for all the numeric columns in our data set (identified via the _get_numeric_data method). If the 90th percentile and the minimum are equal to each other, that means that at least 90% of the values in that column are the same and we will append that column name to our low_variance list. "
   ]
  },
  {
   "cell_type": "markdown",
   "metadata": {},
   "source": [
    "### Constant Columns"
   ]
  },
  {
   "cell_type": "code",
   "execution_count": 229,
   "metadata": {},
   "outputs": [
    {
     "data": {
      "text/plain": [
       "['charge120']"
      ]
     },
     "execution_count": 229,
     "metadata": {},
     "output_type": "execute_result"
    }
   ],
   "source": [
    "cte_cols = []\n",
    "\n",
    "for col in df.select_dtypes(include = np.number):\n",
    "    \n",
    "    if len(df[col].unique()) == 1:\n",
    "        cte_cols.append(col)\n",
    "        \n",
    "cte_cols"
   ]
  },
  {
   "cell_type": "code",
   "execution_count": 230,
   "metadata": {},
   "outputs": [],
   "source": [
    "df.drop(columns='charge120', inplace = True)"
   ]
  },
  {
   "cell_type": "code",
   "execution_count": 231,
   "metadata": {},
   "outputs": [
    {
     "data": {
      "text/plain": [
       "['charge120']"
      ]
     },
     "execution_count": 231,
     "metadata": {},
     "output_type": "execute_result"
    }
   ],
   "source": [
    "cte_cols"
   ]
  },
  {
   "cell_type": "code",
   "execution_count": 232,
   "metadata": {},
   "outputs": [
    {
     "data": {
      "text/plain": [
       "[]"
      ]
     },
     "execution_count": 232,
     "metadata": {},
     "output_type": "execute_result"
    }
   ],
   "source": [
    "cte_str_cols = []\n",
    "\n",
    "for col in df.select_dtypes(include = 'object'):\n",
    "    \n",
    "    if len(df[col].unique()) == 1:\n",
    "        cte_str_cols.append(col)\n",
    "          \n",
    "cte_str_cols"
   ]
  },
  {
   "cell_type": "markdown",
   "metadata": {},
   "source": [
    "### Low Variance Columns"
   ]
  },
  {
   "cell_type": "code",
   "execution_count": 233,
   "metadata": {},
   "outputs": [],
   "source": [
    "low_variance = []\n",
    "\n",
    "for col in df.select_dtypes(include = np.number): \n",
    "    \n",
    "    minimo = df[col].min()\n",
    "    maximo = df[col].max()\n",
    "    \n",
    "    per_90 = np.percentile(df[col], 90)\n",
    "    per_10 = np.percentile(df[col], 10)\n",
    "    \n",
    "    if minimo == per_90 or maximo == per_10:\n",
    "        low_variance.append(col)\n",
    "        \n",
    "low_variance;"
   ]
  },
  {
   "cell_type": "code",
   "execution_count": 234,
   "metadata": {},
   "outputs": [
    {
     "data": {
      "text/plain": [
       "32"
      ]
     },
     "execution_count": 234,
     "metadata": {},
     "output_type": "execute_result"
    }
   ],
   "source": [
    "len(low_variance)"
   ]
  },
  {
   "cell_type": "markdown",
   "metadata": {},
   "source": [
    "This returned 34 columns that we could potentially eliminate due to not having high enough variability to be informative. Of course, before we do this, we should check the values that do exist in these fields to confirm that they are not very informative. Once they have been checked, we can use the the drop method like we did earlier in this lesson to remove those columns from our data frame.\n",
    "\n"
   ]
  },
  {
   "cell_type": "code",
   "execution_count": 235,
   "metadata": {},
   "outputs": [
    {
     "data": {
      "text/html": [
       "<div>\n",
       "<style scoped>\n",
       "    .dataframe tbody tr th:only-of-type {\n",
       "        vertical-align: middle;\n",
       "    }\n",
       "\n",
       "    .dataframe tbody tr th {\n",
       "        vertical-align: top;\n",
       "    }\n",
       "\n",
       "    .dataframe thead th {\n",
       "        text-align: right;\n",
       "    }\n",
       "</style>\n",
       "<table border=\"1\" class=\"dataframe\">\n",
       "  <thead>\n",
       "    <tr style=\"text-align: right;\">\n",
       "      <th></th>\n",
       "      <th>count</th>\n",
       "      <th>mean</th>\n",
       "      <th>std</th>\n",
       "      <th>min</th>\n",
       "      <th>25%</th>\n",
       "      <th>50%</th>\n",
       "      <th>75%</th>\n",
       "      <th>max</th>\n",
       "    </tr>\n",
       "  </thead>\n",
       "  <tbody>\n",
       "    <tr>\n",
       "      <th>barrelsA08</th>\n",
       "      <td>37843.0</td>\n",
       "      <td>0.216169</td>\n",
       "      <td>1.141527</td>\n",
       "      <td>0.0</td>\n",
       "      <td>0.0</td>\n",
       "      <td>0.0</td>\n",
       "      <td>0.0</td>\n",
       "      <td>18.311667</td>\n",
       "    </tr>\n",
       "    <tr>\n",
       "      <th>charge240</th>\n",
       "      <td>37843.0</td>\n",
       "      <td>0.023531</td>\n",
       "      <td>0.427647</td>\n",
       "      <td>0.0</td>\n",
       "      <td>0.0</td>\n",
       "      <td>0.0</td>\n",
       "      <td>0.0</td>\n",
       "      <td>12.000000</td>\n",
       "    </tr>\n",
       "    <tr>\n",
       "      <th>cityA08</th>\n",
       "      <td>37843.0</td>\n",
       "      <td>0.520149</td>\n",
       "      <td>3.837874</td>\n",
       "      <td>0.0</td>\n",
       "      <td>0.0</td>\n",
       "      <td>0.0</td>\n",
       "      <td>0.0</td>\n",
       "      <td>127.000000</td>\n",
       "    </tr>\n",
       "    <tr>\n",
       "      <th>cityA08U</th>\n",
       "      <td>37843.0</td>\n",
       "      <td>0.327163</td>\n",
       "      <td>3.542596</td>\n",
       "      <td>0.0</td>\n",
       "      <td>0.0</td>\n",
       "      <td>0.0</td>\n",
       "      <td>0.0</td>\n",
       "      <td>127.093000</td>\n",
       "    </tr>\n",
       "    <tr>\n",
       "      <th>cityCD</th>\n",
       "      <td>37843.0</td>\n",
       "      <td>0.000406</td>\n",
       "      <td>0.039918</td>\n",
       "      <td>0.0</td>\n",
       "      <td>0.0</td>\n",
       "      <td>0.0</td>\n",
       "      <td>0.0</td>\n",
       "      <td>5.350000</td>\n",
       "    </tr>\n",
       "    <tr>\n",
       "      <th>cityE</th>\n",
       "      <td>37843.0</td>\n",
       "      <td>0.184790</td>\n",
       "      <td>2.904558</td>\n",
       "      <td>0.0</td>\n",
       "      <td>0.0</td>\n",
       "      <td>0.0</td>\n",
       "      <td>0.0</td>\n",
       "      <td>122.000000</td>\n",
       "    </tr>\n",
       "    <tr>\n",
       "      <th>cityUF</th>\n",
       "      <td>37843.0</td>\n",
       "      <td>0.000706</td>\n",
       "      <td>0.019458</td>\n",
       "      <td>0.0</td>\n",
       "      <td>0.0</td>\n",
       "      <td>0.0</td>\n",
       "      <td>0.0</td>\n",
       "      <td>0.849000</td>\n",
       "    </tr>\n",
       "    <tr>\n",
       "      <th>co2A</th>\n",
       "      <td>37843.0</td>\n",
       "      <td>5.349919</td>\n",
       "      <td>55.539497</td>\n",
       "      <td>-1.0</td>\n",
       "      <td>-1.0</td>\n",
       "      <td>-1.0</td>\n",
       "      <td>-1.0</td>\n",
       "      <td>719.000000</td>\n",
       "    </tr>\n",
       "    <tr>\n",
       "      <th>co2TailpipeAGpm</th>\n",
       "      <td>37843.0</td>\n",
       "      <td>17.771433</td>\n",
       "      <td>94.129283</td>\n",
       "      <td>0.0</td>\n",
       "      <td>0.0</td>\n",
       "      <td>0.0</td>\n",
       "      <td>0.0</td>\n",
       "      <td>719.000000</td>\n",
       "    </tr>\n",
       "    <tr>\n",
       "      <th>combA08</th>\n",
       "      <td>37843.0</td>\n",
       "      <td>0.581191</td>\n",
       "      <td>3.966255</td>\n",
       "      <td>0.0</td>\n",
       "      <td>0.0</td>\n",
       "      <td>0.0</td>\n",
       "      <td>0.0</td>\n",
       "      <td>117.000000</td>\n",
       "    </tr>\n",
       "    <tr>\n",
       "      <th>combA08U</th>\n",
       "      <td>37843.0</td>\n",
       "      <td>0.359027</td>\n",
       "      <td>3.589260</td>\n",
       "      <td>0.0</td>\n",
       "      <td>0.0</td>\n",
       "      <td>0.0</td>\n",
       "      <td>0.0</td>\n",
       "      <td>116.936400</td>\n",
       "    </tr>\n",
       "    <tr>\n",
       "      <th>combE</th>\n",
       "      <td>37843.0</td>\n",
       "      <td>0.190575</td>\n",
       "      <td>2.979567</td>\n",
       "      <td>0.0</td>\n",
       "      <td>0.0</td>\n",
       "      <td>0.0</td>\n",
       "      <td>0.0</td>\n",
       "      <td>121.000000</td>\n",
       "    </tr>\n",
       "    <tr>\n",
       "      <th>combinedCD</th>\n",
       "      <td>37843.0</td>\n",
       "      <td>0.000335</td>\n",
       "      <td>0.035284</td>\n",
       "      <td>0.0</td>\n",
       "      <td>0.0</td>\n",
       "      <td>0.0</td>\n",
       "      <td>0.0</td>\n",
       "      <td>4.800000</td>\n",
       "    </tr>\n",
       "    <tr>\n",
       "      <th>combinedUF</th>\n",
       "      <td>37843.0</td>\n",
       "      <td>0.000691</td>\n",
       "      <td>0.019049</td>\n",
       "      <td>0.0</td>\n",
       "      <td>0.0</td>\n",
       "      <td>0.0</td>\n",
       "      <td>0.0</td>\n",
       "      <td>0.834000</td>\n",
       "    </tr>\n",
       "    <tr>\n",
       "      <th>fuelCostA08</th>\n",
       "      <td>37843.0</td>\n",
       "      <td>79.070105</td>\n",
       "      <td>417.668580</td>\n",
       "      <td>0.0</td>\n",
       "      <td>0.0</td>\n",
       "      <td>0.0</td>\n",
       "      <td>0.0</td>\n",
       "      <td>3800.000000</td>\n",
       "    </tr>\n",
       "    <tr>\n",
       "      <th>ghgScoreA</th>\n",
       "      <td>37843.0</td>\n",
       "      <td>-0.929630</td>\n",
       "      <td>0.627565</td>\n",
       "      <td>-1.0</td>\n",
       "      <td>-1.0</td>\n",
       "      <td>-1.0</td>\n",
       "      <td>-1.0</td>\n",
       "      <td>8.000000</td>\n",
       "    </tr>\n",
       "    <tr>\n",
       "      <th>highwayA08</th>\n",
       "      <td>37843.0</td>\n",
       "      <td>0.686891</td>\n",
       "      <td>4.308934</td>\n",
       "      <td>0.0</td>\n",
       "      <td>0.0</td>\n",
       "      <td>0.0</td>\n",
       "      <td>0.0</td>\n",
       "      <td>107.000000</td>\n",
       "    </tr>\n",
       "    <tr>\n",
       "      <th>highwayA08U</th>\n",
       "      <td>37843.0</td>\n",
       "      <td>0.418698</td>\n",
       "      <td>3.808877</td>\n",
       "      <td>0.0</td>\n",
       "      <td>0.0</td>\n",
       "      <td>0.0</td>\n",
       "      <td>0.0</td>\n",
       "      <td>106.531000</td>\n",
       "    </tr>\n",
       "    <tr>\n",
       "      <th>highwayCD</th>\n",
       "      <td>37843.0</td>\n",
       "      <td>0.000233</td>\n",
       "      <td>0.029564</td>\n",
       "      <td>0.0</td>\n",
       "      <td>0.0</td>\n",
       "      <td>0.0</td>\n",
       "      <td>0.0</td>\n",
       "      <td>4.060000</td>\n",
       "    </tr>\n",
       "    <tr>\n",
       "      <th>highwayE</th>\n",
       "      <td>37843.0</td>\n",
       "      <td>0.198247</td>\n",
       "      <td>3.091862</td>\n",
       "      <td>0.0</td>\n",
       "      <td>0.0</td>\n",
       "      <td>0.0</td>\n",
       "      <td>0.0</td>\n",
       "      <td>120.000000</td>\n",
       "    </tr>\n",
       "    <tr>\n",
       "      <th>highwayUF</th>\n",
       "      <td>37843.0</td>\n",
       "      <td>0.000673</td>\n",
       "      <td>0.018583</td>\n",
       "      <td>0.0</td>\n",
       "      <td>0.0</td>\n",
       "      <td>0.0</td>\n",
       "      <td>0.0</td>\n",
       "      <td>0.813000</td>\n",
       "    </tr>\n",
       "    <tr>\n",
       "      <th>range</th>\n",
       "      <td>37843.0</td>\n",
       "      <td>0.392675</td>\n",
       "      <td>8.251191</td>\n",
       "      <td>0.0</td>\n",
       "      <td>0.0</td>\n",
       "      <td>0.0</td>\n",
       "      <td>0.0</td>\n",
       "      <td>315.000000</td>\n",
       "    </tr>\n",
       "    <tr>\n",
       "      <th>rangeCity</th>\n",
       "      <td>37843.0</td>\n",
       "      <td>0.352618</td>\n",
       "      <td>8.049082</td>\n",
       "      <td>0.0</td>\n",
       "      <td>0.0</td>\n",
       "      <td>0.0</td>\n",
       "      <td>0.0</td>\n",
       "      <td>305.900000</td>\n",
       "    </tr>\n",
       "    <tr>\n",
       "      <th>rangeCityA</th>\n",
       "      <td>37843.0</td>\n",
       "      <td>0.036800</td>\n",
       "      <td>1.158270</td>\n",
       "      <td>0.0</td>\n",
       "      <td>0.0</td>\n",
       "      <td>0.0</td>\n",
       "      <td>0.0</td>\n",
       "      <td>77.504000</td>\n",
       "    </tr>\n",
       "    <tr>\n",
       "      <th>rangeHwy</th>\n",
       "      <td>37843.0</td>\n",
       "      <td>0.343399</td>\n",
       "      <td>8.171939</td>\n",
       "      <td>0.0</td>\n",
       "      <td>0.0</td>\n",
       "      <td>0.0</td>\n",
       "      <td>0.0</td>\n",
       "      <td>346.900000</td>\n",
       "    </tr>\n",
       "    <tr>\n",
       "      <th>rangeHwyA</th>\n",
       "      <td>37843.0</td>\n",
       "      <td>0.033475</td>\n",
       "      <td>1.032642</td>\n",
       "      <td>0.0</td>\n",
       "      <td>0.0</td>\n",
       "      <td>0.0</td>\n",
       "      <td>0.0</td>\n",
       "      <td>65.632000</td>\n",
       "    </tr>\n",
       "    <tr>\n",
       "      <th>UCityA</th>\n",
       "      <td>37843.0</td>\n",
       "      <td>0.652380</td>\n",
       "      <td>5.284547</td>\n",
       "      <td>0.0</td>\n",
       "      <td>0.0</td>\n",
       "      <td>0.0</td>\n",
       "      <td>0.0</td>\n",
       "      <td>181.560900</td>\n",
       "    </tr>\n",
       "    <tr>\n",
       "      <th>UHighwayA</th>\n",
       "      <td>37843.0</td>\n",
       "      <td>0.933845</td>\n",
       "      <td>6.059456</td>\n",
       "      <td>0.0</td>\n",
       "      <td>0.0</td>\n",
       "      <td>0.0</td>\n",
       "      <td>0.0</td>\n",
       "      <td>152.187800</td>\n",
       "    </tr>\n",
       "    <tr>\n",
       "      <th>charge240b</th>\n",
       "      <td>37843.0</td>\n",
       "      <td>0.004360</td>\n",
       "      <td>0.142776</td>\n",
       "      <td>0.0</td>\n",
       "      <td>0.0</td>\n",
       "      <td>0.0</td>\n",
       "      <td>0.0</td>\n",
       "      <td>7.000000</td>\n",
       "    </tr>\n",
       "    <tr>\n",
       "      <th>phevCity</th>\n",
       "      <td>37843.0</td>\n",
       "      <td>0.069313</td>\n",
       "      <td>1.966806</td>\n",
       "      <td>0.0</td>\n",
       "      <td>0.0</td>\n",
       "      <td>0.0</td>\n",
       "      <td>0.0</td>\n",
       "      <td>97.000000</td>\n",
       "    </tr>\n",
       "    <tr>\n",
       "      <th>phevHwy</th>\n",
       "      <td>37843.0</td>\n",
       "      <td>0.068203</td>\n",
       "      <td>1.871986</td>\n",
       "      <td>0.0</td>\n",
       "      <td>0.0</td>\n",
       "      <td>0.0</td>\n",
       "      <td>0.0</td>\n",
       "      <td>79.000000</td>\n",
       "    </tr>\n",
       "    <tr>\n",
       "      <th>phevComb</th>\n",
       "      <td>37843.0</td>\n",
       "      <td>0.068573</td>\n",
       "      <td>1.913647</td>\n",
       "      <td>0.0</td>\n",
       "      <td>0.0</td>\n",
       "      <td>0.0</td>\n",
       "      <td>0.0</td>\n",
       "      <td>88.000000</td>\n",
       "    </tr>\n",
       "  </tbody>\n",
       "</table>\n",
       "</div>"
      ],
      "text/plain": [
       "                   count       mean         std  min  25%  50%  75%  \\\n",
       "barrelsA08       37843.0   0.216169    1.141527  0.0  0.0  0.0  0.0   \n",
       "charge240        37843.0   0.023531    0.427647  0.0  0.0  0.0  0.0   \n",
       "cityA08          37843.0   0.520149    3.837874  0.0  0.0  0.0  0.0   \n",
       "cityA08U         37843.0   0.327163    3.542596  0.0  0.0  0.0  0.0   \n",
       "cityCD           37843.0   0.000406    0.039918  0.0  0.0  0.0  0.0   \n",
       "cityE            37843.0   0.184790    2.904558  0.0  0.0  0.0  0.0   \n",
       "cityUF           37843.0   0.000706    0.019458  0.0  0.0  0.0  0.0   \n",
       "co2A             37843.0   5.349919   55.539497 -1.0 -1.0 -1.0 -1.0   \n",
       "co2TailpipeAGpm  37843.0  17.771433   94.129283  0.0  0.0  0.0  0.0   \n",
       "combA08          37843.0   0.581191    3.966255  0.0  0.0  0.0  0.0   \n",
       "combA08U         37843.0   0.359027    3.589260  0.0  0.0  0.0  0.0   \n",
       "combE            37843.0   0.190575    2.979567  0.0  0.0  0.0  0.0   \n",
       "combinedCD       37843.0   0.000335    0.035284  0.0  0.0  0.0  0.0   \n",
       "combinedUF       37843.0   0.000691    0.019049  0.0  0.0  0.0  0.0   \n",
       "fuelCostA08      37843.0  79.070105  417.668580  0.0  0.0  0.0  0.0   \n",
       "ghgScoreA        37843.0  -0.929630    0.627565 -1.0 -1.0 -1.0 -1.0   \n",
       "highwayA08       37843.0   0.686891    4.308934  0.0  0.0  0.0  0.0   \n",
       "highwayA08U      37843.0   0.418698    3.808877  0.0  0.0  0.0  0.0   \n",
       "highwayCD        37843.0   0.000233    0.029564  0.0  0.0  0.0  0.0   \n",
       "highwayE         37843.0   0.198247    3.091862  0.0  0.0  0.0  0.0   \n",
       "highwayUF        37843.0   0.000673    0.018583  0.0  0.0  0.0  0.0   \n",
       "range            37843.0   0.392675    8.251191  0.0  0.0  0.0  0.0   \n",
       "rangeCity        37843.0   0.352618    8.049082  0.0  0.0  0.0  0.0   \n",
       "rangeCityA       37843.0   0.036800    1.158270  0.0  0.0  0.0  0.0   \n",
       "rangeHwy         37843.0   0.343399    8.171939  0.0  0.0  0.0  0.0   \n",
       "rangeHwyA        37843.0   0.033475    1.032642  0.0  0.0  0.0  0.0   \n",
       "UCityA           37843.0   0.652380    5.284547  0.0  0.0  0.0  0.0   \n",
       "UHighwayA        37843.0   0.933845    6.059456  0.0  0.0  0.0  0.0   \n",
       "charge240b       37843.0   0.004360    0.142776  0.0  0.0  0.0  0.0   \n",
       "phevCity         37843.0   0.069313    1.966806  0.0  0.0  0.0  0.0   \n",
       "phevHwy          37843.0   0.068203    1.871986  0.0  0.0  0.0  0.0   \n",
       "phevComb         37843.0   0.068573    1.913647  0.0  0.0  0.0  0.0   \n",
       "\n",
       "                         max  \n",
       "barrelsA08         18.311667  \n",
       "charge240          12.000000  \n",
       "cityA08           127.000000  \n",
       "cityA08U          127.093000  \n",
       "cityCD              5.350000  \n",
       "cityE             122.000000  \n",
       "cityUF              0.849000  \n",
       "co2A              719.000000  \n",
       "co2TailpipeAGpm   719.000000  \n",
       "combA08           117.000000  \n",
       "combA08U          116.936400  \n",
       "combE             121.000000  \n",
       "combinedCD          4.800000  \n",
       "combinedUF          0.834000  \n",
       "fuelCostA08      3800.000000  \n",
       "ghgScoreA           8.000000  \n",
       "highwayA08        107.000000  \n",
       "highwayA08U       106.531000  \n",
       "highwayCD           4.060000  \n",
       "highwayE          120.000000  \n",
       "highwayUF           0.813000  \n",
       "range             315.000000  \n",
       "rangeCity         305.900000  \n",
       "rangeCityA         77.504000  \n",
       "rangeHwy          346.900000  \n",
       "rangeHwyA          65.632000  \n",
       "UCityA            181.560900  \n",
       "UHighwayA         152.187800  \n",
       "charge240b          7.000000  \n",
       "phevCity           97.000000  \n",
       "phevHwy            79.000000  \n",
       "phevComb           88.000000  "
      ]
     },
     "execution_count": 235,
     "metadata": {},
     "output_type": "execute_result"
    }
   ],
   "source": [
    "df[low_variance].describe().T"
   ]
  },
  {
   "cell_type": "markdown",
   "metadata": {},
   "source": [
    "Those columns present the percentile 90 value equal to the min, meaning that,\n",
    "at least the 90% of the values of the column are repeated values, \n",
    "which are '0' is 30 columns and '-1' i the other 2 columns."
   ]
  },
  {
   "cell_type": "markdown",
   "metadata": {},
   "source": [
    "## Use the the drop method like we did earlier in this lesson to remove the non informative columns from our data frame."
   ]
  },
  {
   "cell_type": "code",
   "execution_count": 236,
   "metadata": {},
   "outputs": [],
   "source": [
    "df.drop(columns = low_variance, inplace=True)"
   ]
  },
  {
   "cell_type": "code",
   "execution_count": 237,
   "metadata": {},
   "outputs": [
    {
     "data": {
      "text/html": [
       "<div>\n",
       "<style scoped>\n",
       "    .dataframe tbody tr th:only-of-type {\n",
       "        vertical-align: middle;\n",
       "    }\n",
       "\n",
       "    .dataframe tbody tr th {\n",
       "        vertical-align: top;\n",
       "    }\n",
       "\n",
       "    .dataframe thead th {\n",
       "        text-align: right;\n",
       "    }\n",
       "</style>\n",
       "<table border=\"1\" class=\"dataframe\">\n",
       "  <thead>\n",
       "    <tr style=\"text-align: right;\">\n",
       "      <th></th>\n",
       "      <th>barrels08</th>\n",
       "      <th>city08</th>\n",
       "      <th>city08U</th>\n",
       "      <th>co2</th>\n",
       "      <th>co2TailpipeGpm</th>\n",
       "      <th>comb08</th>\n",
       "      <th>comb08U</th>\n",
       "      <th>cylinders</th>\n",
       "      <th>displ</th>\n",
       "      <th>drive</th>\n",
       "      <th>...</th>\n",
       "      <th>pv4</th>\n",
       "      <th>trany</th>\n",
       "      <th>UCity</th>\n",
       "      <th>UHighway</th>\n",
       "      <th>VClass</th>\n",
       "      <th>year</th>\n",
       "      <th>youSaveSpend</th>\n",
       "      <th>createdOn</th>\n",
       "      <th>modifiedOn</th>\n",
       "      <th>gear</th>\n",
       "    </tr>\n",
       "  </thead>\n",
       "  <tbody>\n",
       "    <tr>\n",
       "      <th>0</th>\n",
       "      <td>15.695714</td>\n",
       "      <td>19</td>\n",
       "      <td>0.0</td>\n",
       "      <td>-1</td>\n",
       "      <td>423.190476</td>\n",
       "      <td>21</td>\n",
       "      <td>0.0</td>\n",
       "      <td>4.0</td>\n",
       "      <td>2.0</td>\n",
       "      <td>2-Wheel_Rear</td>\n",
       "      <td>...</td>\n",
       "      <td>0</td>\n",
       "      <td>Manual</td>\n",
       "      <td>23.3333</td>\n",
       "      <td>35.0</td>\n",
       "      <td>Two Seaters</td>\n",
       "      <td>1985</td>\n",
       "      <td>-1250</td>\n",
       "      <td>Tue Jan 01 00:00:00 EST 2013</td>\n",
       "      <td>Tue Jan 01 00:00:00 EST 2013</td>\n",
       "      <td>5</td>\n",
       "    </tr>\n",
       "    <tr>\n",
       "      <th>1</th>\n",
       "      <td>29.964545</td>\n",
       "      <td>9</td>\n",
       "      <td>0.0</td>\n",
       "      <td>-1</td>\n",
       "      <td>807.909091</td>\n",
       "      <td>11</td>\n",
       "      <td>0.0</td>\n",
       "      <td>12.0</td>\n",
       "      <td>4.9</td>\n",
       "      <td>2-Wheel_Rear</td>\n",
       "      <td>...</td>\n",
       "      <td>0</td>\n",
       "      <td>Manual</td>\n",
       "      <td>11.0000</td>\n",
       "      <td>19.0</td>\n",
       "      <td>Two Seaters</td>\n",
       "      <td>1985</td>\n",
       "      <td>-8500</td>\n",
       "      <td>Tue Jan 01 00:00:00 EST 2013</td>\n",
       "      <td>Tue Jan 01 00:00:00 EST 2013</td>\n",
       "      <td>5</td>\n",
       "    </tr>\n",
       "  </tbody>\n",
       "</table>\n",
       "<p>2 rows × 38 columns</p>\n",
       "</div>"
      ],
      "text/plain": [
       "   barrels08  city08  city08U  co2  co2TailpipeGpm  comb08  comb08U  \\\n",
       "0  15.695714      19      0.0   -1      423.190476      21      0.0   \n",
       "1  29.964545       9      0.0   -1      807.909091      11      0.0   \n",
       "\n",
       "   cylinders  displ         drive  ...  pv4   trany    UCity UHighway  \\\n",
       "0        4.0    2.0  2-Wheel_Rear  ...    0  Manual  23.3333     35.0   \n",
       "1       12.0    4.9  2-Wheel_Rear  ...    0  Manual  11.0000     19.0   \n",
       "\n",
       "        VClass  year  youSaveSpend                     createdOn  \\\n",
       "0  Two Seaters  1985         -1250  Tue Jan 01 00:00:00 EST 2013   \n",
       "1  Two Seaters  1985         -8500  Tue Jan 01 00:00:00 EST 2013   \n",
       "\n",
       "                     modifiedOn  gear  \n",
       "0  Tue Jan 01 00:00:00 EST 2013     5  \n",
       "1  Tue Jan 01 00:00:00 EST 2013     5  \n",
       "\n",
       "[2 rows x 38 columns]"
      ]
     },
     "execution_count": 237,
     "metadata": {},
     "output_type": "execute_result"
    }
   ],
   "source": [
    "df.head(2)"
   ]
  },
  {
   "cell_type": "markdown",
   "metadata": {},
   "source": [
    "# Extreme Values and Outliers\n",
    "\n",
    "Now that we have removed low variance columns, we should look for outliers, or extreme values, in the columns that remain. These outliers can influence our aggregations when we are analyzing data later, so we want to make sure we address them during our data cleaning stage.\n",
    "\n",
    "A common method for identifying outliers is one that leverages the interquartile range (IQR). Once the IQR is calculated, it is multiplied by a constant (typically 1.5) and lower and upper bounds are established at:\n",
    "\n",
    "    25th Percentile - (IQR x 1.5)\n",
    "    75th Percentile + (IQR x 1.5)\n",
    "\n",
    "Any values outside this range are potential outliers and should be investigated.\n",
    "\n",
    "Let's look at how we would do this for our data set using Python. We will use the Pandas describe function to easily calculate the 25th and 75th percentiles for every column and transpose the results so that we can easily reference the values in calculating the interquartile ranges.\n",
    "\n"
   ]
  },
  {
   "cell_type": "code",
   "execution_count": 238,
   "metadata": {},
   "outputs": [
    {
     "data": {
      "text/html": [
       "<div>\n",
       "<style scoped>\n",
       "    .dataframe tbody tr th:only-of-type {\n",
       "        vertical-align: middle;\n",
       "    }\n",
       "\n",
       "    .dataframe tbody tr th {\n",
       "        vertical-align: top;\n",
       "    }\n",
       "\n",
       "    .dataframe thead th {\n",
       "        text-align: right;\n",
       "    }\n",
       "</style>\n",
       "<table border=\"1\" class=\"dataframe\">\n",
       "  <thead>\n",
       "    <tr style=\"text-align: right;\">\n",
       "      <th></th>\n",
       "      <th>count</th>\n",
       "      <th>mean</th>\n",
       "      <th>std</th>\n",
       "      <th>min</th>\n",
       "      <th>25%</th>\n",
       "      <th>50%</th>\n",
       "      <th>75%</th>\n",
       "      <th>max</th>\n",
       "      <th>IQR</th>\n",
       "      <th>Tukey</th>\n",
       "    </tr>\n",
       "  </thead>\n",
       "  <tbody>\n",
       "    <tr>\n",
       "      <th>barrels08</th>\n",
       "      <td>37843.0</td>\n",
       "      <td>17.532506</td>\n",
       "      <td>4.575950</td>\n",
       "      <td>0.06</td>\n",
       "      <td>14.33087</td>\n",
       "      <td>17.347895</td>\n",
       "      <td>20.600625</td>\n",
       "      <td>47.087143</td>\n",
       "      <td>6.269755</td>\n",
       "      <td>30.005258</td>\n",
       "    </tr>\n",
       "    <tr>\n",
       "      <th>city08</th>\n",
       "      <td>37843.0</td>\n",
       "      <td>17.941389</td>\n",
       "      <td>6.660360</td>\n",
       "      <td>6.00</td>\n",
       "      <td>15.00000</td>\n",
       "      <td>17.000000</td>\n",
       "      <td>20.000000</td>\n",
       "      <td>138.000000</td>\n",
       "      <td>5.000000</td>\n",
       "      <td>27.500000</td>\n",
       "    </tr>\n",
       "    <tr>\n",
       "      <th>city08U</th>\n",
       "      <td>37843.0</td>\n",
       "      <td>4.042737</td>\n",
       "      <td>9.645820</td>\n",
       "      <td>0.00</td>\n",
       "      <td>0.00000</td>\n",
       "      <td>0.000000</td>\n",
       "      <td>0.000000</td>\n",
       "      <td>138.304000</td>\n",
       "      <td>0.000000</td>\n",
       "      <td>0.000000</td>\n",
       "    </tr>\n",
       "    <tr>\n",
       "      <th>co2</th>\n",
       "      <td>37843.0</td>\n",
       "      <td>61.503713</td>\n",
       "      <td>153.387715</td>\n",
       "      <td>-1.00</td>\n",
       "      <td>-1.00000</td>\n",
       "      <td>-1.000000</td>\n",
       "      <td>-1.000000</td>\n",
       "      <td>847.000000</td>\n",
       "      <td>0.000000</td>\n",
       "      <td>-1.000000</td>\n",
       "    </tr>\n",
       "    <tr>\n",
       "      <th>co2TailpipeGpm</th>\n",
       "      <td>37843.0</td>\n",
       "      <td>473.179736</td>\n",
       "      <td>122.188847</td>\n",
       "      <td>0.00</td>\n",
       "      <td>388.00000</td>\n",
       "      <td>467.736842</td>\n",
       "      <td>555.437500</td>\n",
       "      <td>1269.571429</td>\n",
       "      <td>167.437500</td>\n",
       "      <td>806.593750</td>\n",
       "    </tr>\n",
       "    <tr>\n",
       "      <th>comb08</th>\n",
       "      <td>37843.0</td>\n",
       "      <td>20.195809</td>\n",
       "      <td>6.623444</td>\n",
       "      <td>7.00</td>\n",
       "      <td>17.00000</td>\n",
       "      <td>19.000000</td>\n",
       "      <td>23.000000</td>\n",
       "      <td>124.000000</td>\n",
       "      <td>6.000000</td>\n",
       "      <td>32.000000</td>\n",
       "    </tr>\n",
       "    <tr>\n",
       "      <th>comb08U</th>\n",
       "      <td>37843.0</td>\n",
       "      <td>4.549751</td>\n",
       "      <td>10.389994</td>\n",
       "      <td>0.00</td>\n",
       "      <td>0.00000</td>\n",
       "      <td>0.000000</td>\n",
       "      <td>0.000000</td>\n",
       "      <td>124.360100</td>\n",
       "      <td>0.000000</td>\n",
       "      <td>0.000000</td>\n",
       "    </tr>\n",
       "    <tr>\n",
       "      <th>cylinders</th>\n",
       "      <td>37843.0</td>\n",
       "      <td>5.719605</td>\n",
       "      <td>1.778597</td>\n",
       "      <td>0.00</td>\n",
       "      <td>4.00000</td>\n",
       "      <td>6.000000</td>\n",
       "      <td>6.000000</td>\n",
       "      <td>16.000000</td>\n",
       "      <td>2.000000</td>\n",
       "      <td>9.000000</td>\n",
       "    </tr>\n",
       "    <tr>\n",
       "      <th>displ</th>\n",
       "      <td>37843.0</td>\n",
       "      <td>3.401678</td>\n",
       "      <td>12.981431</td>\n",
       "      <td>0.00</td>\n",
       "      <td>2.20000</td>\n",
       "      <td>3.000000</td>\n",
       "      <td>4.300000</td>\n",
       "      <td>1779.000000</td>\n",
       "      <td>2.100000</td>\n",
       "      <td>7.450000</td>\n",
       "    </tr>\n",
       "    <tr>\n",
       "      <th>engId</th>\n",
       "      <td>37843.0</td>\n",
       "      <td>8860.308961</td>\n",
       "      <td>17829.683477</td>\n",
       "      <td>0.00</td>\n",
       "      <td>0.00000</td>\n",
       "      <td>211.000000</td>\n",
       "      <td>4505.000000</td>\n",
       "      <td>69102.000000</td>\n",
       "      <td>4505.000000</td>\n",
       "      <td>11262.500000</td>\n",
       "    </tr>\n",
       "    <tr>\n",
       "      <th>feScore</th>\n",
       "      <td>37843.0</td>\n",
       "      <td>-0.035145</td>\n",
       "      <td>2.379584</td>\n",
       "      <td>-1.00</td>\n",
       "      <td>-1.00000</td>\n",
       "      <td>-1.000000</td>\n",
       "      <td>-1.000000</td>\n",
       "      <td>10.000000</td>\n",
       "      <td>0.000000</td>\n",
       "      <td>-1.000000</td>\n",
       "    </tr>\n",
       "    <tr>\n",
       "      <th>fuelCost08</th>\n",
       "      <td>37843.0</td>\n",
       "      <td>1882.060090</td>\n",
       "      <td>510.280408</td>\n",
       "      <td>550.00</td>\n",
       "      <td>1500.00000</td>\n",
       "      <td>1850.000000</td>\n",
       "      <td>2200.000000</td>\n",
       "      <td>5800.000000</td>\n",
       "      <td>700.000000</td>\n",
       "      <td>3250.000000</td>\n",
       "    </tr>\n",
       "    <tr>\n",
       "      <th>ghgScore</th>\n",
       "      <td>37843.0</td>\n",
       "      <td>-0.037206</td>\n",
       "      <td>2.374338</td>\n",
       "      <td>-1.00</td>\n",
       "      <td>-1.00000</td>\n",
       "      <td>-1.000000</td>\n",
       "      <td>-1.000000</td>\n",
       "      <td>10.000000</td>\n",
       "      <td>0.000000</td>\n",
       "      <td>-1.000000</td>\n",
       "    </tr>\n",
       "    <tr>\n",
       "      <th>highway08</th>\n",
       "      <td>37843.0</td>\n",
       "      <td>24.104881</td>\n",
       "      <td>6.963192</td>\n",
       "      <td>9.00</td>\n",
       "      <td>20.00000</td>\n",
       "      <td>24.000000</td>\n",
       "      <td>27.000000</td>\n",
       "      <td>111.000000</td>\n",
       "      <td>7.000000</td>\n",
       "      <td>37.500000</td>\n",
       "    </tr>\n",
       "    <tr>\n",
       "      <th>highway08U</th>\n",
       "      <td>37843.0</td>\n",
       "      <td>5.438467</td>\n",
       "      <td>11.936327</td>\n",
       "      <td>0.00</td>\n",
       "      <td>0.00000</td>\n",
       "      <td>0.000000</td>\n",
       "      <td>0.000000</td>\n",
       "      <td>111.370000</td>\n",
       "      <td>0.000000</td>\n",
       "      <td>0.000000</td>\n",
       "    </tr>\n",
       "    <tr>\n",
       "      <th>hlv</th>\n",
       "      <td>37843.0</td>\n",
       "      <td>2.026214</td>\n",
       "      <td>5.947989</td>\n",
       "      <td>0.00</td>\n",
       "      <td>0.00000</td>\n",
       "      <td>0.000000</td>\n",
       "      <td>0.000000</td>\n",
       "      <td>49.000000</td>\n",
       "      <td>0.000000</td>\n",
       "      <td>0.000000</td>\n",
       "    </tr>\n",
       "    <tr>\n",
       "      <th>hpv</th>\n",
       "      <td>37843.0</td>\n",
       "      <td>10.424332</td>\n",
       "      <td>28.148770</td>\n",
       "      <td>0.00</td>\n",
       "      <td>0.00000</td>\n",
       "      <td>0.000000</td>\n",
       "      <td>0.000000</td>\n",
       "      <td>195.000000</td>\n",
       "      <td>0.000000</td>\n",
       "      <td>0.000000</td>\n",
       "    </tr>\n",
       "    <tr>\n",
       "      <th>id</th>\n",
       "      <td>37843.0</td>\n",
       "      <td>19019.286235</td>\n",
       "      <td>11034.784855</td>\n",
       "      <td>1.00</td>\n",
       "      <td>9461.50000</td>\n",
       "      <td>18923.000000</td>\n",
       "      <td>28570.500000</td>\n",
       "      <td>38173.000000</td>\n",
       "      <td>19109.000000</td>\n",
       "      <td>57234.000000</td>\n",
       "    </tr>\n",
       "    <tr>\n",
       "      <th>lv2</th>\n",
       "      <td>37843.0</td>\n",
       "      <td>1.849219</td>\n",
       "      <td>4.429983</td>\n",
       "      <td>0.00</td>\n",
       "      <td>0.00000</td>\n",
       "      <td>0.000000</td>\n",
       "      <td>0.000000</td>\n",
       "      <td>41.000000</td>\n",
       "      <td>0.000000</td>\n",
       "      <td>0.000000</td>\n",
       "    </tr>\n",
       "    <tr>\n",
       "      <th>lv4</th>\n",
       "      <td>37843.0</td>\n",
       "      <td>6.165658</td>\n",
       "      <td>9.743297</td>\n",
       "      <td>0.00</td>\n",
       "      <td>0.00000</td>\n",
       "      <td>0.000000</td>\n",
       "      <td>13.000000</td>\n",
       "      <td>55.000000</td>\n",
       "      <td>13.000000</td>\n",
       "      <td>32.500000</td>\n",
       "    </tr>\n",
       "    <tr>\n",
       "      <th>pv2</th>\n",
       "      <td>37843.0</td>\n",
       "      <td>13.696113</td>\n",
       "      <td>31.269930</td>\n",
       "      <td>0.00</td>\n",
       "      <td>0.00000</td>\n",
       "      <td>0.000000</td>\n",
       "      <td>0.000000</td>\n",
       "      <td>194.000000</td>\n",
       "      <td>0.000000</td>\n",
       "      <td>0.000000</td>\n",
       "    </tr>\n",
       "    <tr>\n",
       "      <th>pv4</th>\n",
       "      <td>37843.0</td>\n",
       "      <td>33.769125</td>\n",
       "      <td>45.914462</td>\n",
       "      <td>0.00</td>\n",
       "      <td>0.00000</td>\n",
       "      <td>0.000000</td>\n",
       "      <td>91.000000</td>\n",
       "      <td>192.000000</td>\n",
       "      <td>91.000000</td>\n",
       "      <td>227.500000</td>\n",
       "    </tr>\n",
       "    <tr>\n",
       "      <th>UCity</th>\n",
       "      <td>37843.0</td>\n",
       "      <td>22.587229</td>\n",
       "      <td>9.350163</td>\n",
       "      <td>0.00</td>\n",
       "      <td>18.00000</td>\n",
       "      <td>21.000000</td>\n",
       "      <td>25.139300</td>\n",
       "      <td>197.577100</td>\n",
       "      <td>7.139300</td>\n",
       "      <td>35.848250</td>\n",
       "    </tr>\n",
       "    <tr>\n",
       "      <th>UHighway</th>\n",
       "      <td>37843.0</td>\n",
       "      <td>33.619221</td>\n",
       "      <td>10.048326</td>\n",
       "      <td>0.00</td>\n",
       "      <td>27.10000</td>\n",
       "      <td>33.000000</td>\n",
       "      <td>38.109600</td>\n",
       "      <td>159.100000</td>\n",
       "      <td>11.009600</td>\n",
       "      <td>54.624000</td>\n",
       "    </tr>\n",
       "    <tr>\n",
       "      <th>year</th>\n",
       "      <td>37843.0</td>\n",
       "      <td>2000.064398</td>\n",
       "      <td>10.390588</td>\n",
       "      <td>1984.00</td>\n",
       "      <td>1990.00000</td>\n",
       "      <td>2001.000000</td>\n",
       "      <td>2009.000000</td>\n",
       "      <td>2017.000000</td>\n",
       "      <td>19.000000</td>\n",
       "      <td>2037.500000</td>\n",
       "    </tr>\n",
       "    <tr>\n",
       "      <th>youSaveSpend</th>\n",
       "      <td>37843.0</td>\n",
       "      <td>-2658.999022</td>\n",
       "      <td>2553.098329</td>\n",
       "      <td>-22250.00</td>\n",
       "      <td>-4250.00000</td>\n",
       "      <td>-2500.000000</td>\n",
       "      <td>-750.000000</td>\n",
       "      <td>4000.000000</td>\n",
       "      <td>3500.000000</td>\n",
       "      <td>4500.000000</td>\n",
       "    </tr>\n",
       "    <tr>\n",
       "      <th>gear</th>\n",
       "      <td>37843.0</td>\n",
       "      <td>4.758000</td>\n",
       "      <td>1.344869</td>\n",
       "      <td>0.00</td>\n",
       "      <td>4.00000</td>\n",
       "      <td>5.000000</td>\n",
       "      <td>6.000000</td>\n",
       "      <td>9.000000</td>\n",
       "      <td>2.000000</td>\n",
       "      <td>9.000000</td>\n",
       "    </tr>\n",
       "  </tbody>\n",
       "</table>\n",
       "</div>"
      ],
      "text/plain": [
       "                  count          mean           std       min         25%  \\\n",
       "barrels08       37843.0     17.532506      4.575950      0.06    14.33087   \n",
       "city08          37843.0     17.941389      6.660360      6.00    15.00000   \n",
       "city08U         37843.0      4.042737      9.645820      0.00     0.00000   \n",
       "co2             37843.0     61.503713    153.387715     -1.00    -1.00000   \n",
       "co2TailpipeGpm  37843.0    473.179736    122.188847      0.00   388.00000   \n",
       "comb08          37843.0     20.195809      6.623444      7.00    17.00000   \n",
       "comb08U         37843.0      4.549751     10.389994      0.00     0.00000   \n",
       "cylinders       37843.0      5.719605      1.778597      0.00     4.00000   \n",
       "displ           37843.0      3.401678     12.981431      0.00     2.20000   \n",
       "engId           37843.0   8860.308961  17829.683477      0.00     0.00000   \n",
       "feScore         37843.0     -0.035145      2.379584     -1.00    -1.00000   \n",
       "fuelCost08      37843.0   1882.060090    510.280408    550.00  1500.00000   \n",
       "ghgScore        37843.0     -0.037206      2.374338     -1.00    -1.00000   \n",
       "highway08       37843.0     24.104881      6.963192      9.00    20.00000   \n",
       "highway08U      37843.0      5.438467     11.936327      0.00     0.00000   \n",
       "hlv             37843.0      2.026214      5.947989      0.00     0.00000   \n",
       "hpv             37843.0     10.424332     28.148770      0.00     0.00000   \n",
       "id              37843.0  19019.286235  11034.784855      1.00  9461.50000   \n",
       "lv2             37843.0      1.849219      4.429983      0.00     0.00000   \n",
       "lv4             37843.0      6.165658      9.743297      0.00     0.00000   \n",
       "pv2             37843.0     13.696113     31.269930      0.00     0.00000   \n",
       "pv4             37843.0     33.769125     45.914462      0.00     0.00000   \n",
       "UCity           37843.0     22.587229      9.350163      0.00    18.00000   \n",
       "UHighway        37843.0     33.619221     10.048326      0.00    27.10000   \n",
       "year            37843.0   2000.064398     10.390588   1984.00  1990.00000   \n",
       "youSaveSpend    37843.0  -2658.999022   2553.098329 -22250.00 -4250.00000   \n",
       "gear            37843.0      4.758000      1.344869      0.00     4.00000   \n",
       "\n",
       "                         50%           75%           max           IQR  \\\n",
       "barrels08          17.347895     20.600625     47.087143      6.269755   \n",
       "city08             17.000000     20.000000    138.000000      5.000000   \n",
       "city08U             0.000000      0.000000    138.304000      0.000000   \n",
       "co2                -1.000000     -1.000000    847.000000      0.000000   \n",
       "co2TailpipeGpm    467.736842    555.437500   1269.571429    167.437500   \n",
       "comb08             19.000000     23.000000    124.000000      6.000000   \n",
       "comb08U             0.000000      0.000000    124.360100      0.000000   \n",
       "cylinders           6.000000      6.000000     16.000000      2.000000   \n",
       "displ               3.000000      4.300000   1779.000000      2.100000   \n",
       "engId             211.000000   4505.000000  69102.000000   4505.000000   \n",
       "feScore            -1.000000     -1.000000     10.000000      0.000000   \n",
       "fuelCost08       1850.000000   2200.000000   5800.000000    700.000000   \n",
       "ghgScore           -1.000000     -1.000000     10.000000      0.000000   \n",
       "highway08          24.000000     27.000000    111.000000      7.000000   \n",
       "highway08U          0.000000      0.000000    111.370000      0.000000   \n",
       "hlv                 0.000000      0.000000     49.000000      0.000000   \n",
       "hpv                 0.000000      0.000000    195.000000      0.000000   \n",
       "id              18923.000000  28570.500000  38173.000000  19109.000000   \n",
       "lv2                 0.000000      0.000000     41.000000      0.000000   \n",
       "lv4                 0.000000     13.000000     55.000000     13.000000   \n",
       "pv2                 0.000000      0.000000    194.000000      0.000000   \n",
       "pv4                 0.000000     91.000000    192.000000     91.000000   \n",
       "UCity              21.000000     25.139300    197.577100      7.139300   \n",
       "UHighway           33.000000     38.109600    159.100000     11.009600   \n",
       "year             2001.000000   2009.000000   2017.000000     19.000000   \n",
       "youSaveSpend    -2500.000000   -750.000000   4000.000000   3500.000000   \n",
       "gear                5.000000      6.000000      9.000000      2.000000   \n",
       "\n",
       "                       Tukey  \n",
       "barrels08          30.005258  \n",
       "city08             27.500000  \n",
       "city08U             0.000000  \n",
       "co2                -1.000000  \n",
       "co2TailpipeGpm    806.593750  \n",
       "comb08             32.000000  \n",
       "comb08U             0.000000  \n",
       "cylinders           9.000000  \n",
       "displ               7.450000  \n",
       "engId           11262.500000  \n",
       "feScore            -1.000000  \n",
       "fuelCost08       3250.000000  \n",
       "ghgScore           -1.000000  \n",
       "highway08          37.500000  \n",
       "highway08U          0.000000  \n",
       "hlv                 0.000000  \n",
       "hpv                 0.000000  \n",
       "id              57234.000000  \n",
       "lv2                 0.000000  \n",
       "lv4                32.500000  \n",
       "pv2                 0.000000  \n",
       "pv4               227.500000  \n",
       "UCity              35.848250  \n",
       "UHighway           54.624000  \n",
       "year             2037.500000  \n",
       "youSaveSpend     4500.000000  \n",
       "gear                9.000000  "
      ]
     },
     "execution_count": 238,
     "metadata": {},
     "output_type": "execute_result"
    }
   ],
   "source": [
    "stats = df.describe().T\n",
    "\n",
    "stats['IQR'] = stats['75%']-stats['25%']\n",
    "stats['Tukey'] = 1.5 * stats['IQR'] + stats['75%']\n",
    "\n",
    "stats"
   ]
  },
  {
   "cell_type": "markdown",
   "metadata": {},
   "source": [
    "We will then create an empty data frame called outliers with the same columns as our data set. Finally, we will loop through each column in the data calculating the lower and upper bounds, retrieving records where the value for that column falls outside the bounds we established, and appending those results to our outlier data frame."
   ]
  },
  {
   "cell_type": "code",
   "execution_count": 239,
   "metadata": {},
   "outputs": [
    {
     "data": {
      "text/html": [
       "<div>\n",
       "<style scoped>\n",
       "    .dataframe tbody tr th:only-of-type {\n",
       "        vertical-align: middle;\n",
       "    }\n",
       "\n",
       "    .dataframe tbody tr th {\n",
       "        vertical-align: top;\n",
       "    }\n",
       "\n",
       "    .dataframe thead th {\n",
       "        text-align: right;\n",
       "    }\n",
       "</style>\n",
       "<table border=\"1\" class=\"dataframe\">\n",
       "  <thead>\n",
       "    <tr style=\"text-align: right;\">\n",
       "      <th></th>\n",
       "      <th>barrels08</th>\n",
       "      <th>city08</th>\n",
       "      <th>city08U</th>\n",
       "      <th>co2</th>\n",
       "      <th>co2TailpipeGpm</th>\n",
       "      <th>comb08</th>\n",
       "      <th>comb08U</th>\n",
       "      <th>cylinders</th>\n",
       "      <th>displ</th>\n",
       "      <th>drive</th>\n",
       "      <th>...</th>\n",
       "      <th>trany</th>\n",
       "      <th>UCity</th>\n",
       "      <th>UHighway</th>\n",
       "      <th>VClass</th>\n",
       "      <th>year</th>\n",
       "      <th>youSaveSpend</th>\n",
       "      <th>createdOn</th>\n",
       "      <th>modifiedOn</th>\n",
       "      <th>gear</th>\n",
       "      <th>Outlier</th>\n",
       "    </tr>\n",
       "  </thead>\n",
       "  <tbody>\n",
       "    <tr>\n",
       "      <th>47</th>\n",
       "      <td>32.961</td>\n",
       "      <td>9</td>\n",
       "      <td>0.0</td>\n",
       "      <td>-1</td>\n",
       "      <td>888.7</td>\n",
       "      <td>10</td>\n",
       "      <td>0.0</td>\n",
       "      <td>8.0</td>\n",
       "      <td>5.9</td>\n",
       "      <td>2-Wheel_Rear</td>\n",
       "      <td>...</td>\n",
       "      <td>Automatic</td>\n",
       "      <td>11.0</td>\n",
       "      <td>15.0</td>\n",
       "      <td>Vans</td>\n",
       "      <td>1985</td>\n",
       "      <td>-10000</td>\n",
       "      <td>Tue Jan 01 00:00:00 EST 2013</td>\n",
       "      <td>Tue Jan 01 00:00:00 EST 2013</td>\n",
       "      <td>3</td>\n",
       "      <td>barrels08</td>\n",
       "    </tr>\n",
       "    <tr>\n",
       "      <th>58</th>\n",
       "      <td>32.961</td>\n",
       "      <td>10</td>\n",
       "      <td>0.0</td>\n",
       "      <td>-1</td>\n",
       "      <td>888.7</td>\n",
       "      <td>10</td>\n",
       "      <td>0.0</td>\n",
       "      <td>8.0</td>\n",
       "      <td>5.2</td>\n",
       "      <td>2-Wheel_Rear</td>\n",
       "      <td>...</td>\n",
       "      <td>Automatic</td>\n",
       "      <td>12.0</td>\n",
       "      <td>15.0</td>\n",
       "      <td>Vans</td>\n",
       "      <td>1985</td>\n",
       "      <td>-10000</td>\n",
       "      <td>Tue Jan 01 00:00:00 EST 2013</td>\n",
       "      <td>Tue Jan 01 00:00:00 EST 2013</td>\n",
       "      <td>3</td>\n",
       "      <td>barrels08</td>\n",
       "    </tr>\n",
       "  </tbody>\n",
       "</table>\n",
       "<p>2 rows × 39 columns</p>\n",
       "</div>"
      ],
      "text/plain": [
       "    barrels08 city08  city08U co2  co2TailpipeGpm comb08  comb08U  cylinders  \\\n",
       "47     32.961      9      0.0  -1           888.7     10      0.0        8.0   \n",
       "58     32.961     10      0.0  -1           888.7     10      0.0        8.0   \n",
       "\n",
       "    displ         drive  ...      trany UCity UHighway VClass  year  \\\n",
       "47    5.9  2-Wheel_Rear  ...  Automatic  11.0     15.0   Vans  1985   \n",
       "58    5.2  2-Wheel_Rear  ...  Automatic  12.0     15.0   Vans  1985   \n",
       "\n",
       "   youSaveSpend                     createdOn                    modifiedOn  \\\n",
       "47       -10000  Tue Jan 01 00:00:00 EST 2013  Tue Jan 01 00:00:00 EST 2013   \n",
       "58       -10000  Tue Jan 01 00:00:00 EST 2013  Tue Jan 01 00:00:00 EST 2013   \n",
       "\n",
       "   gear    Outlier  \n",
       "47    3  barrels08  \n",
       "58    3  barrels08  \n",
       "\n",
       "[2 rows x 39 columns]"
      ]
     },
     "execution_count": 239,
     "metadata": {},
     "output_type": "execute_result"
    }
   ],
   "source": [
    "outliers = pd.DataFrame(columns = df.columns)\n",
    "\n",
    "for col in stats.index:\n",
    "    iqr = stats.at[col,'IQR']\n",
    "    cutoff = iqr * 1.5\n",
    "    lower = stats.at[col,'25%'] - cutoff\n",
    "    upper = stats.at[col,'75%'] + cutoff\n",
    "    results = df[(df[col] < lower) | (df[col] > upper)].copy()\n",
    "    results['Outlier'] = col\n",
    "    outliers = outliers.append(results)\n",
    "    \n",
    "outliers.head(2)"
   ]
  },
  {
   "cell_type": "code",
   "execution_count": 240,
   "metadata": {},
   "outputs": [
    {
     "data": {
      "text/plain": [
       "Index(['city08U', 'highway08U', 'comb08U', 'engId', 'lv2', 'pv2', 'co2',\n",
       "       'feScore', 'ghgScore', 'hlv', 'hpv', 'city08', 'UCity', 'lv4',\n",
       "       'highway08', 'comb08', 'UHighway', 'cylinders', 'co2TailpipeGpm',\n",
       "       'gear', 'fuelCost08', 'youSaveSpend', 'barrels08', 'displ'],\n",
       "      dtype='object')"
      ]
     },
     "execution_count": 240,
     "metadata": {},
     "output_type": "execute_result"
    }
   ],
   "source": [
    "outlier_index = outliers['Outlier'].value_counts().index\n",
    "outlier_index"
   ]
  },
  {
   "cell_type": "code",
   "execution_count": 241,
   "metadata": {},
   "outputs": [
    {
     "data": {
      "image/png": "[encoded data removed]",
      "text/plain": [
       "<Figure size 1500x800 with 1 Axes>"
      ]
     },
     "metadata": {},
     "output_type": "display_data"
    }
   ],
   "source": [
    "df[outlier_index].boxplot(figsize=(15, 8));"
   ]
  },
  {
   "cell_type": "code",
   "execution_count": 242,
   "metadata": {},
   "outputs": [
    {
     "data": {
      "text/plain": [
       "78962"
      ]
     },
     "execution_count": 242,
     "metadata": {},
     "output_type": "execute_result"
    }
   ],
   "source": [
    "len(outliers)"
   ]
  },
  {
   "cell_type": "markdown",
   "metadata": {},
   "source": [
    "Our outliers data frame should now be populated with records that you can investigate further and determine whether they should be kept in the data or dropped. The Outlier column we added before appending the results for the column to the outliers data frame will let you know what column in each record contained the outlier. If you find that this method is returning too many results, you can be more stringent with your cutoff criteria (e.g. increasing the constant by which you multiply the IQR to 3 instead of 1.5)."
   ]
  },
  {
   "cell_type": "code",
   "execution_count": 243,
   "metadata": {},
   "outputs": [
    {
     "data": {
      "text/plain": [
       "0"
      ]
     },
     "execution_count": 243,
     "metadata": {},
     "output_type": "execute_result"
    }
   ],
   "source": [
    "outliers_b = pd.DataFrame(columns = df.columns)\n",
    "\n",
    "for col in stats.index:\n",
    "    iqr = stats.at[col,'IQR']\n",
    "    cutoff = iqr * 3\n",
    "    lower = stats.at[col,'25%'] - cutoff\n",
    "    upper = stats.at[col,'75%'] + cutoff\n",
    "    results = df[(df[col] < lower) | (df[col] > upper)].copy()\n",
    "    results['Outlier'] = col\n",
    "    outliers = outliers.append(results)\n",
    "    \n",
    "len(outliers_b)"
   ]
  },
  {
   "cell_type": "markdown",
   "metadata": {},
   "source": [
    "Changing the cutoff criteria by increasing the constant value from 1.5xIQR to 3xIQR no outliers are found now."
   ]
  },
  {
   "cell_type": "markdown",
   "metadata": {},
   "source": [
    "# Data Type Correction\n",
    "\n",
    "One common problem that is often overlooked is incorrect data types. This typically occurs when there is a numeric variable that should actually be represented as a categorical variable. "
   ]
  },
  {
   "cell_type": "markdown",
   "metadata": {},
   "source": [
    "## Check the data type of each column"
   ]
  },
  {
   "cell_type": "code",
   "execution_count": 244,
   "metadata": {},
   "outputs": [
    {
     "name": "stdout",
     "output_type": "stream",
     "text": [
      "<class 'pandas.core.frame.DataFrame'>\n",
      "RangeIndex: 37843 entries, 0 to 37842\n",
      "Data columns (total 38 columns):\n",
      " #   Column          Non-Null Count  Dtype  \n",
      "---  ------          --------------  -----  \n",
      " 0   barrels08       37843 non-null  float64\n",
      " 1   city08          37843 non-null  int64  \n",
      " 2   city08U         37843 non-null  float64\n",
      " 3   co2             37843 non-null  int64  \n",
      " 4   co2TailpipeGpm  37843 non-null  float64\n",
      " 5   comb08          37843 non-null  int64  \n",
      " 6   comb08U         37843 non-null  float64\n",
      " 7   cylinders       37843 non-null  float64\n",
      " 8   displ           37843 non-null  float64\n",
      " 9   drive           37843 non-null  object \n",
      " 10  engId           37843 non-null  int64  \n",
      " 11  feScore         37843 non-null  int64  \n",
      " 12  fuelCost08      37843 non-null  int64  \n",
      " 13  fuelType        37843 non-null  object \n",
      " 14  fuelType1       37843 non-null  object \n",
      " 15  ghgScore        37843 non-null  int64  \n",
      " 16  highway08       37843 non-null  int64  \n",
      " 17  highway08U      37843 non-null  float64\n",
      " 18  hlv             37843 non-null  int64  \n",
      " 19  hpv             37843 non-null  int64  \n",
      " 20  id              37843 non-null  int64  \n",
      " 21  lv2             37843 non-null  int64  \n",
      " 22  lv4             37843 non-null  int64  \n",
      " 23  make            37843 non-null  object \n",
      " 24  model           37843 non-null  object \n",
      " 25  mpgData         37843 non-null  object \n",
      " 26  phevBlended     37843 non-null  bool   \n",
      " 27  pv2             37843 non-null  int64  \n",
      " 28  pv4             37843 non-null  int64  \n",
      " 29  trany           37843 non-null  object \n",
      " 30  UCity           37843 non-null  float64\n",
      " 31  UHighway        37843 non-null  float64\n",
      " 32  VClass          37843 non-null  object \n",
      " 33  year            37843 non-null  int64  \n",
      " 34  youSaveSpend    37843 non-null  int64  \n",
      " 35  createdOn       37843 non-null  object \n",
      " 36  modifiedOn      37843 non-null  object \n",
      " 37  gear            37843 non-null  int64  \n",
      "dtypes: bool(1), float64(9), int64(18), object(10)\n",
      "memory usage: 33.3 MB\n"
     ]
    }
   ],
   "source": [
    "df.info(memory_usage='deep')"
   ]
  },
  {
   "cell_type": "raw",
   "metadata": {},
   "source": [
    "Change the objects to categories in order to save space."
   ]
  },
  {
   "cell_type": "code",
   "execution_count": 245,
   "metadata": {},
   "outputs": [
    {
     "name": "stdout",
     "output_type": "stream",
     "text": [
      "<class 'pandas.core.frame.DataFrame'>\n",
      "RangeIndex: 37843 entries, 0 to 37842\n",
      "Data columns (total 38 columns):\n",
      " #   Column          Non-Null Count  Dtype   \n",
      "---  ------          --------------  -----   \n",
      " 0   barrels08       37843 non-null  float64 \n",
      " 1   city08          37843 non-null  int64   \n",
      " 2   city08U         37843 non-null  float64 \n",
      " 3   co2             37843 non-null  int64   \n",
      " 4   co2TailpipeGpm  37843 non-null  float64 \n",
      " 5   comb08          37843 non-null  int64   \n",
      " 6   comb08U         37843 non-null  float64 \n",
      " 7   cylinders       37843 non-null  float64 \n",
      " 8   displ           37843 non-null  float64 \n",
      " 9   drive           37843 non-null  category\n",
      " 10  engId           37843 non-null  int64   \n",
      " 11  feScore         37843 non-null  int64   \n",
      " 12  fuelCost08      37843 non-null  int64   \n",
      " 13  fuelType        37843 non-null  category\n",
      " 14  fuelType1       37843 non-null  category\n",
      " 15  ghgScore        37843 non-null  int64   \n",
      " 16  highway08       37843 non-null  int64   \n",
      " 17  highway08U      37843 non-null  float64 \n",
      " 18  hlv             37843 non-null  int64   \n",
      " 19  hpv             37843 non-null  int64   \n",
      " 20  id              37843 non-null  int64   \n",
      " 21  lv2             37843 non-null  int64   \n",
      " 22  lv4             37843 non-null  int64   \n",
      " 23  make            37843 non-null  category\n",
      " 24  model           37843 non-null  category\n",
      " 25  mpgData         37843 non-null  category\n",
      " 26  phevBlended     37843 non-null  bool    \n",
      " 27  pv2             37843 non-null  int64   \n",
      " 28  pv4             37843 non-null  int64   \n",
      " 29  trany           37843 non-null  category\n",
      " 30  UCity           37843 non-null  float64 \n",
      " 31  UHighway        37843 non-null  float64 \n",
      " 32  VClass          37843 non-null  category\n",
      " 33  year            37843 non-null  int64   \n",
      " 34  youSaveSpend    37843 non-null  int64   \n",
      " 35  createdOn       37843 non-null  category\n",
      " 36  modifiedOn      37843 non-null  category\n",
      " 37  gear            37843 non-null  int64   \n",
      "dtypes: bool(1), category(10), float64(9), int64(18)\n",
      "memory usage: 8.8 MB\n"
     ]
    }
   ],
   "source": [
    "for col in df.select_dtypes(include='object'):\n",
    "    df[col] = df[col].astype('category')\n",
    "    \n",
    "df.info(memory_usage='deep')"
   ]
  },
  {
   "cell_type": "raw",
   "metadata": {},
   "source": [
    "Try to reduce the type of numeric columns"
   ]
  },
  {
   "cell_type": "code",
   "execution_count": 246,
   "metadata": {},
   "outputs": [
    {
     "name": "stdout",
     "output_type": "stream",
     "text": [
      "<class 'pandas.core.frame.DataFrame'>\n",
      "RangeIndex: 37843 entries, 0 to 37842\n",
      "Data columns (total 38 columns):\n",
      " #   Column          Non-Null Count  Dtype   \n",
      "---  ------          --------------  -----   \n",
      " 0   barrels08       37843 non-null  float32 \n",
      " 1   city08          37843 non-null  int16   \n",
      " 2   city08U         37843 non-null  float32 \n",
      " 3   co2             37843 non-null  int16   \n",
      " 4   co2TailpipeGpm  37843 non-null  float32 \n",
      " 5   comb08          37843 non-null  int8    \n",
      " 6   comb08U         37843 non-null  float32 \n",
      " 7   cylinders       37843 non-null  float32 \n",
      " 8   displ           37843 non-null  float32 \n",
      " 9   drive           37843 non-null  category\n",
      " 10  engId           37843 non-null  int32   \n",
      " 11  feScore         37843 non-null  int8    \n",
      " 12  fuelCost08      37843 non-null  int16   \n",
      " 13  fuelType        37843 non-null  category\n",
      " 14  fuelType1       37843 non-null  category\n",
      " 15  ghgScore        37843 non-null  int8    \n",
      " 16  highway08       37843 non-null  int8    \n",
      " 17  highway08U      37843 non-null  float32 \n",
      " 18  hlv             37843 non-null  int8    \n",
      " 19  hpv             37843 non-null  int16   \n",
      " 20  id              37843 non-null  int32   \n",
      " 21  lv2             37843 non-null  int8    \n",
      " 22  lv4             37843 non-null  int8    \n",
      " 23  make            37843 non-null  category\n",
      " 24  model           37843 non-null  category\n",
      " 25  mpgData         37843 non-null  category\n",
      " 26  phevBlended     37843 non-null  bool    \n",
      " 27  pv2             37843 non-null  int16   \n",
      " 28  pv4             37843 non-null  int16   \n",
      " 29  trany           37843 non-null  category\n",
      " 30  UCity           37843 non-null  float32 \n",
      " 31  UHighway        37843 non-null  float32 \n",
      " 32  VClass          37843 non-null  category\n",
      " 33  year            37843 non-null  int16   \n",
      " 34  youSaveSpend    37843 non-null  int16   \n",
      " 35  createdOn       37843 non-null  category\n",
      " 36  modifiedOn      37843 non-null  category\n",
      " 37  gear            37843 non-null  int8    \n",
      "dtypes: bool(1), category(10), float32(9), int16(8), int32(2), int8(8)\n",
      "memory usage: 3.4 MB\n"
     ]
    }
   ],
   "source": [
    "for col in df.select_dtypes(include='integer'):\n",
    "    df[col]=pd.to_numeric(df[col], downcast='integer')\n",
    "\n",
    "for col in df.select_dtypes(include='float'):\n",
    "    df[col]=pd.to_numeric(df[col], downcast='float')\n",
    "\n",
    "df.info(memory_usage='deep')   "
   ]
  },
  {
   "cell_type": "markdown",
   "metadata": {},
   "source": [
    "## Cleaning years\n",
    "Do you think column year is a continuous variable? Would you change it onto another dtype?"
   ]
  },
  {
   "cell_type": "code",
   "execution_count": 247,
   "metadata": {},
   "outputs": [
    {
     "data": {
      "text/plain": [
       "1984    1964\n",
       "1985    1701\n",
       "1986    1210\n",
       "1987    1247\n",
       "1988    1130\n",
       "1989    1153\n",
       "1990    1078\n",
       "1991    1132\n",
       "1992    1121\n",
       "1993    1093\n",
       "1994     982\n",
       "1995     967\n",
       "1996     773\n",
       "1997     762\n",
       "1998     812\n",
       "1999     852\n",
       "2000     840\n",
       "2001     911\n",
       "2002     975\n",
       "2003    1044\n",
       "2004    1122\n",
       "2005    1166\n",
       "2006    1104\n",
       "2007    1126\n",
       "2008    1187\n",
       "2009    1184\n",
       "2010    1109\n",
       "2011    1130\n",
       "2012    1153\n",
       "2013    1185\n",
       "2014    1226\n",
       "2015    1283\n",
       "2016    1258\n",
       "2017     863\n",
       "Name: year, dtype: int64"
      ]
     },
     "execution_count": 247,
     "metadata": {},
     "output_type": "execute_result"
    }
   ],
   "source": [
    "df['year'].value_counts().sort_index()"
   ]
  },
  {
   "cell_type": "raw",
   "metadata": {},
   "source": [
    "All the values in the column 'year' are actually years from 1984 to 2017."
   ]
  },
  {
   "cell_type": "markdown",
   "metadata": {},
   "source": [
    "You can apply this technique to any column whose data type you would like to change."
   ]
  },
  {
   "cell_type": "raw",
   "metadata": {},
   "source": [
    "There are two columns that contain dates, and its datatype can be transformed:\n",
    "\n",
    "    'createdOn'\n",
    "    'modifiedOn'"
   ]
  },
  {
   "cell_type": "code",
   "execution_count": 248,
   "metadata": {},
   "outputs": [
    {
     "name": "stdout",
     "output_type": "stream",
     "text": [
      "Tue Jan 01 00:00:00 EST 2013 \n",
      " <class 'str'> \n",
      " Tue Jan 01 00:00:00 EST 2013 \n",
      " <class 'str'>\n"
     ]
    }
   ],
   "source": [
    "print(df['createdOn'][0], \"\\n\",\n",
    "      type(df['createdOn'][0]), \"\\n\",\n",
    "      df['modifiedOn'][0], \"\\n\",\n",
    "      type(df['modifiedOn'][0]))"
   ]
  },
  {
   "cell_type": "code",
   "execution_count": 249,
   "metadata": {},
   "outputs": [],
   "source": [
    "df['createdOn'] = pd.to_datetime(df['createdOn'])\n",
    "df['modifiedOn'] = pd.to_datetime(df['modifiedOn'])"
   ]
  },
  {
   "cell_type": "code",
   "execution_count": 250,
   "metadata": {},
   "outputs": [
    {
     "name": "stdout",
     "output_type": "stream",
     "text": [
      "2013-01-01 00:00:00 \n",
      " <class 'pandas._libs.tslibs.timestamps.Timestamp'> \n",
      " 2013-01-01 00:00:00 \n",
      " <class 'pandas._libs.tslibs.timestamps.Timestamp'>\n"
     ]
    }
   ],
   "source": [
    "print(df['createdOn'][0], \"\\n\",\n",
    "      type(df['createdOn'][0]), \"\\n\",\n",
    "      df['modifiedOn'][0], \"\\n\",\n",
    "      type(df['modifiedOn'][0]))"
   ]
  },
  {
   "cell_type": "markdown",
   "metadata": {},
   "source": [
    "Try to reduce the unit of time columns"
   ]
  },
  {
   "cell_type": "code",
   "execution_count": 251,
   "metadata": {},
   "outputs": [
    {
     "name": "stdout",
     "output_type": "stream",
     "text": [
      "<class 'pandas.core.frame.DataFrame'>\n",
      "RangeIndex: 37843 entries, 0 to 37842\n",
      "Data columns (total 38 columns):\n",
      " #   Column          Non-Null Count  Dtype   \n",
      "---  ------          --------------  -----   \n",
      " 0   barrels08       37843 non-null  float32 \n",
      " 1   city08          37843 non-null  int16   \n",
      " 2   city08U         37843 non-null  float32 \n",
      " 3   co2             37843 non-null  int16   \n",
      " 4   co2TailpipeGpm  37843 non-null  float32 \n",
      " 5   comb08          37843 non-null  int8    \n",
      " 6   comb08U         37843 non-null  float32 \n",
      " 7   cylinders       37843 non-null  float32 \n",
      " 8   displ           37843 non-null  float32 \n",
      " 9   drive           37843 non-null  category\n",
      " 10  engId           37843 non-null  int32   \n",
      " 11  feScore         37843 non-null  int8    \n",
      " 12  fuelCost08      37843 non-null  int16   \n",
      " 13  fuelType        37843 non-null  category\n",
      " 14  fuelType1       37843 non-null  category\n",
      " 15  ghgScore        37843 non-null  int8    \n",
      " 16  highway08       37843 non-null  int8    \n",
      " 17  highway08U      37843 non-null  float32 \n",
      " 18  hlv             37843 non-null  int8    \n",
      " 19  hpv             37843 non-null  int16   \n",
      " 20  id              37843 non-null  int32   \n",
      " 21  lv2             37843 non-null  int8    \n",
      " 22  lv4             37843 non-null  int8    \n",
      " 23  make            37843 non-null  category\n",
      " 24  model           37843 non-null  category\n",
      " 25  mpgData         37843 non-null  category\n",
      " 26  phevBlended     37843 non-null  bool    \n",
      " 27  pv2             37843 non-null  int16   \n",
      " 28  pv4             37843 non-null  int16   \n",
      " 29  trany           37843 non-null  category\n",
      " 30  UCity           37843 non-null  float32 \n",
      " 31  UHighway        37843 non-null  float32 \n",
      " 32  VClass          37843 non-null  category\n",
      " 33  year            37843 non-null  int16   \n",
      " 34  youSaveSpend    37843 non-null  int16   \n",
      " 35  createdOn       37843 non-null  category\n",
      " 36  modifiedOn      37843 non-null  category\n",
      " 37  gear            37843 non-null  int8    \n",
      "dtypes: bool(1), category(10), float32(9), int16(8), int32(2), int8(8)\n",
      "memory usage: 3.4 MB\n"
     ]
    }
   ],
   "source": [
    "for col in df.select_dtypes(include='datetime64[ns]'): \n",
    "    df[col]=df[col].astype('datetime64[s]')\n",
    "\n",
    "df.info(memory_usage='deep')"
   ]
  },
  {
   "cell_type": "raw",
   "metadata": {},
   "source": [
    "Nothing change, it was not possible to change from nanoseconds to seconds."
   ]
  },
  {
   "cell_type": "markdown",
   "metadata": {},
   "source": [
    "# Cleaning Text and Removing Special Characters\n",
    "\n",
    "The presence of special characters in our fields has the potential to make analyzing our data challenging. Imagine not being able to perform calculations on a numeric field because it was currently represented as an object data type due to the fact that it had a dollar sign ($) in it. \n",
    "\n",
    "Similarly, imagine having a categorical field where you could not group records that belong in the same group together because in one field you are grouping by, terms that refer to the same thing are sometimes hyphenated. In cases like this, it is necessary to remove special characters so that we can properly analyze the data.\n",
    "\n",
    "In our vehicles data set, the trany field has several special characters (parentheses, hyphens, etc.). Check the unique values and clean the column.\n",
    "\n",
    "hint: check the `replace` function"
   ]
  },
  {
   "cell_type": "raw",
   "metadata": {},
   "source": [
    "First I need to change the categories to objects"
   ]
  },
  {
   "cell_type": "code",
   "execution_count": 252,
   "metadata": {},
   "outputs": [],
   "source": [
    "for col in df.select_dtypes(include='category'):\n",
    "    df[col] = df[col].astype('object')"
   ]
  },
  {
   "cell_type": "code",
   "execution_count": 253,
   "metadata": {},
   "outputs": [],
   "source": [
    "df_obj = df.select_dtypes(include='object')"
   ]
  },
  {
   "cell_type": "code",
   "execution_count": 254,
   "metadata": {},
   "outputs": [
    {
     "ename": "TypeError",
     "evalue": "expected string or bytes-like object, got 'Timestamp'",
     "output_type": "error",
     "traceback": [
      "\u001b[1;31m---------------------------------------------------------------------------\u001b[0m",
      "\u001b[1;31mTypeError\u001b[0m                                 Traceback (most recent call last)",
      "Cell \u001b[1;32mIn[254], line 11\u001b[0m\n\u001b[0;32m      8\u001b[0m             \u001b[38;5;28;01mif\u001b[39;00m weird_chars:\n\u001b[0;32m      9\u001b[0m                 \u001b[38;5;28mprint\u001b[39m(\u001b[38;5;124mf\u001b[39m\u001b[38;5;124m\"\u001b[39m\u001b[38;5;124mColumna: \u001b[39m\u001b[38;5;132;01m{\u001b[39;00mcol\u001b[38;5;132;01m}\u001b[39;00m\u001b[38;5;124m | Fila: \u001b[39m\u001b[38;5;132;01m{\u001b[39;00mi\u001b[38;5;132;01m}\u001b[39;00m\u001b[38;5;124m | Caracteres raros: \u001b[39m\u001b[38;5;132;01m{\u001b[39;00mweird_chars\u001b[38;5;132;01m}\u001b[39;00m\u001b[38;5;124m\"\u001b[39m)\n\u001b[1;32m---> 11\u001b[0m find_special_chars(df_obj)\n",
      "Cell \u001b[1;32mIn[254], line 7\u001b[0m, in \u001b[0;36mfind_special_chars\u001b[1;34m(df)\u001b[0m\n\u001b[0;32m      5\u001b[0m \u001b[38;5;28;01mfor\u001b[39;00m i \u001b[38;5;129;01min\u001b[39;00m \u001b[38;5;28mrange\u001b[39m(\u001b[38;5;28mlen\u001b[39m(df)):\n\u001b[0;32m      6\u001b[0m     value \u001b[38;5;241m=\u001b[39m df\u001b[38;5;241m.\u001b[39mloc[i, col]\n\u001b[1;32m----> 7\u001b[0m     weird_chars \u001b[38;5;241m=\u001b[39m re\u001b[38;5;241m.\u001b[39mfindall(patron, value)\n\u001b[0;32m      8\u001b[0m     \u001b[38;5;28;01mif\u001b[39;00m weird_chars:\n\u001b[0;32m      9\u001b[0m         \u001b[38;5;28mprint\u001b[39m(\u001b[38;5;124mf\u001b[39m\u001b[38;5;124m\"\u001b[39m\u001b[38;5;124mColumna: \u001b[39m\u001b[38;5;132;01m{\u001b[39;00mcol\u001b[38;5;132;01m}\u001b[39;00m\u001b[38;5;124m | Fila: \u001b[39m\u001b[38;5;132;01m{\u001b[39;00mi\u001b[38;5;132;01m}\u001b[39;00m\u001b[38;5;124m | Caracteres raros: \u001b[39m\u001b[38;5;132;01m{\u001b[39;00mweird_chars\u001b[38;5;132;01m}\u001b[39;00m\u001b[38;5;124m\"\u001b[39m)\n",
      "File \u001b[1;32m~\\anaconda3\\Lib\\re\\__init__.py:216\u001b[0m, in \u001b[0;36mfindall\u001b[1;34m(pattern, string, flags)\u001b[0m\n\u001b[0;32m    208\u001b[0m \u001b[38;5;28;01mdef\u001b[39;00m \u001b[38;5;21mfindall\u001b[39m(pattern, string, flags\u001b[38;5;241m=\u001b[39m\u001b[38;5;241m0\u001b[39m):\n\u001b[0;32m    209\u001b[0m \u001b[38;5;250m    \u001b[39m\u001b[38;5;124;03m\"\"\"Return a list of all non-overlapping matches in the string.\u001b[39;00m\n\u001b[0;32m    210\u001b[0m \n\u001b[0;32m    211\u001b[0m \u001b[38;5;124;03m    If one or more capturing groups are present in the pattern, return\u001b[39;00m\n\u001b[1;32m   (...)\u001b[0m\n\u001b[0;32m    214\u001b[0m \n\u001b[0;32m    215\u001b[0m \u001b[38;5;124;03m    Empty matches are included in the result.\"\"\"\u001b[39;00m\n\u001b[1;32m--> 216\u001b[0m     \u001b[38;5;28;01mreturn\u001b[39;00m _compile(pattern, flags)\u001b[38;5;241m.\u001b[39mfindall(string)\n",
      "\u001b[1;31mTypeError\u001b[0m: expected string or bytes-like object, got 'Timestamp'"
     ]
    }
   ],
   "source": [
    "patron = r'[?¿*$%&]'\n",
    "\n",
    "def find_special_chars(df):\n",
    "    for col in df.columns:\n",
    "        for i in range(len(df)):\n",
    "            value = df.loc[i, col]\n",
    "            weird_chars = re.findall(patron, value)\n",
    "            if weird_chars:\n",
    "                print(f\"Columna: {col} | Fila: {i} | Caracteres raros: {weird_chars}\")\n",
    "\n",
    "find_special_chars(df_obj)"
   ]
  },
  {
   "cell_type": "raw",
   "metadata": {},
   "source": [
    "There are no special characters.\n",
    "I change the type again from objects to categories."
   ]
  },
  {
   "cell_type": "code",
   "execution_count": null,
   "metadata": {},
   "outputs": [],
   "source": [
    "for col in df.select_dtypes(include='object'):\n",
    "    df[col] = df[col].astype('category')\n",
    "    \n",
    "df.info(memory_usage='deep')"
   ]
  },
  {
   "cell_type": "markdown",
   "metadata": {},
   "source": [
    "As you can see, we now have no special characters, consistent naming, and proper spacing. We started out with 47 unique values in this column, and using this technique, we were able to reduce the number of unique values to 39.\n",
    "\n",
    "\n",
    "\n",
    "# Finding and Removing Duplicates\n",
    "\n",
    "The final topic we are going to cover in this lab is how to identify and remove duplicate rows (or rows that refer to the same entity) in our data. When trying to identify duplicates, we will use the columns (or attributes) of the data to help us determine what entities are similar enough to be considered the same entity. We want to start with all the columns we currently have available to us and work our way toward a lesser number of attributes in an intuitive fashion. In this process, the act of dropping duplicated records is easy, but identifying the correct attributes for comparison and which records to drop is sometimes quite challenging.\n",
    "\n",
    "The first thing we will do is attempt to drop any duplicate records, considering all the columns we currently have in the data set. \n",
    "\n",
    "Pandas provides us with the ability to do that via the `drop_duplicates method`."
   ]
  },
  {
   "cell_type": "markdown",
   "metadata": {},
   "source": [
    "## Drop duplicate rows that are completely equal"
   ]
  },
  {
   "cell_type": "raw",
   "metadata": {},
   "source": [
    "I already solved that question:"
   ]
  },
  {
   "cell_type": "code",
   "execution_count": null,
   "metadata": {},
   "outputs": [],
   "source": [
    "df.duplicated().any()"
   ]
  },
  {
   "cell_type": "markdown",
   "metadata": {},
   "source": [
    "This tells us that there were no records that matched exactly across all columns. However, if we reduce the number of columns in our data that we are interested in, we can try again and have a higher likelihood of finding duplicate records. "
   ]
  },
  {
   "cell_type": "markdown",
   "metadata": {},
   "source": [
    "## Select a subset of columns, remove all other columns, and then use the drop_duplicates method to drop any duplicate records based on the remaining columns."
   ]
  },
  {
   "cell_type": "code",
   "execution_count": 255,
   "metadata": {},
   "outputs": [],
   "source": [
    "subset_columns = df[['fuelType', 'comb08', 'UHighway']]"
   ]
  },
  {
   "cell_type": "code",
   "execution_count": 256,
   "metadata": {},
   "outputs": [],
   "source": [
    "rest_columns = [col for col in df if col not in subset_columns]"
   ]
  },
  {
   "cell_type": "code",
   "execution_count": 257,
   "metadata": {},
   "outputs": [
    {
     "data": {
      "text/html": [
       "<div>\n",
       "<style scoped>\n",
       "    .dataframe tbody tr th:only-of-type {\n",
       "        vertical-align: middle;\n",
       "    }\n",
       "\n",
       "    .dataframe tbody tr th {\n",
       "        vertical-align: top;\n",
       "    }\n",
       "\n",
       "    .dataframe thead th {\n",
       "        text-align: right;\n",
       "    }\n",
       "</style>\n",
       "<table border=\"1\" class=\"dataframe\">\n",
       "  <thead>\n",
       "    <tr style=\"text-align: right;\">\n",
       "      <th></th>\n",
       "      <th>comb08</th>\n",
       "      <th>fuelType</th>\n",
       "      <th>UHighway</th>\n",
       "    </tr>\n",
       "  </thead>\n",
       "  <tbody>\n",
       "    <tr>\n",
       "      <th>0</th>\n",
       "      <td>21</td>\n",
       "      <td>Regular</td>\n",
       "      <td>35.0000</td>\n",
       "    </tr>\n",
       "    <tr>\n",
       "      <th>1</th>\n",
       "      <td>11</td>\n",
       "      <td>Regular</td>\n",
       "      <td>19.0000</td>\n",
       "    </tr>\n",
       "    <tr>\n",
       "      <th>2</th>\n",
       "      <td>27</td>\n",
       "      <td>Regular</td>\n",
       "      <td>47.0000</td>\n",
       "    </tr>\n",
       "    <tr>\n",
       "      <th>3</th>\n",
       "      <td>11</td>\n",
       "      <td>Regular</td>\n",
       "      <td>16.6667</td>\n",
       "    </tr>\n",
       "    <tr>\n",
       "      <th>4</th>\n",
       "      <td>19</td>\n",
       "      <td>Premium</td>\n",
       "      <td>32.0000</td>\n",
       "    </tr>\n",
       "  </tbody>\n",
       "</table>\n",
       "</div>"
      ],
      "text/plain": [
       "   comb08 fuelType  UHighway\n",
       "0      21  Regular   35.0000\n",
       "1      11  Regular   19.0000\n",
       "2      27  Regular   47.0000\n",
       "3      11  Regular   16.6667\n",
       "4      19  Premium   32.0000"
      ]
     },
     "execution_count": 257,
     "metadata": {},
     "output_type": "execute_result"
    }
   ],
   "source": [
    "bad_df = df.drop(rest_columns, axis = 1)\n",
    "bad_df.head()"
   ]
  },
  {
   "cell_type": "code",
   "execution_count": 258,
   "metadata": {},
   "outputs": [
    {
     "data": {
      "text/plain": [
       "(37843, 3)"
      ]
     },
     "execution_count": 258,
     "metadata": {},
     "output_type": "execute_result"
    }
   ],
   "source": [
    "bad_df.shape"
   ]
  },
  {
   "cell_type": "code",
   "execution_count": 259,
   "metadata": {},
   "outputs": [
    {
     "data": {
      "text/plain": [
       "True"
      ]
     },
     "execution_count": 259,
     "metadata": {},
     "output_type": "execute_result"
    }
   ],
   "source": [
    "bad_df.duplicated().any()"
   ]
  },
  {
   "cell_type": "code",
   "execution_count": 260,
   "metadata": {},
   "outputs": [
    {
     "data": {
      "text/plain": [
       "(9333, 3)"
      ]
     },
     "execution_count": 260,
     "metadata": {},
     "output_type": "execute_result"
    }
   ],
   "source": [
    "bad_df.drop_duplicates(inplace=True)\n",
    "bad_df.shape"
   ]
  },
  {
   "cell_type": "markdown",
   "metadata": {},
   "source": [
    "With the reduced number of columns, we were able to identify and drop 885 duplicate records."
   ]
  },
  {
   "cell_type": "code",
   "execution_count": 261,
   "metadata": {},
   "outputs": [
    {
     "name": "stdout",
     "output_type": "stream",
     "text": [
      "In this case, 28510 rows were dropped\n"
     ]
    }
   ],
   "source": [
    "print(f'In this case, {37843 - 9333} rows were dropped')"
   ]
  },
  {
   "cell_type": "markdown",
   "metadata": {},
   "source": [
    "# Export clean dataset\n",
    "Export your bright new clean dataset into a csv file and store it in data folder."
   ]
  },
  {
   "cell_type": "code",
   "execution_count": 263,
   "metadata": {},
   "outputs": [],
   "source": [
    "df.to_csv('../data/clean_cars_IGC.csv', index=False)"
   ]
  },
  {
   "cell_type": "markdown",
   "metadata": {},
   "source": [
    "# Extra: correlation between columns"
   ]
  },
  {
   "cell_type": "code",
   "execution_count": 264,
   "metadata": {},
   "outputs": [
    {
     "data": {
      "text/html": [
       "<div>\n",
       "<style scoped>\n",
       "    .dataframe tbody tr th:only-of-type {\n",
       "        vertical-align: middle;\n",
       "    }\n",
       "\n",
       "    .dataframe tbody tr th {\n",
       "        vertical-align: top;\n",
       "    }\n",
       "\n",
       "    .dataframe thead th {\n",
       "        text-align: right;\n",
       "    }\n",
       "</style>\n",
       "<table border=\"1\" class=\"dataframe\">\n",
       "  <thead>\n",
       "    <tr style=\"text-align: right;\">\n",
       "      <th></th>\n",
       "      <th>barrels08</th>\n",
       "      <th>city08</th>\n",
       "      <th>city08U</th>\n",
       "      <th>co2</th>\n",
       "      <th>co2TailpipeGpm</th>\n",
       "      <th>comb08</th>\n",
       "      <th>comb08U</th>\n",
       "      <th>cylinders</th>\n",
       "      <th>displ</th>\n",
       "      <th>engId</th>\n",
       "      <th>...</th>\n",
       "      <th>lv2</th>\n",
       "      <th>lv4</th>\n",
       "      <th>phevBlended</th>\n",
       "      <th>pv2</th>\n",
       "      <th>pv4</th>\n",
       "      <th>UCity</th>\n",
       "      <th>UHighway</th>\n",
       "      <th>year</th>\n",
       "      <th>youSaveSpend</th>\n",
       "      <th>gear</th>\n",
       "    </tr>\n",
       "  </thead>\n",
       "  <tbody>\n",
       "    <tr>\n",
       "      <th>barrels08</th>\n",
       "      <td>1.000000</td>\n",
       "      <td>-0.754178</td>\n",
       "      <td>-0.360597</td>\n",
       "      <td>-0.113773</td>\n",
       "      <td>0.987493</td>\n",
       "      <td>-0.813910</td>\n",
       "      <td>-0.356207</td>\n",
       "      <td>0.747381</td>\n",
       "      <td>0.078172</td>\n",
       "      <td>-0.073507</td>\n",
       "      <td>...</td>\n",
       "      <td>-0.123986</td>\n",
       "      <td>-0.258650</td>\n",
       "      <td>-0.073758</td>\n",
       "      <td>-0.124002</td>\n",
       "      <td>-0.311614</td>\n",
       "      <td>-0.732513</td>\n",
       "      <td>-0.858946</td>\n",
       "      <td>-0.204844</td>\n",
       "      <td>-0.916718</td>\n",
       "      <td>-0.052975</td>\n",
       "    </tr>\n",
       "    <tr>\n",
       "      <th>city08</th>\n",
       "      <td>-0.754178</td>\n",
       "      <td>1.000000</td>\n",
       "      <td>0.572131</td>\n",
       "      <td>0.057167</td>\n",
       "      <td>-0.767689</td>\n",
       "      <td>0.987464</td>\n",
       "      <td>0.526201</td>\n",
       "      <td>-0.614281</td>\n",
       "      <td>-0.060988</td>\n",
       "      <td>0.070890</td>\n",
       "      <td>...</td>\n",
       "      <td>0.041028</td>\n",
       "      <td>0.141717</td>\n",
       "      <td>0.069768</td>\n",
       "      <td>0.038917</td>\n",
       "      <td>0.179480</td>\n",
       "      <td>0.996735</td>\n",
       "      <td>0.925487</td>\n",
       "      <td>0.142110</td>\n",
       "      <td>0.697109</td>\n",
       "      <td>-0.123830</td>\n",
       "    </tr>\n",
       "    <tr>\n",
       "      <th>city08U</th>\n",
       "      <td>-0.360597</td>\n",
       "      <td>0.572131</td>\n",
       "      <td>1.000000</td>\n",
       "      <td>0.625575</td>\n",
       "      <td>-0.367654</td>\n",
       "      <td>0.568988</td>\n",
       "      <td>0.995312</td>\n",
       "      <td>-0.155521</td>\n",
       "      <td>-0.019124</td>\n",
       "      <td>-0.203999</td>\n",
       "      <td>...</td>\n",
       "      <td>-0.044914</td>\n",
       "      <td>0.003767</td>\n",
       "      <td>0.092432</td>\n",
       "      <td>-0.025526</td>\n",
       "      <td>0.045957</td>\n",
       "      <td>0.575844</td>\n",
       "      <td>0.548646</td>\n",
       "      <td>0.575048</td>\n",
       "      <td>0.269068</td>\n",
       "      <td>0.271257</td>\n",
       "    </tr>\n",
       "    <tr>\n",
       "      <th>co2</th>\n",
       "      <td>-0.113773</td>\n",
       "      <td>0.057167</td>\n",
       "      <td>0.625575</td>\n",
       "      <td>1.000000</td>\n",
       "      <td>-0.117604</td>\n",
       "      <td>0.083534</td>\n",
       "      <td>0.666500</td>\n",
       "      <td>0.093277</td>\n",
       "      <td>0.004714</td>\n",
       "      <td>-0.197383</td>\n",
       "      <td>...</td>\n",
       "      <td>-0.024676</td>\n",
       "      <td>-0.039258</td>\n",
       "      <td>0.025627</td>\n",
       "      <td>-0.003361</td>\n",
       "      <td>-0.004422</td>\n",
       "      <td>0.055694</td>\n",
       "      <td>0.130346</td>\n",
       "      <td>0.580558</td>\n",
       "      <td>0.046250</td>\n",
       "      <td>0.484976</td>\n",
       "    </tr>\n",
       "    <tr>\n",
       "      <th>co2TailpipeGpm</th>\n",
       "      <td>0.987493</td>\n",
       "      <td>-0.767689</td>\n",
       "      <td>-0.367654</td>\n",
       "      <td>-0.117604</td>\n",
       "      <td>1.000000</td>\n",
       "      <td>-0.827964</td>\n",
       "      <td>-0.363189</td>\n",
       "      <td>0.759182</td>\n",
       "      <td>0.079393</td>\n",
       "      <td>-0.076769</td>\n",
       "      <td>...</td>\n",
       "      <td>-0.127086</td>\n",
       "      <td>-0.262586</td>\n",
       "      <td>-0.071796</td>\n",
       "      <td>-0.127151</td>\n",
       "      <td>-0.315065</td>\n",
       "      <td>-0.746638</td>\n",
       "      <td>-0.875143</td>\n",
       "      <td>-0.205201</td>\n",
       "      <td>-0.929848</td>\n",
       "      <td>-0.056726</td>\n",
       "    </tr>\n",
       "    <tr>\n",
       "      <th>comb08</th>\n",
       "      <td>-0.813910</td>\n",
       "      <td>0.987464</td>\n",
       "      <td>0.568988</td>\n",
       "      <td>0.083534</td>\n",
       "      <td>-0.827964</td>\n",
       "      <td>1.000000</td>\n",
       "      <td>0.531857</td>\n",
       "      <td>-0.638127</td>\n",
       "      <td>-0.065187</td>\n",
       "      <td>0.052601</td>\n",
       "      <td>...</td>\n",
       "      <td>0.069401</td>\n",
       "      <td>0.179940</td>\n",
       "      <td>0.060819</td>\n",
       "      <td>0.069295</td>\n",
       "      <td>0.227661</td>\n",
       "      <td>0.982058</td>\n",
       "      <td>0.968491</td>\n",
       "      <td>0.178861</td>\n",
       "      <td>0.749715</td>\n",
       "      <td>-0.063444</td>\n",
       "    </tr>\n",
       "    <tr>\n",
       "      <th>comb08U</th>\n",
       "      <td>-0.356207</td>\n",
       "      <td>0.526201</td>\n",
       "      <td>0.995312</td>\n",
       "      <td>0.666500</td>\n",
       "      <td>-0.363189</td>\n",
       "      <td>0.531857</td>\n",
       "      <td>1.000000</td>\n",
       "      <td>-0.142513</td>\n",
       "      <td>-0.018336</td>\n",
       "      <td>-0.213138</td>\n",
       "      <td>...</td>\n",
       "      <td>-0.042654</td>\n",
       "      <td>0.005721</td>\n",
       "      <td>0.085616</td>\n",
       "      <td>-0.021737</td>\n",
       "      <td>0.050845</td>\n",
       "      <td>0.527940</td>\n",
       "      <td>0.525772</td>\n",
       "      <td>0.600518</td>\n",
       "      <td>0.264964</td>\n",
       "      <td>0.312977</td>\n",
       "    </tr>\n",
       "    <tr>\n",
       "      <th>cylinders</th>\n",
       "      <td>0.747381</td>\n",
       "      <td>-0.614281</td>\n",
       "      <td>-0.155521</td>\n",
       "      <td>0.093277</td>\n",
       "      <td>0.759182</td>\n",
       "      <td>-0.638127</td>\n",
       "      <td>-0.142513</td>\n",
       "      <td>1.000000</td>\n",
       "      <td>0.088551</td>\n",
       "      <td>-0.251684</td>\n",
       "      <td>...</td>\n",
       "      <td>-0.037976</td>\n",
       "      <td>-0.151925</td>\n",
       "      <td>-0.021642</td>\n",
       "      <td>-0.028237</td>\n",
       "      <td>-0.156052</td>\n",
       "      <td>-0.595156</td>\n",
       "      <td>-0.634007</td>\n",
       "      <td>0.087205</td>\n",
       "      <td>-0.778685</td>\n",
       "      <td>0.153398</td>\n",
       "    </tr>\n",
       "    <tr>\n",
       "      <th>displ</th>\n",
       "      <td>0.078172</td>\n",
       "      <td>-0.060988</td>\n",
       "      <td>-0.019124</td>\n",
       "      <td>0.004714</td>\n",
       "      <td>0.079393</td>\n",
       "      <td>-0.065187</td>\n",
       "      <td>-0.018336</td>\n",
       "      <td>0.088551</td>\n",
       "      <td>1.000000</td>\n",
       "      <td>-0.034286</td>\n",
       "      <td>...</td>\n",
       "      <td>-0.010983</td>\n",
       "      <td>-0.027363</td>\n",
       "      <td>-0.002929</td>\n",
       "      <td>-0.011122</td>\n",
       "      <td>-0.030495</td>\n",
       "      <td>-0.059196</td>\n",
       "      <td>-0.067554</td>\n",
       "      <td>-0.005443</td>\n",
       "      <td>-0.075164</td>\n",
       "      <td>0.008998</td>\n",
       "    </tr>\n",
       "    <tr>\n",
       "      <th>engId</th>\n",
       "      <td>-0.073507</td>\n",
       "      <td>0.070890</td>\n",
       "      <td>-0.203999</td>\n",
       "      <td>-0.197383</td>\n",
       "      <td>-0.076769</td>\n",
       "      <td>0.052601</td>\n",
       "      <td>-0.213138</td>\n",
       "      <td>-0.251684</td>\n",
       "      <td>-0.034286</td>\n",
       "      <td>1.000000</td>\n",
       "      <td>...</td>\n",
       "      <td>0.018334</td>\n",
       "      <td>0.066738</td>\n",
       "      <td>-0.014956</td>\n",
       "      <td>0.011459</td>\n",
       "      <td>0.040605</td>\n",
       "      <td>0.066197</td>\n",
       "      <td>0.009610</td>\n",
       "      <td>-0.476922</td>\n",
       "      <td>0.111466</td>\n",
       "      <td>-0.169792</td>\n",
       "    </tr>\n",
       "    <tr>\n",
       "      <th>feScore</th>\n",
       "      <td>-0.325141</td>\n",
       "      <td>0.359256</td>\n",
       "      <td>0.831998</td>\n",
       "      <td>0.824190</td>\n",
       "      <td>-0.331295</td>\n",
       "      <td>0.382966</td>\n",
       "      <td>0.854487</td>\n",
       "      <td>-0.124663</td>\n",
       "      <td>-0.017259</td>\n",
       "      <td>-0.197161</td>\n",
       "      <td>...</td>\n",
       "      <td>-0.036222</td>\n",
       "      <td>0.009345</td>\n",
       "      <td>0.108161</td>\n",
       "      <td>-0.017224</td>\n",
       "      <td>0.057105</td>\n",
       "      <td>0.357980</td>\n",
       "      <td>0.410974</td>\n",
       "      <td>0.577508</td>\n",
       "      <td>0.254210</td>\n",
       "      <td>0.366705</td>\n",
       "    </tr>\n",
       "    <tr>\n",
       "      <th>fuelCost08</th>\n",
       "      <td>0.915986</td>\n",
       "      <td>-0.696589</td>\n",
       "      <td>-0.267879</td>\n",
       "      <td>-0.045990</td>\n",
       "      <td>0.929113</td>\n",
       "      <td>-0.749350</td>\n",
       "      <td>-0.263860</td>\n",
       "      <td>0.778748</td>\n",
       "      <td>0.075153</td>\n",
       "      <td>-0.111788</td>\n",
       "      <td>...</td>\n",
       "      <td>-0.094747</td>\n",
       "      <td>-0.231518</td>\n",
       "      <td>-0.038307</td>\n",
       "      <td>-0.073539</td>\n",
       "      <td>-0.258642</td>\n",
       "      <td>-0.674340</td>\n",
       "      <td>-0.785615</td>\n",
       "      <td>-0.071145</td>\n",
       "      <td>-0.999877</td>\n",
       "      <td>0.066361</td>\n",
       "    </tr>\n",
       "    <tr>\n",
       "      <th>ghgScore</th>\n",
       "      <td>-0.325686</td>\n",
       "      <td>0.359011</td>\n",
       "      <td>0.831867</td>\n",
       "      <td>0.824042</td>\n",
       "      <td>-0.331573</td>\n",
       "      <td>0.382479</td>\n",
       "      <td>0.854224</td>\n",
       "      <td>-0.124518</td>\n",
       "      <td>-0.017235</td>\n",
       "      <td>-0.197180</td>\n",
       "      <td>...</td>\n",
       "      <td>-0.036058</td>\n",
       "      <td>0.009301</td>\n",
       "      <td>0.115647</td>\n",
       "      <td>-0.017000</td>\n",
       "      <td>0.057216</td>\n",
       "      <td>0.357791</td>\n",
       "      <td>0.410130</td>\n",
       "      <td>0.577590</td>\n",
       "      <td>0.253630</td>\n",
       "      <td>0.365787</td>\n",
       "    </tr>\n",
       "    <tr>\n",
       "      <th>highway08</th>\n",
       "      <td>-0.858107</td>\n",
       "      <td>0.927770</td>\n",
       "      <td>0.549666</td>\n",
       "      <td>0.127048</td>\n",
       "      <td>-0.872890</td>\n",
       "      <td>0.970911</td>\n",
       "      <td>0.526566</td>\n",
       "      <td>-0.629665</td>\n",
       "      <td>-0.066660</td>\n",
       "      <td>0.008290</td>\n",
       "      <td>...</td>\n",
       "      <td>0.117545</td>\n",
       "      <td>0.234867</td>\n",
       "      <td>0.044590</td>\n",
       "      <td>0.120692</td>\n",
       "      <td>0.298160</td>\n",
       "      <td>0.917447</td>\n",
       "      <td>0.995396</td>\n",
       "      <td>0.239015</td>\n",
       "      <td>0.780788</td>\n",
       "      <td>0.043283</td>\n",
       "    </tr>\n",
       "    <tr>\n",
       "      <th>highway08U</th>\n",
       "      <td>-0.344219</td>\n",
       "      <td>0.462646</td>\n",
       "      <td>0.976933</td>\n",
       "      <td>0.709907</td>\n",
       "      <td>-0.351011</td>\n",
       "      <td>0.478672</td>\n",
       "      <td>0.992849</td>\n",
       "      <td>-0.121301</td>\n",
       "      <td>-0.016826</td>\n",
       "      <td>-0.221752</td>\n",
       "      <td>...</td>\n",
       "      <td>-0.037675</td>\n",
       "      <td>0.009063</td>\n",
       "      <td>0.074413</td>\n",
       "      <td>-0.014988</td>\n",
       "      <td>0.057795</td>\n",
       "      <td>0.462150</td>\n",
       "      <td>0.490530</td>\n",
       "      <td>0.624417</td>\n",
       "      <td>0.253830</td>\n",
       "      <td>0.363761</td>\n",
       "    </tr>\n",
       "    <tr>\n",
       "      <th>hlv</th>\n",
       "      <td>-0.255115</td>\n",
       "      <td>0.245281</td>\n",
       "      <td>0.034921</td>\n",
       "      <td>-0.060566</td>\n",
       "      <td>-0.259369</td>\n",
       "      <td>0.260312</td>\n",
       "      <td>0.028201</td>\n",
       "      <td>-0.262588</td>\n",
       "      <td>-0.033106</td>\n",
       "      <td>0.199133</td>\n",
       "      <td>...</td>\n",
       "      <td>-0.043257</td>\n",
       "      <td>-0.089509</td>\n",
       "      <td>0.006205</td>\n",
       "      <td>-0.044047</td>\n",
       "      <td>-0.064202</td>\n",
       "      <td>0.237480</td>\n",
       "      <td>0.262182</td>\n",
       "      <td>-0.117039</td>\n",
       "      <td>0.240158</td>\n",
       "      <td>-0.064114</td>\n",
       "    </tr>\n",
       "    <tr>\n",
       "      <th>hpv</th>\n",
       "      <td>-0.293999</td>\n",
       "      <td>0.281656</td>\n",
       "      <td>0.036384</td>\n",
       "      <td>-0.062720</td>\n",
       "      <td>-0.298722</td>\n",
       "      <td>0.298627</td>\n",
       "      <td>0.029516</td>\n",
       "      <td>-0.285997</td>\n",
       "      <td>-0.036491</td>\n",
       "      <td>0.201753</td>\n",
       "      <td>...</td>\n",
       "      <td>-0.036324</td>\n",
       "      <td>-0.093607</td>\n",
       "      <td>0.005442</td>\n",
       "      <td>-0.034112</td>\n",
       "      <td>-0.061833</td>\n",
       "      <td>0.273417</td>\n",
       "      <td>0.302684</td>\n",
       "      <td>-0.133502</td>\n",
       "      <td>0.279090</td>\n",
       "      <td>-0.071161</td>\n",
       "    </tr>\n",
       "    <tr>\n",
       "      <th>id</th>\n",
       "      <td>-0.192848</td>\n",
       "      <td>0.157913</td>\n",
       "      <td>0.590515</td>\n",
       "      <td>0.596749</td>\n",
       "      <td>-0.194365</td>\n",
       "      <td>0.186968</td>\n",
       "      <td>0.616354</td>\n",
       "      <td>0.064868</td>\n",
       "      <td>0.011086</td>\n",
       "      <td>-0.422106</td>\n",
       "      <td>...</td>\n",
       "      <td>-0.079921</td>\n",
       "      <td>-0.032801</td>\n",
       "      <td>0.047613</td>\n",
       "      <td>-0.057396</td>\n",
       "      <td>0.020525</td>\n",
       "      <td>0.157254</td>\n",
       "      <td>0.232887</td>\n",
       "      <td>0.828613</td>\n",
       "      <td>0.089631</td>\n",
       "      <td>0.462901</td>\n",
       "    </tr>\n",
       "    <tr>\n",
       "      <th>lv2</th>\n",
       "      <td>-0.123986</td>\n",
       "      <td>0.041028</td>\n",
       "      <td>-0.044914</td>\n",
       "      <td>-0.024676</td>\n",
       "      <td>-0.127086</td>\n",
       "      <td>0.069401</td>\n",
       "      <td>-0.042654</td>\n",
       "      <td>-0.037976</td>\n",
       "      <td>-0.010983</td>\n",
       "      <td>0.018334</td>\n",
       "      <td>...</td>\n",
       "      <td>1.000000</td>\n",
       "      <td>-0.014561</td>\n",
       "      <td>-0.009979</td>\n",
       "      <td>0.949804</td>\n",
       "      <td>0.035626</td>\n",
       "      <td>0.036646</td>\n",
       "      <td>0.117038</td>\n",
       "      <td>-0.104674</td>\n",
       "      <td>0.094676</td>\n",
       "      <td>-0.021197</td>\n",
       "    </tr>\n",
       "    <tr>\n",
       "      <th>lv4</th>\n",
       "      <td>-0.258650</td>\n",
       "      <td>0.141717</td>\n",
       "      <td>0.003767</td>\n",
       "      <td>-0.039258</td>\n",
       "      <td>-0.262586</td>\n",
       "      <td>0.179940</td>\n",
       "      <td>0.005721</td>\n",
       "      <td>-0.151925</td>\n",
       "      <td>-0.027363</td>\n",
       "      <td>0.066738</td>\n",
       "      <td>...</td>\n",
       "      <td>-0.014561</td>\n",
       "      <td>1.000000</td>\n",
       "      <td>0.001499</td>\n",
       "      <td>-0.058363</td>\n",
       "      <td>0.859602</td>\n",
       "      <td>0.134484</td>\n",
       "      <td>0.236617</td>\n",
       "      <td>-0.038471</td>\n",
       "      <td>0.231305</td>\n",
       "      <td>-0.019705</td>\n",
       "    </tr>\n",
       "    <tr>\n",
       "      <th>phevBlended</th>\n",
       "      <td>-0.073758</td>\n",
       "      <td>0.069768</td>\n",
       "      <td>0.092432</td>\n",
       "      <td>0.025627</td>\n",
       "      <td>-0.071796</td>\n",
       "      <td>0.060819</td>\n",
       "      <td>0.085616</td>\n",
       "      <td>-0.021642</td>\n",
       "      <td>-0.002929</td>\n",
       "      <td>-0.014956</td>\n",
       "      <td>...</td>\n",
       "      <td>-0.009979</td>\n",
       "      <td>0.001499</td>\n",
       "      <td>1.000000</td>\n",
       "      <td>-0.006855</td>\n",
       "      <td>0.016210</td>\n",
       "      <td>0.071905</td>\n",
       "      <td>0.047711</td>\n",
       "      <td>0.045016</td>\n",
       "      <td>0.045568</td>\n",
       "      <td>-0.009107</td>\n",
       "    </tr>\n",
       "    <tr>\n",
       "      <th>pv2</th>\n",
       "      <td>-0.124002</td>\n",
       "      <td>0.038917</td>\n",
       "      <td>-0.025526</td>\n",
       "      <td>-0.003361</td>\n",
       "      <td>-0.127151</td>\n",
       "      <td>0.069295</td>\n",
       "      <td>-0.021737</td>\n",
       "      <td>-0.028237</td>\n",
       "      <td>-0.011122</td>\n",
       "      <td>0.011459</td>\n",
       "      <td>...</td>\n",
       "      <td>0.949804</td>\n",
       "      <td>-0.058363</td>\n",
       "      <td>-0.006855</td>\n",
       "      <td>1.000000</td>\n",
       "      <td>-0.012743</td>\n",
       "      <td>0.034880</td>\n",
       "      <td>0.120211</td>\n",
       "      <td>-0.060496</td>\n",
       "      <td>0.073539</td>\n",
       "      <td>0.022101</td>\n",
       "    </tr>\n",
       "    <tr>\n",
       "      <th>pv4</th>\n",
       "      <td>-0.311614</td>\n",
       "      <td>0.179480</td>\n",
       "      <td>0.045957</td>\n",
       "      <td>-0.004422</td>\n",
       "      <td>-0.315065</td>\n",
       "      <td>0.227661</td>\n",
       "      <td>0.050845</td>\n",
       "      <td>-0.156052</td>\n",
       "      <td>-0.030495</td>\n",
       "      <td>0.040605</td>\n",
       "      <td>...</td>\n",
       "      <td>0.035626</td>\n",
       "      <td>0.859602</td>\n",
       "      <td>0.016210</td>\n",
       "      <td>-0.012743</td>\n",
       "      <td>1.000000</td>\n",
       "      <td>0.171940</td>\n",
       "      <td>0.300137</td>\n",
       "      <td>0.038472</td>\n",
       "      <td>0.258536</td>\n",
       "      <td>0.027892</td>\n",
       "    </tr>\n",
       "    <tr>\n",
       "      <th>UCity</th>\n",
       "      <td>-0.732513</td>\n",
       "      <td>0.996735</td>\n",
       "      <td>0.575844</td>\n",
       "      <td>0.055694</td>\n",
       "      <td>-0.746638</td>\n",
       "      <td>0.982058</td>\n",
       "      <td>0.527940</td>\n",
       "      <td>-0.595156</td>\n",
       "      <td>-0.059196</td>\n",
       "      <td>0.066197</td>\n",
       "      <td>...</td>\n",
       "      <td>0.036646</td>\n",
       "      <td>0.134484</td>\n",
       "      <td>0.071905</td>\n",
       "      <td>0.034880</td>\n",
       "      <td>0.171940</td>\n",
       "      <td>1.000000</td>\n",
       "      <td>0.919105</td>\n",
       "      <td>0.141441</td>\n",
       "      <td>0.674913</td>\n",
       "      <td>-0.129381</td>\n",
       "    </tr>\n",
       "    <tr>\n",
       "      <th>UHighway</th>\n",
       "      <td>-0.858946</td>\n",
       "      <td>0.925487</td>\n",
       "      <td>0.548646</td>\n",
       "      <td>0.130346</td>\n",
       "      <td>-0.875143</td>\n",
       "      <td>0.968491</td>\n",
       "      <td>0.525772</td>\n",
       "      <td>-0.634007</td>\n",
       "      <td>-0.067554</td>\n",
       "      <td>0.009610</td>\n",
       "      <td>...</td>\n",
       "      <td>0.117038</td>\n",
       "      <td>0.236617</td>\n",
       "      <td>0.047711</td>\n",
       "      <td>0.120211</td>\n",
       "      <td>0.300137</td>\n",
       "      <td>0.919105</td>\n",
       "      <td>1.000000</td>\n",
       "      <td>0.239409</td>\n",
       "      <td>0.785757</td>\n",
       "      <td>0.043896</td>\n",
       "    </tr>\n",
       "    <tr>\n",
       "      <th>year</th>\n",
       "      <td>-0.204844</td>\n",
       "      <td>0.142110</td>\n",
       "      <td>0.575048</td>\n",
       "      <td>0.580558</td>\n",
       "      <td>-0.205201</td>\n",
       "      <td>0.178861</td>\n",
       "      <td>0.600518</td>\n",
       "      <td>0.087205</td>\n",
       "      <td>-0.005443</td>\n",
       "      <td>-0.476922</td>\n",
       "      <td>...</td>\n",
       "      <td>-0.104674</td>\n",
       "      <td>-0.038471</td>\n",
       "      <td>0.045016</td>\n",
       "      <td>-0.060496</td>\n",
       "      <td>0.038472</td>\n",
       "      <td>0.141441</td>\n",
       "      <td>0.239409</td>\n",
       "      <td>1.000000</td>\n",
       "      <td>0.071828</td>\n",
       "      <td>0.514849</td>\n",
       "    </tr>\n",
       "    <tr>\n",
       "      <th>youSaveSpend</th>\n",
       "      <td>-0.916718</td>\n",
       "      <td>0.697109</td>\n",
       "      <td>0.269068</td>\n",
       "      <td>0.046250</td>\n",
       "      <td>-0.929848</td>\n",
       "      <td>0.749715</td>\n",
       "      <td>0.264964</td>\n",
       "      <td>-0.778685</td>\n",
       "      <td>-0.075164</td>\n",
       "      <td>0.111466</td>\n",
       "      <td>...</td>\n",
       "      <td>0.094676</td>\n",
       "      <td>0.231305</td>\n",
       "      <td>0.045568</td>\n",
       "      <td>0.073539</td>\n",
       "      <td>0.258536</td>\n",
       "      <td>0.674913</td>\n",
       "      <td>0.785757</td>\n",
       "      <td>0.071828</td>\n",
       "      <td>1.000000</td>\n",
       "      <td>-0.066856</td>\n",
       "    </tr>\n",
       "    <tr>\n",
       "      <th>gear</th>\n",
       "      <td>-0.052975</td>\n",
       "      <td>-0.123830</td>\n",
       "      <td>0.271257</td>\n",
       "      <td>0.484976</td>\n",
       "      <td>-0.056726</td>\n",
       "      <td>-0.063444</td>\n",
       "      <td>0.312977</td>\n",
       "      <td>0.153398</td>\n",
       "      <td>0.008998</td>\n",
       "      <td>-0.169792</td>\n",
       "      <td>...</td>\n",
       "      <td>-0.021197</td>\n",
       "      <td>-0.019705</td>\n",
       "      <td>-0.009107</td>\n",
       "      <td>0.022101</td>\n",
       "      <td>0.027892</td>\n",
       "      <td>-0.129381</td>\n",
       "      <td>0.043896</td>\n",
       "      <td>0.514849</td>\n",
       "      <td>-0.066856</td>\n",
       "      <td>1.000000</td>\n",
       "    </tr>\n",
       "  </tbody>\n",
       "</table>\n",
       "<p>28 rows × 28 columns</p>\n",
       "</div>"
      ],
      "text/plain": [
       "                barrels08    city08   city08U       co2  co2TailpipeGpm  \\\n",
       "barrels08        1.000000 -0.754178 -0.360597 -0.113773        0.987493   \n",
       "city08          -0.754178  1.000000  0.572131  0.057167       -0.767689   \n",
       "city08U         -0.360597  0.572131  1.000000  0.625575       -0.367654   \n",
       "co2             -0.113773  0.057167  0.625575  1.000000       -0.117604   \n",
       "co2TailpipeGpm   0.987493 -0.767689 -0.367654 -0.117604        1.000000   \n",
       "comb08          -0.813910  0.987464  0.568988  0.083534       -0.827964   \n",
       "comb08U         -0.356207  0.526201  0.995312  0.666500       -0.363189   \n",
       "cylinders        0.747381 -0.614281 -0.155521  0.093277        0.759182   \n",
       "displ            0.078172 -0.060988 -0.019124  0.004714        0.079393   \n",
       "engId           -0.073507  0.070890 -0.203999 -0.197383       -0.076769   \n",
       "feScore         -0.325141  0.359256  0.831998  0.824190       -0.331295   \n",
       "fuelCost08       0.915986 -0.696589 -0.267879 -0.045990        0.929113   \n",
       "ghgScore        -0.325686  0.359011  0.831867  0.824042       -0.331573   \n",
       "highway08       -0.858107  0.927770  0.549666  0.127048       -0.872890   \n",
       "highway08U      -0.344219  0.462646  0.976933  0.709907       -0.351011   \n",
       "hlv             -0.255115  0.245281  0.034921 -0.060566       -0.259369   \n",
       "hpv             -0.293999  0.281656  0.036384 -0.062720       -0.298722   \n",
       "id              -0.192848  0.157913  0.590515  0.596749       -0.194365   \n",
       "lv2             -0.123986  0.041028 -0.044914 -0.024676       -0.127086   \n",
       "lv4             -0.258650  0.141717  0.003767 -0.039258       -0.262586   \n",
       "phevBlended     -0.073758  0.069768  0.092432  0.025627       -0.071796   \n",
       "pv2             -0.124002  0.038917 -0.025526 -0.003361       -0.127151   \n",
       "pv4             -0.311614  0.179480  0.045957 -0.004422       -0.315065   \n",
       "UCity           -0.732513  0.996735  0.575844  0.055694       -0.746638   \n",
       "UHighway        -0.858946  0.925487  0.548646  0.130346       -0.875143   \n",
       "year            -0.204844  0.142110  0.575048  0.580558       -0.205201   \n",
       "youSaveSpend    -0.916718  0.697109  0.269068  0.046250       -0.929848   \n",
       "gear            -0.052975 -0.123830  0.271257  0.484976       -0.056726   \n",
       "\n",
       "                  comb08   comb08U  cylinders     displ     engId  ...  \\\n",
       "barrels08      -0.813910 -0.356207   0.747381  0.078172 -0.073507  ...   \n",
       "city08          0.987464  0.526201  -0.614281 -0.060988  0.070890  ...   \n",
       "city08U         0.568988  0.995312  -0.155521 -0.019124 -0.203999  ...   \n",
       "co2             0.083534  0.666500   0.093277  0.004714 -0.197383  ...   \n",
       "co2TailpipeGpm -0.827964 -0.363189   0.759182  0.079393 -0.076769  ...   \n",
       "comb08          1.000000  0.531857  -0.638127 -0.065187  0.052601  ...   \n",
       "comb08U         0.531857  1.000000  -0.142513 -0.018336 -0.213138  ...   \n",
       "cylinders      -0.638127 -0.142513   1.000000  0.088551 -0.251684  ...   \n",
       "displ          -0.065187 -0.018336   0.088551  1.000000 -0.034286  ...   \n",
       "engId           0.052601 -0.213138  -0.251684 -0.034286  1.000000  ...   \n",
       "feScore         0.382966  0.854487  -0.124663 -0.017259 -0.197161  ...   \n",
       "fuelCost08     -0.749350 -0.263860   0.778748  0.075153 -0.111788  ...   \n",
       "ghgScore        0.382479  0.854224  -0.124518 -0.017235 -0.197180  ...   \n",
       "highway08       0.970911  0.526566  -0.629665 -0.066660  0.008290  ...   \n",
       "highway08U      0.478672  0.992849  -0.121301 -0.016826 -0.221752  ...   \n",
       "hlv             0.260312  0.028201  -0.262588 -0.033106  0.199133  ...   \n",
       "hpv             0.298627  0.029516  -0.285997 -0.036491  0.201753  ...   \n",
       "id              0.186968  0.616354   0.064868  0.011086 -0.422106  ...   \n",
       "lv2             0.069401 -0.042654  -0.037976 -0.010983  0.018334  ...   \n",
       "lv4             0.179940  0.005721  -0.151925 -0.027363  0.066738  ...   \n",
       "phevBlended     0.060819  0.085616  -0.021642 -0.002929 -0.014956  ...   \n",
       "pv2             0.069295 -0.021737  -0.028237 -0.011122  0.011459  ...   \n",
       "pv4             0.227661  0.050845  -0.156052 -0.030495  0.040605  ...   \n",
       "UCity           0.982058  0.527940  -0.595156 -0.059196  0.066197  ...   \n",
       "UHighway        0.968491  0.525772  -0.634007 -0.067554  0.009610  ...   \n",
       "year            0.178861  0.600518   0.087205 -0.005443 -0.476922  ...   \n",
       "youSaveSpend    0.749715  0.264964  -0.778685 -0.075164  0.111466  ...   \n",
       "gear           -0.063444  0.312977   0.153398  0.008998 -0.169792  ...   \n",
       "\n",
       "                     lv2       lv4  phevBlended       pv2       pv4     UCity  \\\n",
       "barrels08      -0.123986 -0.258650    -0.073758 -0.124002 -0.311614 -0.732513   \n",
       "city08          0.041028  0.141717     0.069768  0.038917  0.179480  0.996735   \n",
       "city08U        -0.044914  0.003767     0.092432 -0.025526  0.045957  0.575844   \n",
       "co2            -0.024676 -0.039258     0.025627 -0.003361 -0.004422  0.055694   \n",
       "co2TailpipeGpm -0.127086 -0.262586    -0.071796 -0.127151 -0.315065 -0.746638   \n",
       "comb08          0.069401  0.179940     0.060819  0.069295  0.227661  0.982058   \n",
       "comb08U        -0.042654  0.005721     0.085616 -0.021737  0.050845  0.527940   \n",
       "cylinders      -0.037976 -0.151925    -0.021642 -0.028237 -0.156052 -0.595156   \n",
       "displ          -0.010983 -0.027363    -0.002929 -0.011122 -0.030495 -0.059196   \n",
       "engId           0.018334  0.066738    -0.014956  0.011459  0.040605  0.066197   \n",
       "feScore        -0.036222  0.009345     0.108161 -0.017224  0.057105  0.357980   \n",
       "fuelCost08     -0.094747 -0.231518    -0.038307 -0.073539 -0.258642 -0.674340   \n",
       "ghgScore       -0.036058  0.009301     0.115647 -0.017000  0.057216  0.357791   \n",
       "highway08       0.117545  0.234867     0.044590  0.120692  0.298160  0.917447   \n",
       "highway08U     -0.037675  0.009063     0.074413 -0.014988  0.057795  0.462150   \n",
       "hlv            -0.043257 -0.089509     0.006205 -0.044047 -0.064202  0.237480   \n",
       "hpv            -0.036324 -0.093607     0.005442 -0.034112 -0.061833  0.273417   \n",
       "id             -0.079921 -0.032801     0.047613 -0.057396  0.020525  0.157254   \n",
       "lv2             1.000000 -0.014561    -0.009979  0.949804  0.035626  0.036646   \n",
       "lv4            -0.014561  1.000000     0.001499 -0.058363  0.859602  0.134484   \n",
       "phevBlended    -0.009979  0.001499     1.000000 -0.006855  0.016210  0.071905   \n",
       "pv2             0.949804 -0.058363    -0.006855  1.000000 -0.012743  0.034880   \n",
       "pv4             0.035626  0.859602     0.016210 -0.012743  1.000000  0.171940   \n",
       "UCity           0.036646  0.134484     0.071905  0.034880  0.171940  1.000000   \n",
       "UHighway        0.117038  0.236617     0.047711  0.120211  0.300137  0.919105   \n",
       "year           -0.104674 -0.038471     0.045016 -0.060496  0.038472  0.141441   \n",
       "youSaveSpend    0.094676  0.231305     0.045568  0.073539  0.258536  0.674913   \n",
       "gear           -0.021197 -0.019705    -0.009107  0.022101  0.027892 -0.129381   \n",
       "\n",
       "                UHighway      year  youSaveSpend      gear  \n",
       "barrels08      -0.858946 -0.204844     -0.916718 -0.052975  \n",
       "city08          0.925487  0.142110      0.697109 -0.123830  \n",
       "city08U         0.548646  0.575048      0.269068  0.271257  \n",
       "co2             0.130346  0.580558      0.046250  0.484976  \n",
       "co2TailpipeGpm -0.875143 -0.205201     -0.929848 -0.056726  \n",
       "comb08          0.968491  0.178861      0.749715 -0.063444  \n",
       "comb08U         0.525772  0.600518      0.264964  0.312977  \n",
       "cylinders      -0.634007  0.087205     -0.778685  0.153398  \n",
       "displ          -0.067554 -0.005443     -0.075164  0.008998  \n",
       "engId           0.009610 -0.476922      0.111466 -0.169792  \n",
       "feScore         0.410974  0.577508      0.254210  0.366705  \n",
       "fuelCost08     -0.785615 -0.071145     -0.999877  0.066361  \n",
       "ghgScore        0.410130  0.577590      0.253630  0.365787  \n",
       "highway08       0.995396  0.239015      0.780788  0.043283  \n",
       "highway08U      0.490530  0.624417      0.253830  0.363761  \n",
       "hlv             0.262182 -0.117039      0.240158 -0.064114  \n",
       "hpv             0.302684 -0.133502      0.279090 -0.071161  \n",
       "id              0.232887  0.828613      0.089631  0.462901  \n",
       "lv2             0.117038 -0.104674      0.094676 -0.021197  \n",
       "lv4             0.236617 -0.038471      0.231305 -0.019705  \n",
       "phevBlended     0.047711  0.045016      0.045568 -0.009107  \n",
       "pv2             0.120211 -0.060496      0.073539  0.022101  \n",
       "pv4             0.300137  0.038472      0.258536  0.027892  \n",
       "UCity           0.919105  0.141441      0.674913 -0.129381  \n",
       "UHighway        1.000000  0.239409      0.785757  0.043896  \n",
       "year            0.239409  1.000000      0.071828  0.514849  \n",
       "youSaveSpend    0.785757  0.071828      1.000000 -0.066856  \n",
       "gear            0.043896  0.514849     -0.066856  1.000000  \n",
       "\n",
       "[28 rows x 28 columns]"
      ]
     },
     "execution_count": 264,
     "metadata": {},
     "output_type": "execute_result"
    }
   ],
   "source": [
    "df.corr()"
   ]
  },
  {
   "cell_type": "code",
   "execution_count": 267,
   "metadata": {},
   "outputs": [],
   "source": [
    "col_corred = []\n",
    "\n",
    "for col in df._get_numeric_data():  \n",
    "    for i in range(len(df.corr())): \n",
    "        if abs(df.corr()[col][i]) > 0.9 and abs(df.corr()[col][i]) < 1:\n",
    "            col_corred.append(col)"
   ]
  },
  {
   "cell_type": "code",
   "execution_count": 269,
   "metadata": {},
   "outputs": [
    {
     "data": {
      "text/plain": [
       "['highway08U',\n",
       " 'comb08U',\n",
       " 'highway08',\n",
       " 'city08',\n",
       " 'hlv',\n",
       " 'hpv',\n",
       " 'fuelCost08',\n",
       " 'UHighway',\n",
       " 'city08U',\n",
       " 'ghgScore']"
      ]
     },
     "execution_count": 269,
     "metadata": {},
     "output_type": "execute_result"
    }
   ],
   "source": [
    "col_corred = list(set(col_corred))\n",
    "col_corred[:10]"
   ]
  },
  {
   "cell_type": "code",
   "execution_count": 276,
   "metadata": {},
   "outputs": [
    {
     "data": {
      "image/png": "[encoded data removed]",
      "text/plain": [
       "<Figure size 640x480 with 2 Axes>"
      ]
     },
     "metadata": {},
     "output_type": "display_data"
    }
   ],
   "source": [
    "sns.heatmap(df[col_corred].corr(), cmap='magma');"
   ]
  }
 ],
 "metadata": {
  "kernelspec": {
   "display_name": "Python 3 (ipykernel)",
   "language": "python",
   "name": "python3"
  },
  "language_info": {
   "codemirror_mode": {
    "name": "ipython",
    "version": 3
   },
   "file_extension": ".py",
   "mimetype": "text/x-python",
   "name": "python",
   "nbconvert_exporter": "python",
   "pygments_lexer": "ipython3",
   "version": "3.11.4"
  },
  "toc": {
   "base_numbering": 1,
   "nav_menu": {},
   "number_sections": true,
   "sideBar": true,
   "skip_h1_title": false,
   "title_cell": "Table of Contents",
   "title_sidebar": "Contents",
   "toc_cell": true,
   "toc_position": {},
   "toc_section_display": true,
   "toc_window_display": false
  },
  "varInspector": {
   "cols": {
    "lenName": 16,
    "lenType": 16,
    "lenVar": 40
   },
   "kernels_config": {
    "python": {
     "delete_cmd_postfix": "",
     "delete_cmd_prefix": "del ",
     "library": "var_list.py",
     "varRefreshCmd": "print(var_dic_list())"
    },
    "r": {
     "delete_cmd_postfix": ") ",
     "delete_cmd_prefix": "rm(",
     "library": "var_list.r",
     "varRefreshCmd": "cat(var_dic_list()) "
    }
   },
   "types_to_exclude": [
    "module",
    "function",
    "builtin_function_or_method",
    "instance",
    "_Feature"
   ],
   "window_display": false
  }
 },
 "nbformat": 4,
 "nbformat_minor": 2
}
