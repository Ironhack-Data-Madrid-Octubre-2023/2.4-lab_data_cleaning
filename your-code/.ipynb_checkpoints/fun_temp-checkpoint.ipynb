{
 "cells": [
  {
   "cell_type": "markdown",
   "id": "2d06f988",
   "metadata": {},
   "source": [
    "Data cleaning functions TEMP"
   ]
  },
  {
   "cell_type": "code",
   "execution_count": null,
   "id": "3d3406fa",
   "metadata": {},
   "outputs": [],
   "source": [
    "def na_abs(df, ascend=False):\n",
    "    df1 = df.isna().sum()\n",
    "    df1=df1[df1!=0].sort_values(ascending = ascend)\n",
    "    return df1\n",
    "\n",
    "def na_perc(df, ascend=False):\n",
    "    df1 = df.isna().mean()*100\n",
    "    df1 = df1[df1!=0].sort_values(ascending = ascend)\n",
    "    return df1\n",
    "\n",
    "def na_absperc_df(df):\n",
    "    return pd.concat([na_abs(df), na_perc(df)], axis=1, keys= [\"abs_NA\", \"perc_NA\"])\n",
    "\n",
    "abs_df=pd.concat([na_abs(vehicles), na_perc(vehicles)], axis=1, keys= [\"abs_NA\", \"perc_NA\"])\n",
    "\n",
    "\n",
    "\n",
    "\n",
    "\n",
    "nas_sum=na_perc(vehicles)\n",
    "nas_sum[nas_sum!=0].sort_values(ascending = False)\n"
   ]
  },
  {
   "cell_type": "code",
   "execution_count": null,
   "id": "66fea57f",
   "metadata": {},
   "outputs": [],
   "source": [
    "\n",
    "#abs_df=pd.concat([na_abs(vehicles), na_perc(vehicles)], axis=1, keys= [\"abs_NA\", \"perc_NA\"])\n",
    "abs_df\n",
    "\n",
    "def na_absperc_df(df):\n",
    "    return pd.concat([na_abs(df), na_perc(df)], axis=1, keys= [\"abs_NA\", \"perc_NA\"])\n",
    "\n",
    "na_absperc_df(vehicles)\n"
   ]
  }
 ],
 "metadata": {
  "kernelspec": {
   "display_name": "env37",
   "language": "python",
   "name": "env37"
  },
  "language_info": {
   "codemirror_mode": {
    "name": "ipython",
    "version": 3
   },
   "file_extension": ".py",
   "mimetype": "text/x-python",
   "name": "python",
   "nbconvert_exporter": "python",
   "pygments_lexer": "ipython3",
   "version": "3.7.16"
  }
 },
 "nbformat": 4,
 "nbformat_minor": 5
}
