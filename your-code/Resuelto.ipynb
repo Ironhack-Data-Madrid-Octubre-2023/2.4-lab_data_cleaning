{
 "cells": [
  {
   "attachments": {},
   "cell_type": "markdown",
   "id": "c3d64acf",
   "metadata": {},
   "source": [
    "# Vehicles_Messy"
   ]
  },
  {
   "cell_type": "code",
   "execution_count": null,
   "id": "d052fdf1",
   "metadata": {},
   "outputs": [],
   "source": [
    "import pandas as pd\n",
    "pd.set_option('display.max_columns', None)\n",
    "pd.set_option('display.max_rows',None)\n",
    "\n",
    "import numpy as np\n",
    "\n",
    "import warnings\n",
    "warnings.filterwarnings('ignore')"
   ]
  },
  {
   "cell_type": "code",
   "execution_count": null,
   "id": "ffd1f1b9",
   "metadata": {},
   "outputs": [],
   "source": []
  },
  {
   "cell_type": "code",
   "execution_count": 2,
   "id": "e7aa3819",
   "metadata": {},
   "outputs": [],
   "source": [
    "data = pd.read_csv('../data/vehicles_messy.csv')\n",
    "df = data.copy()\n",
    "#df.head()"
   ]
  },
  {
   "cell_type": "code",
   "execution_count": 3,
   "id": "2211f5b2",
   "metadata": {},
   "outputs": [
    {
     "data": {
      "text/plain": [
       "(37843, 83)"
      ]
     },
     "execution_count": 3,
     "metadata": {},
     "output_type": "execute_result"
    }
   ],
   "source": [
    "df.shape"
   ]
  },
  {
   "attachments": {},
   "cell_type": "markdown",
   "id": "f124c1b8",
   "metadata": {},
   "source": [
    "# Valores nulos"
   ]
  },
  {
   "attachments": {},
   "cell_type": "markdown",
   "id": "f66c12b3",
   "metadata": {},
   "source": [
    "### 1. Nulos en cylinders"
   ]
  },
  {
   "cell_type": "code",
   "execution_count": 4,
   "id": "cf01f977",
   "metadata": {},
   "outputs": [
    {
     "data": {
      "text/plain": [
       "['cylinders',\n",
       " 'displ',\n",
       " 'drive',\n",
       " 'eng_dscr',\n",
       " 'trany',\n",
       " 'guzzler',\n",
       " 'trans_dscr',\n",
       " 'tCharger',\n",
       " 'sCharger',\n",
       " 'atvType',\n",
       " 'fuelType2',\n",
       " 'rangeA',\n",
       " 'evMotor',\n",
       " 'mfrCode',\n",
       " 'c240Dscr',\n",
       " 'c240bDscr',\n",
       " 'startStop']"
      ]
     },
     "execution_count": 4,
     "metadata": {},
     "output_type": "execute_result"
    }
   ],
   "source": [
    "# Columns con al menos un valor NaN\n",
    "df.columns[df.isna().any()].tolist()"
   ]
  },
  {
   "cell_type": "code",
   "execution_count": 5,
   "id": "2af1c203",
   "metadata": {},
   "outputs": [],
   "source": [
    "#df[df['cylinders'].isna()][['cylinders', 'fuelType', 'fuelType1']]"
   ]
  },
  {
   "cell_type": "code",
   "execution_count": 6,
   "id": "e3386fe2",
   "metadata": {},
   "outputs": [
    {
     "data": {
      "text/html": [
       "<div>\n",
       "<style scoped>\n",
       "    .dataframe tbody tr th:only-of-type {\n",
       "        vertical-align: middle;\n",
       "    }\n",
       "\n",
       "    .dataframe tbody tr th {\n",
       "        vertical-align: top;\n",
       "    }\n",
       "\n",
       "    .dataframe thead th {\n",
       "        text-align: right;\n",
       "    }\n",
       "</style>\n",
       "<table border=\"1\" class=\"dataframe\">\n",
       "  <thead>\n",
       "    <tr style=\"text-align: right;\">\n",
       "      <th></th>\n",
       "      <th>barrels08</th>\n",
       "      <th>barrelsA08</th>\n",
       "      <th>charge120</th>\n",
       "      <th>charge240</th>\n",
       "      <th>city08</th>\n",
       "      <th>city08U</th>\n",
       "      <th>cityA08</th>\n",
       "      <th>cityA08U</th>\n",
       "      <th>cityCD</th>\n",
       "      <th>cityE</th>\n",
       "      <th>cityUF</th>\n",
       "      <th>co2</th>\n",
       "      <th>co2A</th>\n",
       "      <th>co2TailpipeAGpm</th>\n",
       "      <th>co2TailpipeGpm</th>\n",
       "      <th>comb08</th>\n",
       "      <th>comb08U</th>\n",
       "      <th>combA08</th>\n",
       "      <th>combA08U</th>\n",
       "      <th>combE</th>\n",
       "      <th>combinedCD</th>\n",
       "      <th>combinedUF</th>\n",
       "      <th>cylinders</th>\n",
       "      <th>displ</th>\n",
       "      <th>drive</th>\n",
       "      <th>engId</th>\n",
       "      <th>eng_dscr</th>\n",
       "      <th>feScore</th>\n",
       "      <th>fuelCost08</th>\n",
       "      <th>fuelCostA08</th>\n",
       "      <th>fuelType</th>\n",
       "      <th>fuelType1</th>\n",
       "      <th>ghgScore</th>\n",
       "      <th>ghgScoreA</th>\n",
       "      <th>highway08</th>\n",
       "      <th>highway08U</th>\n",
       "      <th>highwayA08</th>\n",
       "      <th>highwayA08U</th>\n",
       "      <th>highwayCD</th>\n",
       "      <th>highwayE</th>\n",
       "      <th>highwayUF</th>\n",
       "      <th>hlv</th>\n",
       "      <th>hpv</th>\n",
       "      <th>id</th>\n",
       "      <th>lv2</th>\n",
       "      <th>lv4</th>\n",
       "      <th>make</th>\n",
       "      <th>model</th>\n",
       "      <th>mpgData</th>\n",
       "      <th>phevBlended</th>\n",
       "      <th>pv2</th>\n",
       "      <th>pv4</th>\n",
       "      <th>range</th>\n",
       "      <th>rangeCity</th>\n",
       "      <th>rangeCityA</th>\n",
       "      <th>rangeHwy</th>\n",
       "      <th>rangeHwyA</th>\n",
       "      <th>trany</th>\n",
       "      <th>UCity</th>\n",
       "      <th>UCityA</th>\n",
       "      <th>UHighway</th>\n",
       "      <th>UHighwayA</th>\n",
       "      <th>VClass</th>\n",
       "      <th>year</th>\n",
       "      <th>youSaveSpend</th>\n",
       "      <th>guzzler</th>\n",
       "      <th>trans_dscr</th>\n",
       "      <th>tCharger</th>\n",
       "      <th>sCharger</th>\n",
       "      <th>atvType</th>\n",
       "      <th>fuelType2</th>\n",
       "      <th>rangeA</th>\n",
       "      <th>evMotor</th>\n",
       "      <th>mfrCode</th>\n",
       "      <th>c240Dscr</th>\n",
       "      <th>charge240b</th>\n",
       "      <th>c240bDscr</th>\n",
       "      <th>createdOn</th>\n",
       "      <th>modifiedOn</th>\n",
       "      <th>startStop</th>\n",
       "      <th>phevCity</th>\n",
       "      <th>phevHwy</th>\n",
       "      <th>phevComb</th>\n",
       "    </tr>\n",
       "  </thead>\n",
       "  <tbody>\n",
       "    <tr>\n",
       "      <th>21413</th>\n",
       "      <td>13.733750</td>\n",
       "      <td>0.0</td>\n",
       "      <td>0.0</td>\n",
       "      <td>0.0</td>\n",
       "      <td>22</td>\n",
       "      <td>0.0</td>\n",
       "      <td>0</td>\n",
       "      <td>0.0</td>\n",
       "      <td>0.0</td>\n",
       "      <td>0.0</td>\n",
       "      <td>0.0</td>\n",
       "      <td>-1</td>\n",
       "      <td>-1</td>\n",
       "      <td>0.0</td>\n",
       "      <td>370.291667</td>\n",
       "      <td>24</td>\n",
       "      <td>0.0</td>\n",
       "      <td>0</td>\n",
       "      <td>0.0</td>\n",
       "      <td>0.0</td>\n",
       "      <td>0.0</td>\n",
       "      <td>0.0</td>\n",
       "      <td>NaN</td>\n",
       "      <td>NaN</td>\n",
       "      <td>4-Wheel Drive</td>\n",
       "      <td>0</td>\n",
       "      <td>NaN</td>\n",
       "      <td>-1</td>\n",
       "      <td>1400</td>\n",
       "      <td>0</td>\n",
       "      <td>Regular</td>\n",
       "      <td>Regular Gasoline</td>\n",
       "      <td>-1</td>\n",
       "      <td>-1</td>\n",
       "      <td>28</td>\n",
       "      <td>0.0</td>\n",
       "      <td>0</td>\n",
       "      <td>0.0</td>\n",
       "      <td>0.0</td>\n",
       "      <td>0.0</td>\n",
       "      <td>0.0</td>\n",
       "      <td>0</td>\n",
       "      <td>0</td>\n",
       "      <td>29472</td>\n",
       "      <td>0</td>\n",
       "      <td>0</td>\n",
       "      <td>Subaru</td>\n",
       "      <td>RX Turbo</td>\n",
       "      <td>N</td>\n",
       "      <td>False</td>\n",
       "      <td>0</td>\n",
       "      <td>0</td>\n",
       "      <td>0</td>\n",
       "      <td>0.0</td>\n",
       "      <td>0.0</td>\n",
       "      <td>0.0</td>\n",
       "      <td>0.0</td>\n",
       "      <td>Manual 5-spd</td>\n",
       "      <td>27.4000</td>\n",
       "      <td>0.0</td>\n",
       "      <td>38.8000</td>\n",
       "      <td>0.0</td>\n",
       "      <td>Subcompact Cars</td>\n",
       "      <td>1985</td>\n",
       "      <td>-250</td>\n",
       "      <td>NaN</td>\n",
       "      <td>NaN</td>\n",
       "      <td>T</td>\n",
       "      <td>NaN</td>\n",
       "      <td>NaN</td>\n",
       "      <td>NaN</td>\n",
       "      <td>NaN</td>\n",
       "      <td>NaN</td>\n",
       "      <td>NaN</td>\n",
       "      <td>NaN</td>\n",
       "      <td>0.0</td>\n",
       "      <td>NaN</td>\n",
       "      <td>Tue Jan 01 00:00:00 EST 2013</td>\n",
       "      <td>Tue Jan 01 00:00:00 EST 2013</td>\n",
       "      <td>NaN</td>\n",
       "      <td>0</td>\n",
       "      <td>0</td>\n",
       "      <td>0</td>\n",
       "    </tr>\n",
       "    <tr>\n",
       "      <th>21414</th>\n",
       "      <td>14.330870</td>\n",
       "      <td>0.0</td>\n",
       "      <td>0.0</td>\n",
       "      <td>0.0</td>\n",
       "      <td>21</td>\n",
       "      <td>0.0</td>\n",
       "      <td>0</td>\n",
       "      <td>0.0</td>\n",
       "      <td>0.0</td>\n",
       "      <td>0.0</td>\n",
       "      <td>0.0</td>\n",
       "      <td>-1</td>\n",
       "      <td>-1</td>\n",
       "      <td>0.0</td>\n",
       "      <td>386.391304</td>\n",
       "      <td>23</td>\n",
       "      <td>0.0</td>\n",
       "      <td>0</td>\n",
       "      <td>0.0</td>\n",
       "      <td>0.0</td>\n",
       "      <td>0.0</td>\n",
       "      <td>0.0</td>\n",
       "      <td>NaN</td>\n",
       "      <td>NaN</td>\n",
       "      <td>4-Wheel Drive</td>\n",
       "      <td>0</td>\n",
       "      <td>CA model</td>\n",
       "      <td>-1</td>\n",
       "      <td>1450</td>\n",
       "      <td>0</td>\n",
       "      <td>Regular</td>\n",
       "      <td>Regular Gasoline</td>\n",
       "      <td>-1</td>\n",
       "      <td>-1</td>\n",
       "      <td>27</td>\n",
       "      <td>0.0</td>\n",
       "      <td>0</td>\n",
       "      <td>0.0</td>\n",
       "      <td>0.0</td>\n",
       "      <td>0.0</td>\n",
       "      <td>0.0</td>\n",
       "      <td>0</td>\n",
       "      <td>0</td>\n",
       "      <td>29473</td>\n",
       "      <td>0</td>\n",
       "      <td>0</td>\n",
       "      <td>Subaru</td>\n",
       "      <td>RX Turbo</td>\n",
       "      <td>N</td>\n",
       "      <td>False</td>\n",
       "      <td>0</td>\n",
       "      <td>0</td>\n",
       "      <td>0</td>\n",
       "      <td>0.0</td>\n",
       "      <td>0.0</td>\n",
       "      <td>0.0</td>\n",
       "      <td>0.0</td>\n",
       "      <td>Manual 5-spd</td>\n",
       "      <td>26.9000</td>\n",
       "      <td>0.0</td>\n",
       "      <td>37.1000</td>\n",
       "      <td>0.0</td>\n",
       "      <td>Subcompact Cars</td>\n",
       "      <td>1985</td>\n",
       "      <td>-500</td>\n",
       "      <td>NaN</td>\n",
       "      <td>NaN</td>\n",
       "      <td>T</td>\n",
       "      <td>NaN</td>\n",
       "      <td>NaN</td>\n",
       "      <td>NaN</td>\n",
       "      <td>NaN</td>\n",
       "      <td>NaN</td>\n",
       "      <td>NaN</td>\n",
       "      <td>NaN</td>\n",
       "      <td>0.0</td>\n",
       "      <td>NaN</td>\n",
       "      <td>Tue Jan 01 00:00:00 EST 2013</td>\n",
       "      <td>Tue Jan 01 00:00:00 EST 2013</td>\n",
       "      <td>NaN</td>\n",
       "      <td>0</td>\n",
       "      <td>0</td>\n",
       "      <td>0</td>\n",
       "    </tr>\n",
       "    <tr>\n",
       "      <th>21506</th>\n",
       "      <td>18.311667</td>\n",
       "      <td>0.0</td>\n",
       "      <td>0.0</td>\n",
       "      <td>0.0</td>\n",
       "      <td>15</td>\n",
       "      <td>0.0</td>\n",
       "      <td>0</td>\n",
       "      <td>0.0</td>\n",
       "      <td>0.0</td>\n",
       "      <td>0.0</td>\n",
       "      <td>0.0</td>\n",
       "      <td>-1</td>\n",
       "      <td>-1</td>\n",
       "      <td>0.0</td>\n",
       "      <td>493.722222</td>\n",
       "      <td>18</td>\n",
       "      <td>0.0</td>\n",
       "      <td>0</td>\n",
       "      <td>0.0</td>\n",
       "      <td>0.0</td>\n",
       "      <td>0.0</td>\n",
       "      <td>0.0</td>\n",
       "      <td>NaN</td>\n",
       "      <td>1.3</td>\n",
       "      <td>Rear-Wheel Drive</td>\n",
       "      <td>0</td>\n",
       "      <td>NaN</td>\n",
       "      <td>-1</td>\n",
       "      <td>1850</td>\n",
       "      <td>0</td>\n",
       "      <td>Regular</td>\n",
       "      <td>Regular Gasoline</td>\n",
       "      <td>-1</td>\n",
       "      <td>-1</td>\n",
       "      <td>22</td>\n",
       "      <td>0.0</td>\n",
       "      <td>0</td>\n",
       "      <td>0.0</td>\n",
       "      <td>0.0</td>\n",
       "      <td>0.0</td>\n",
       "      <td>0.0</td>\n",
       "      <td>0</td>\n",
       "      <td>0</td>\n",
       "      <td>29557</td>\n",
       "      <td>0</td>\n",
       "      <td>0</td>\n",
       "      <td>Mazda</td>\n",
       "      <td>RX-7</td>\n",
       "      <td>N</td>\n",
       "      <td>False</td>\n",
       "      <td>0</td>\n",
       "      <td>0</td>\n",
       "      <td>0</td>\n",
       "      <td>0.0</td>\n",
       "      <td>0.0</td>\n",
       "      <td>0.0</td>\n",
       "      <td>0.0</td>\n",
       "      <td>Manual 5-spd</td>\n",
       "      <td>19.0473</td>\n",
       "      <td>0.0</td>\n",
       "      <td>31.1094</td>\n",
       "      <td>0.0</td>\n",
       "      <td>Two Seaters</td>\n",
       "      <td>1986</td>\n",
       "      <td>-2500</td>\n",
       "      <td>NaN</td>\n",
       "      <td>NaN</td>\n",
       "      <td>NaN</td>\n",
       "      <td>NaN</td>\n",
       "      <td>NaN</td>\n",
       "      <td>NaN</td>\n",
       "      <td>NaN</td>\n",
       "      <td>NaN</td>\n",
       "      <td>NaN</td>\n",
       "      <td>NaN</td>\n",
       "      <td>0.0</td>\n",
       "      <td>NaN</td>\n",
       "      <td>Tue Jan 01 00:00:00 EST 2013</td>\n",
       "      <td>Tue Jan 01 00:00:00 EST 2013</td>\n",
       "      <td>NaN</td>\n",
       "      <td>0</td>\n",
       "      <td>0</td>\n",
       "      <td>0</td>\n",
       "    </tr>\n",
       "  </tbody>\n",
       "</table>\n",
       "</div>"
      ],
      "text/plain": [
       "       barrels08  barrelsA08  charge120  charge240  city08  city08U  cityA08  \\\n",
       "21413  13.733750         0.0        0.0        0.0      22      0.0        0   \n",
       "21414  14.330870         0.0        0.0        0.0      21      0.0        0   \n",
       "21506  18.311667         0.0        0.0        0.0      15      0.0        0   \n",
       "\n",
       "       cityA08U  cityCD  cityE  cityUF  co2  co2A  co2TailpipeAGpm  \\\n",
       "21413       0.0     0.0    0.0     0.0   -1    -1              0.0   \n",
       "21414       0.0     0.0    0.0     0.0   -1    -1              0.0   \n",
       "21506       0.0     0.0    0.0     0.0   -1    -1              0.0   \n",
       "\n",
       "       co2TailpipeGpm  comb08  comb08U  combA08  combA08U  combE  combinedCD  \\\n",
       "21413      370.291667      24      0.0        0       0.0    0.0         0.0   \n",
       "21414      386.391304      23      0.0        0       0.0    0.0         0.0   \n",
       "21506      493.722222      18      0.0        0       0.0    0.0         0.0   \n",
       "\n",
       "       combinedUF  cylinders  displ             drive  engId  eng_dscr  \\\n",
       "21413         0.0        NaN    NaN     4-Wheel Drive      0       NaN   \n",
       "21414         0.0        NaN    NaN     4-Wheel Drive      0  CA model   \n",
       "21506         0.0        NaN    1.3  Rear-Wheel Drive      0       NaN   \n",
       "\n",
       "       feScore  fuelCost08  fuelCostA08 fuelType         fuelType1  ghgScore  \\\n",
       "21413       -1        1400            0  Regular  Regular Gasoline        -1   \n",
       "21414       -1        1450            0  Regular  Regular Gasoline        -1   \n",
       "21506       -1        1850            0  Regular  Regular Gasoline        -1   \n",
       "\n",
       "       ghgScoreA  highway08  highway08U  highwayA08  highwayA08U  highwayCD  \\\n",
       "21413         -1         28         0.0           0          0.0        0.0   \n",
       "21414         -1         27         0.0           0          0.0        0.0   \n",
       "21506         -1         22         0.0           0          0.0        0.0   \n",
       "\n",
       "       highwayE  highwayUF  hlv  hpv     id  lv2  lv4    make     model  \\\n",
       "21413       0.0        0.0    0    0  29472    0    0  Subaru  RX Turbo   \n",
       "21414       0.0        0.0    0    0  29473    0    0  Subaru  RX Turbo   \n",
       "21506       0.0        0.0    0    0  29557    0    0   Mazda      RX-7   \n",
       "\n",
       "      mpgData  phevBlended  pv2  pv4  range  rangeCity  rangeCityA  rangeHwy  \\\n",
       "21413       N        False    0    0      0        0.0         0.0       0.0   \n",
       "21414       N        False    0    0      0        0.0         0.0       0.0   \n",
       "21506       N        False    0    0      0        0.0         0.0       0.0   \n",
       "\n",
       "       rangeHwyA         trany    UCity  UCityA  UHighway  UHighwayA  \\\n",
       "21413        0.0  Manual 5-spd  27.4000     0.0   38.8000        0.0   \n",
       "21414        0.0  Manual 5-spd  26.9000     0.0   37.1000        0.0   \n",
       "21506        0.0  Manual 5-spd  19.0473     0.0   31.1094        0.0   \n",
       "\n",
       "                VClass  year  youSaveSpend guzzler trans_dscr tCharger  \\\n",
       "21413  Subcompact Cars  1985          -250     NaN        NaN        T   \n",
       "21414  Subcompact Cars  1985          -500     NaN        NaN        T   \n",
       "21506      Two Seaters  1986         -2500     NaN        NaN      NaN   \n",
       "\n",
       "      sCharger atvType fuelType2 rangeA evMotor mfrCode c240Dscr  charge240b  \\\n",
       "21413      NaN     NaN       NaN    NaN     NaN     NaN      NaN         0.0   \n",
       "21414      NaN     NaN       NaN    NaN     NaN     NaN      NaN         0.0   \n",
       "21506      NaN     NaN       NaN    NaN     NaN     NaN      NaN         0.0   \n",
       "\n",
       "      c240bDscr                     createdOn                    modifiedOn  \\\n",
       "21413       NaN  Tue Jan 01 00:00:00 EST 2013  Tue Jan 01 00:00:00 EST 2013   \n",
       "21414       NaN  Tue Jan 01 00:00:00 EST 2013  Tue Jan 01 00:00:00 EST 2013   \n",
       "21506       NaN  Tue Jan 01 00:00:00 EST 2013  Tue Jan 01 00:00:00 EST 2013   \n",
       "\n",
       "      startStop  phevCity  phevHwy  phevComb  \n",
       "21413       NaN         0        0         0  \n",
       "21414       NaN         0        0         0  \n",
       "21506       NaN         0        0         0  "
      ]
     },
     "execution_count": 6,
     "metadata": {},
     "output_type": "execute_result"
    }
   ],
   "source": [
    "df.loc[[21413,21414,21506]]"
   ]
  },
  {
   "cell_type": "code",
   "execution_count": 7,
   "id": "77637ddb",
   "metadata": {},
   "outputs": [],
   "source": [
    "# Siendo solo tres se añaden a mano.\n",
    "df.loc[21413, 'cylinders'] = 4\n",
    "df.loc[21414, 'cylinders'] = 4\n",
    "df.loc[21506, 'cylinders'] = 2"
   ]
  },
  {
   "cell_type": "code",
   "execution_count": 8,
   "id": "bbd8006e",
   "metadata": {},
   "outputs": [],
   "source": [
    "# Solo quedan elect. no tienen cilindros se ponen 0\n",
    "df.cylinders.replace({np.NaN : 0},inplace=True)"
   ]
  },
  {
   "cell_type": "code",
   "execution_count": 9,
   "id": "20bcd9e6",
   "metadata": {},
   "outputs": [
    {
     "data": {
      "text/plain": [
       "True"
      ]
     },
     "execution_count": 9,
     "metadata": {},
     "output_type": "execute_result"
    }
   ],
   "source": [
    "#Comprobación de que todos los electricos tienen 0 cilindros\n",
    "len(df[df['cylinders'] == 0]) == len(df[df[\"fuelType\"] == \"Electricity\"])"
   ]
  },
  {
   "attachments": {},
   "cell_type": "markdown",
   "id": "a890766a",
   "metadata": {},
   "source": [
    "### 2. Columnas con más de 10.000 nulos"
   ]
  },
  {
   "cell_type": "code",
   "execution_count": 10,
   "id": "21029685",
   "metadata": {},
   "outputs": [
    {
     "data": {
      "text/plain": [
       "guzzler       35562\n",
       "trans_dscr    22796\n",
       "tCharger      32657\n",
       "sCharger      37177\n",
       "atvType       34771\n",
       "fuelType2     36435\n",
       "rangeA        36440\n",
       "evMotor       37281\n",
       "mfrCode       30818\n",
       "c240Dscr      37806\n",
       "c240bDscr     37807\n",
       "startStop     31705\n",
       "dtype: int64"
      ]
     },
     "execution_count": 10,
     "metadata": {},
     "output_type": "execute_result"
    }
   ],
   "source": [
    "df.isna().sum()[df.isna().sum() > 16_000]"
   ]
  },
  {
   "cell_type": "code",
   "execution_count": 11,
   "id": "86626873",
   "metadata": {},
   "outputs": [],
   "source": [
    "df = df.drop(columns=df.columns[df.isna().sum() > 16_000])"
   ]
  },
  {
   "cell_type": "code",
   "execution_count": 12,
   "id": "1f784704",
   "metadata": {},
   "outputs": [
    {
     "data": {
      "text/plain": [
       "(37843, 71)"
      ]
     },
     "execution_count": 12,
     "metadata": {},
     "output_type": "execute_result"
    }
   ],
   "source": [
    "df.shape"
   ]
  },
  {
   "attachments": {},
   "cell_type": "markdown",
   "id": "0cf8beb3",
   "metadata": {},
   "source": [
    "Solo había una con 15k. el resto son a partir de 30k.\n",
    "Se eliminan a partir de 16k."
   ]
  },
  {
   "attachments": {},
   "cell_type": "markdown",
   "id": "95fa5ef6",
   "metadata": {},
   "source": [
    "### 3.seguimos bajando los nulos"
   ]
  },
  {
   "cell_type": "code",
   "execution_count": 13,
   "id": "cea75266",
   "metadata": {},
   "outputs": [
    {
     "data": {
      "text/plain": [
       "['displ', 'drive', 'eng_dscr', 'trany']"
      ]
     },
     "execution_count": 13,
     "metadata": {},
     "output_type": "execute_result"
    }
   ],
   "source": [
    "# Columns con al menos un valor NaN\n",
    "df.columns[df.isna().any()].tolist()"
   ]
  },
  {
   "cell_type": "code",
   "execution_count": 14,
   "id": "2d4ae9d8",
   "metadata": {},
   "outputs": [],
   "source": [
    "# Ya que la mayoría de electricos son Automatic (A1). Lo aplicamos para todos\n",
    "# df[df[\"fuelType\"] == \"Electricity\"][\"trany\"] # Presenta los datos de electricity y trany"
   ]
  },
  {
   "cell_type": "code",
   "execution_count": 15,
   "id": "a526b019",
   "metadata": {},
   "outputs": [],
   "source": [
    "df.trany = np.where(df.fuelType == \"Electricity\", \"Automatic (A1)\", df.trany)"
   ]
  },
  {
   "cell_type": "code",
   "execution_count": 16,
   "id": "75403cfd",
   "metadata": {},
   "outputs": [
    {
     "data": {
      "text/html": [
       "<div>\n",
       "<style scoped>\n",
       "    .dataframe tbody tr th:only-of-type {\n",
       "        vertical-align: middle;\n",
       "    }\n",
       "\n",
       "    .dataframe tbody tr th {\n",
       "        vertical-align: top;\n",
       "    }\n",
       "\n",
       "    .dataframe thead th {\n",
       "        text-align: right;\n",
       "    }\n",
       "</style>\n",
       "<table border=\"1\" class=\"dataframe\">\n",
       "  <thead>\n",
       "    <tr style=\"text-align: right;\">\n",
       "      <th></th>\n",
       "      <th>model</th>\n",
       "      <th>trany</th>\n",
       "      <th>cylinders</th>\n",
       "      <th>fuelType</th>\n",
       "      <th>fuelType1</th>\n",
       "    </tr>\n",
       "  </thead>\n",
       "  <tbody>\n",
       "    <tr>\n",
       "      <th>19097</th>\n",
       "      <td>F150 Pickup 2WD</td>\n",
       "      <td>NaN</td>\n",
       "      <td>8.0</td>\n",
       "      <td>Regular</td>\n",
       "      <td>Regular Gasoline</td>\n",
       "    </tr>\n",
       "    <tr>\n",
       "      <th>19128</th>\n",
       "      <td>C25 Pickup 2WD</td>\n",
       "      <td>NaN</td>\n",
       "      <td>6.0</td>\n",
       "      <td>Regular</td>\n",
       "      <td>Regular Gasoline</td>\n",
       "    </tr>\n",
       "  </tbody>\n",
       "</table>\n",
       "</div>"
      ],
      "text/plain": [
       "                 model trany  cylinders fuelType         fuelType1\n",
       "19097  F150 Pickup 2WD   NaN        8.0  Regular  Regular Gasoline\n",
       "19128   C25 Pickup 2WD   NaN        6.0  Regular  Regular Gasoline"
      ]
     },
     "execution_count": 16,
     "metadata": {},
     "output_type": "execute_result"
    }
   ],
   "source": [
    "df[df['trany'].isna()][[\"model\",\"trany\", 'cylinders', 'fuelType', 'fuelType1']]"
   ]
  },
  {
   "cell_type": "code",
   "execution_count": 17,
   "id": "ad0b7fda",
   "metadata": {},
   "outputs": [],
   "source": [
    "# ambos son auto pero con different gear ratio. Se sobreescribem\n",
    "df.loc[19097, 'trany'] = \"Automatic (variable gear ratios)\"\n",
    "df.loc[19128, 'trany'] = \"Automatic (variable gear ratios)\""
   ]
  },
  {
   "attachments": {},
   "cell_type": "markdown",
   "id": "387a5ff1",
   "metadata": {},
   "source": [
    "### 4. Nos cargamos las eng description substituyendo por Unknown"
   ]
  },
  {
   "cell_type": "code",
   "execution_count": 18,
   "id": "a27eb8a5",
   "metadata": {},
   "outputs": [
    {
     "data": {
      "text/plain": [
       "displ         120\n",
       "drive        1189\n",
       "eng_dscr    15403\n",
       "dtype: int64"
      ]
     },
     "execution_count": 18,
     "metadata": {},
     "output_type": "execute_result"
    }
   ],
   "source": [
    "df.isna().sum()[df.isna().sum() > 0]"
   ]
  },
  {
   "cell_type": "code",
   "execution_count": 19,
   "id": "6791463e",
   "metadata": {},
   "outputs": [
    {
     "data": {
      "text/plain": [
       "542"
      ]
     },
     "execution_count": 19,
     "metadata": {},
     "output_type": "execute_result"
    }
   ],
   "source": [
    "len(df.eng_dscr.unique())"
   ]
  },
  {
   "cell_type": "code",
   "execution_count": 20,
   "id": "d0d73c6b",
   "metadata": {},
   "outputs": [],
   "source": [
    "df.eng_dscr.replace({np.NaN : \"Unknown\"},inplace=True)"
   ]
  },
  {
   "attachments": {},
   "cell_type": "markdown",
   "id": "e9b17a5d",
   "metadata": {},
   "source": [
    "### 5. Atacamos al drive"
   ]
  },
  {
   "cell_type": "code",
   "execution_count": 21,
   "id": "9c0e2d83",
   "metadata": {},
   "outputs": [
    {
     "data": {
      "text/plain": [
       "displ     120\n",
       "drive    1189\n",
       "dtype: int64"
      ]
     },
     "execution_count": 21,
     "metadata": {},
     "output_type": "execute_result"
    }
   ],
   "source": [
    "df.isna().sum()[df.isna().sum() > 0]"
   ]
  },
  {
   "cell_type": "code",
   "execution_count": 22,
   "id": "6bec2c65",
   "metadata": {},
   "outputs": [
    {
     "data": {
      "text/plain": [
       "['Rear-Wheel Drive',\n",
       " 'Front-Wheel Drive',\n",
       " '4-Wheel or All-Wheel Drive',\n",
       " nan,\n",
       " '2-Wheel Drive',\n",
       " 'All-Wheel Drive',\n",
       " '4-Wheel Drive',\n",
       " 'Part-time 4-Wheel Drive',\n",
       " '2-Wheel Drive, Front']"
      ]
     },
     "execution_count": 22,
     "metadata": {},
     "output_type": "execute_result"
    }
   ],
   "source": [
    "list(df.drive.unique())"
   ]
  },
  {
   "cell_type": "code",
   "execution_count": 23,
   "id": "6358d987",
   "metadata": {},
   "outputs": [],
   "source": [
    "def unit_drive (string):\n",
    "    if pd.notna(string):\n",
    "        string = string.lower()\n",
    "        if \"4\" in string:\n",
    "            return \"4WD\"\n",
    "        elif \"all\" in string:\n",
    "            return \"4WD\"\n",
    "        else:\n",
    "            return \"2WD\"\n",
    "    else:\n",
    "        return \"Unknown\"\n",
    "                "
   ]
  },
  {
   "cell_type": "code",
   "execution_count": 24,
   "id": "f0dcb733",
   "metadata": {},
   "outputs": [],
   "source": [
    "df.drive = df.drive.apply(unit_drive)"
   ]
  },
  {
   "attachments": {},
   "cell_type": "markdown",
   "id": "9d66e913",
   "metadata": {},
   "source": [
    "Nos cargamos los NaN del drive simplificando el contenido en 2WD 4WD y Unknown con la función planteada"
   ]
  },
  {
   "attachments": {},
   "cell_type": "markdown",
   "id": "eb3c0df9",
   "metadata": {},
   "source": [
    "### 6. ultimos nulos en displ"
   ]
  },
  {
   "cell_type": "code",
   "execution_count": 25,
   "id": "7eead8ec",
   "metadata": {},
   "outputs": [
    {
     "data": {
      "text/plain": [
       "displ    120\n",
       "dtype: int64"
      ]
     },
     "execution_count": 25,
     "metadata": {},
     "output_type": "execute_result"
    }
   ],
   "source": [
    "df.isna().sum()[df.isna().sum() > 0]"
   ]
  },
  {
   "attachments": {},
   "cell_type": "markdown",
   "id": "483670e0",
   "metadata": {},
   "source": [
    "dos opciones:\n",
    "- rellenar con media, mediana, moda...\n",
    "- cargarnoslo\n",
    "\n",
    "relleno con la media para probar el método"
   ]
  },
  {
   "cell_type": "code",
   "execution_count": 26,
   "id": "61d0b1e7",
   "metadata": {},
   "outputs": [],
   "source": [
    "mediana = df.displ.median()"
   ]
  },
  {
   "cell_type": "code",
   "execution_count": 27,
   "id": "ef12a0ed",
   "metadata": {},
   "outputs": [],
   "source": [
    "df.displ.replace({np.NaN : mediana}, inplace = True)"
   ]
  },
  {
   "cell_type": "code",
   "execution_count": 28,
   "id": "fc1e8bed",
   "metadata": {},
   "outputs": [
    {
     "data": {
      "text/plain": [
       "Series([], dtype: int64)"
      ]
     },
     "execution_count": 28,
     "metadata": {},
     "output_type": "execute_result"
    }
   ],
   "source": [
    "df.isna().sum()[df.isna().sum() > 0]"
   ]
  },
  {
   "attachments": {},
   "cell_type": "markdown",
   "id": "14712669",
   "metadata": {},
   "source": [
    "### No más valores nulos¡¡¡"
   ]
  },
  {
   "attachments": {},
   "cell_type": "markdown",
   "id": "d2fade3a",
   "metadata": {},
   "source": [
    "### Limpiamos aun más la columna trany"
   ]
  },
  {
   "cell_type": "code",
   "execution_count": 29,
   "id": "5850542b",
   "metadata": {},
   "outputs": [],
   "source": [
    "def transmission (string):\n",
    "    string = string.lower()\n",
    "    if \"man\" in string:\n",
    "        return \"Manual\"\n",
    "    else: \n",
    "        return \"Automatic\""
   ]
  },
  {
   "cell_type": "code",
   "execution_count": 30,
   "id": "d78154a4",
   "metadata": {},
   "outputs": [],
   "source": [
    "df.trany = df.trany.apply(transmission)"
   ]
  },
  {
   "cell_type": "code",
   "execution_count": 31,
   "id": "9107ba99",
   "metadata": {},
   "outputs": [
    {
     "data": {
      "text/plain": [
       "array(['Manual', 'Automatic'], dtype=object)"
      ]
     },
     "execution_count": 31,
     "metadata": {},
     "output_type": "execute_result"
    }
   ],
   "source": [
    "df.trany.unique()"
   ]
  },
  {
   "attachments": {},
   "cell_type": "markdown",
   "id": "f4a30bb7",
   "metadata": {},
   "source": [
    "### Nos vamos a deshacer de las columnas con baja varianza"
   ]
  },
  {
   "cell_type": "code",
   "execution_count": 32,
   "id": "9ac9ff8d",
   "metadata": {},
   "outputs": [
    {
     "data": {
      "text/plain": [
       "23.543571428571425"
      ]
     },
     "execution_count": 32,
     "metadata": {},
     "output_type": "execute_result"
    }
   ],
   "source": [
    "# Try\n",
    "per90 = df.barrels08.quantile(0.9)\n",
    "per90"
   ]
  },
  {
   "cell_type": "code",
   "execution_count": 33,
   "id": "cf5af68b",
   "metadata": {},
   "outputs": [
    {
     "data": {
      "text/plain": [
       "0.0"
      ]
     },
     "execution_count": 33,
     "metadata": {},
     "output_type": "execute_result"
    }
   ],
   "source": [
    "# Try\n",
    "mina = df.barrelsA08.min()\n",
    "mina"
   ]
  },
  {
   "cell_type": "code",
   "execution_count": 34,
   "id": "9a1c4177",
   "metadata": {},
   "outputs": [
    {
     "name": "stdout",
     "output_type": "stream",
     "text": [
      "<class 'pandas.core.frame.DataFrame'>\n",
      "RangeIndex: 37843 entries, 0 to 37842\n",
      "Columns: 71 entries, barrels08 to phevComb\n",
      "dtypes: bool(1), float64(32), int64(27), object(11)\n",
      "memory usage: 20.2+ MB\n"
     ]
    }
   ],
   "source": [
    "df.info(verbose = False)"
   ]
  },
  {
   "cell_type": "code",
   "execution_count": 35,
   "id": "7d9f4a04",
   "metadata": {},
   "outputs": [
    {
     "name": "stdout",
     "output_type": "stream",
     "text": [
      "['barrelsA08', 'charge120', 'charge240', 'cityA08', 'cityA08U', 'cityCD', 'cityE', 'cityUF', 'co2A', 'co2TailpipeAGpm', 'combA08', 'combA08U', 'combE', 'combinedCD', 'combinedUF', 'fuelCostA08', 'ghgScoreA', 'highwayA08', 'highwayA08U', 'highwayCD', 'highwayE', 'highwayUF', 'range', 'rangeCity', 'rangeCityA', 'rangeHwy', 'rangeHwyA', 'UCityA', 'UHighwayA', 'charge240b', 'phevCity', 'phevHwy', 'phevComb']\n"
     ]
    }
   ],
   "source": [
    "low_variance = []\n",
    "\n",
    "for col in df.columns:\n",
    "    if df[col].dtype != \"object\":\n",
    "        if df[col].dtype != \"bool\":\n",
    "            per90 = df[col].quantile(0.9)\n",
    "            minimum = df[col].min()\n",
    "            if per90 == minimum:\n",
    "                low_variance.append(col)\n",
    "\n",
    "print(low_variance)"
   ]
  },
  {
   "cell_type": "code",
   "execution_count": 36,
   "id": "bf6333ec",
   "metadata": {},
   "outputs": [],
   "source": [
    "df.drop(low_variance , axis = 1 ,inplace=True)"
   ]
  },
  {
   "cell_type": "code",
   "execution_count": 37,
   "id": "e721c694",
   "metadata": {},
   "outputs": [
    {
     "data": {
      "text/plain": [
       "(37843, 38)"
      ]
     },
     "execution_count": 37,
     "metadata": {},
     "output_type": "execute_result"
    }
   ],
   "source": [
    "df.shape"
   ]
  },
  {
   "attachments": {},
   "cell_type": "markdown",
   "id": "a420078b",
   "metadata": {},
   "source": [
    "## Análisis\n",
    "\n",
    "Ahora tenemos un df legible sin nulos y con datos limpios.\n",
    "Podemos inicar el análisis y las correlaciones\n",
    "\n",
    "Lo primero vamos a revisar el consumo ciudad vs autopista"
   ]
  },
  {
   "cell_type": "code",
   "execution_count": 38,
   "id": "1c452c98",
   "metadata": {},
   "outputs": [
    {
     "data": {
      "text/html": [
       "<div>\n",
       "<style scoped>\n",
       "    .dataframe tbody tr th:only-of-type {\n",
       "        vertical-align: middle;\n",
       "    }\n",
       "\n",
       "    .dataframe tbody tr th {\n",
       "        vertical-align: top;\n",
       "    }\n",
       "\n",
       "    .dataframe thead th {\n",
       "        text-align: right;\n",
       "    }\n",
       "</style>\n",
       "<table border=\"1\" class=\"dataframe\">\n",
       "  <thead>\n",
       "    <tr style=\"text-align: right;\">\n",
       "      <th></th>\n",
       "      <th>barrels08</th>\n",
       "      <th>city08</th>\n",
       "      <th>city08U</th>\n",
       "      <th>co2</th>\n",
       "      <th>co2TailpipeGpm</th>\n",
       "      <th>comb08</th>\n",
       "      <th>comb08U</th>\n",
       "      <th>cylinders</th>\n",
       "      <th>displ</th>\n",
       "      <th>drive</th>\n",
       "      <th>engId</th>\n",
       "      <th>eng_dscr</th>\n",
       "      <th>feScore</th>\n",
       "      <th>fuelCost08</th>\n",
       "      <th>fuelType</th>\n",
       "      <th>fuelType1</th>\n",
       "      <th>ghgScore</th>\n",
       "      <th>highway08</th>\n",
       "      <th>highway08U</th>\n",
       "      <th>hlv</th>\n",
       "      <th>hpv</th>\n",
       "      <th>id</th>\n",
       "      <th>lv2</th>\n",
       "      <th>lv4</th>\n",
       "      <th>make</th>\n",
       "      <th>model</th>\n",
       "      <th>mpgData</th>\n",
       "      <th>phevBlended</th>\n",
       "      <th>pv2</th>\n",
       "      <th>pv4</th>\n",
       "      <th>trany</th>\n",
       "      <th>UCity</th>\n",
       "      <th>UHighway</th>\n",
       "      <th>VClass</th>\n",
       "      <th>year</th>\n",
       "      <th>youSaveSpend</th>\n",
       "      <th>createdOn</th>\n",
       "      <th>modifiedOn</th>\n",
       "    </tr>\n",
       "  </thead>\n",
       "  <tbody>\n",
       "    <tr>\n",
       "      <th>0</th>\n",
       "      <td>15.695714</td>\n",
       "      <td>19</td>\n",
       "      <td>0.0</td>\n",
       "      <td>-1</td>\n",
       "      <td>423.190476</td>\n",
       "      <td>21</td>\n",
       "      <td>0.0</td>\n",
       "      <td>4.0</td>\n",
       "      <td>2.0</td>\n",
       "      <td>2WD</td>\n",
       "      <td>9011</td>\n",
       "      <td>(FFS)</td>\n",
       "      <td>-1</td>\n",
       "      <td>1600</td>\n",
       "      <td>Regular</td>\n",
       "      <td>Regular Gasoline</td>\n",
       "      <td>-1</td>\n",
       "      <td>25</td>\n",
       "      <td>0.0</td>\n",
       "      <td>0</td>\n",
       "      <td>0</td>\n",
       "      <td>1</td>\n",
       "      <td>0</td>\n",
       "      <td>0</td>\n",
       "      <td>Alfa Romeo</td>\n",
       "      <td>Spider Veloce 2000</td>\n",
       "      <td>Y</td>\n",
       "      <td>False</td>\n",
       "      <td>0</td>\n",
       "      <td>0</td>\n",
       "      <td>Manual</td>\n",
       "      <td>23.3333</td>\n",
       "      <td>35.0000</td>\n",
       "      <td>Two Seaters</td>\n",
       "      <td>1985</td>\n",
       "      <td>-1250</td>\n",
       "      <td>Tue Jan 01 00:00:00 EST 2013</td>\n",
       "      <td>Tue Jan 01 00:00:00 EST 2013</td>\n",
       "    </tr>\n",
       "    <tr>\n",
       "      <th>1</th>\n",
       "      <td>29.964545</td>\n",
       "      <td>9</td>\n",
       "      <td>0.0</td>\n",
       "      <td>-1</td>\n",
       "      <td>807.909091</td>\n",
       "      <td>11</td>\n",
       "      <td>0.0</td>\n",
       "      <td>12.0</td>\n",
       "      <td>4.9</td>\n",
       "      <td>2WD</td>\n",
       "      <td>22020</td>\n",
       "      <td>(GUZZLER)</td>\n",
       "      <td>-1</td>\n",
       "      <td>3050</td>\n",
       "      <td>Regular</td>\n",
       "      <td>Regular Gasoline</td>\n",
       "      <td>-1</td>\n",
       "      <td>14</td>\n",
       "      <td>0.0</td>\n",
       "      <td>0</td>\n",
       "      <td>0</td>\n",
       "      <td>10</td>\n",
       "      <td>0</td>\n",
       "      <td>0</td>\n",
       "      <td>Ferrari</td>\n",
       "      <td>Testarossa</td>\n",
       "      <td>N</td>\n",
       "      <td>False</td>\n",
       "      <td>0</td>\n",
       "      <td>0</td>\n",
       "      <td>Manual</td>\n",
       "      <td>11.0000</td>\n",
       "      <td>19.0000</td>\n",
       "      <td>Two Seaters</td>\n",
       "      <td>1985</td>\n",
       "      <td>-8500</td>\n",
       "      <td>Tue Jan 01 00:00:00 EST 2013</td>\n",
       "      <td>Tue Jan 01 00:00:00 EST 2013</td>\n",
       "    </tr>\n",
       "    <tr>\n",
       "      <th>2</th>\n",
       "      <td>12.207778</td>\n",
       "      <td>23</td>\n",
       "      <td>0.0</td>\n",
       "      <td>-1</td>\n",
       "      <td>329.148148</td>\n",
       "      <td>27</td>\n",
       "      <td>0.0</td>\n",
       "      <td>4.0</td>\n",
       "      <td>2.2</td>\n",
       "      <td>2WD</td>\n",
       "      <td>2100</td>\n",
       "      <td>(FFS)</td>\n",
       "      <td>-1</td>\n",
       "      <td>1250</td>\n",
       "      <td>Regular</td>\n",
       "      <td>Regular Gasoline</td>\n",
       "      <td>-1</td>\n",
       "      <td>33</td>\n",
       "      <td>0.0</td>\n",
       "      <td>19</td>\n",
       "      <td>77</td>\n",
       "      <td>100</td>\n",
       "      <td>0</td>\n",
       "      <td>0</td>\n",
       "      <td>Dodge</td>\n",
       "      <td>Charger</td>\n",
       "      <td>Y</td>\n",
       "      <td>False</td>\n",
       "      <td>0</td>\n",
       "      <td>0</td>\n",
       "      <td>Manual</td>\n",
       "      <td>29.0000</td>\n",
       "      <td>47.0000</td>\n",
       "      <td>Subcompact Cars</td>\n",
       "      <td>1985</td>\n",
       "      <td>500</td>\n",
       "      <td>Tue Jan 01 00:00:00 EST 2013</td>\n",
       "      <td>Tue Jan 01 00:00:00 EST 2013</td>\n",
       "    </tr>\n",
       "    <tr>\n",
       "      <th>3</th>\n",
       "      <td>29.964545</td>\n",
       "      <td>10</td>\n",
       "      <td>0.0</td>\n",
       "      <td>-1</td>\n",
       "      <td>807.909091</td>\n",
       "      <td>11</td>\n",
       "      <td>0.0</td>\n",
       "      <td>8.0</td>\n",
       "      <td>5.2</td>\n",
       "      <td>2WD</td>\n",
       "      <td>2850</td>\n",
       "      <td>Unknown</td>\n",
       "      <td>-1</td>\n",
       "      <td>3050</td>\n",
       "      <td>Regular</td>\n",
       "      <td>Regular Gasoline</td>\n",
       "      <td>-1</td>\n",
       "      <td>12</td>\n",
       "      <td>0.0</td>\n",
       "      <td>0</td>\n",
       "      <td>0</td>\n",
       "      <td>1000</td>\n",
       "      <td>0</td>\n",
       "      <td>0</td>\n",
       "      <td>Dodge</td>\n",
       "      <td>B150/B250 Wagon 2WD</td>\n",
       "      <td>N</td>\n",
       "      <td>False</td>\n",
       "      <td>0</td>\n",
       "      <td>0</td>\n",
       "      <td>Automatic</td>\n",
       "      <td>12.2222</td>\n",
       "      <td>16.6667</td>\n",
       "      <td>Vans</td>\n",
       "      <td>1985</td>\n",
       "      <td>-8500</td>\n",
       "      <td>Tue Jan 01 00:00:00 EST 2013</td>\n",
       "      <td>Tue Jan 01 00:00:00 EST 2013</td>\n",
       "    </tr>\n",
       "    <tr>\n",
       "      <th>4</th>\n",
       "      <td>17.347895</td>\n",
       "      <td>17</td>\n",
       "      <td>0.0</td>\n",
       "      <td>-1</td>\n",
       "      <td>467.736842</td>\n",
       "      <td>19</td>\n",
       "      <td>0.0</td>\n",
       "      <td>4.0</td>\n",
       "      <td>2.2</td>\n",
       "      <td>4WD</td>\n",
       "      <td>66031</td>\n",
       "      <td>(FFS,TRBO)</td>\n",
       "      <td>-1</td>\n",
       "      <td>2150</td>\n",
       "      <td>Premium</td>\n",
       "      <td>Premium Gasoline</td>\n",
       "      <td>-1</td>\n",
       "      <td>23</td>\n",
       "      <td>0.0</td>\n",
       "      <td>0</td>\n",
       "      <td>0</td>\n",
       "      <td>10000</td>\n",
       "      <td>0</td>\n",
       "      <td>14</td>\n",
       "      <td>Subaru</td>\n",
       "      <td>Legacy AWD Turbo</td>\n",
       "      <td>N</td>\n",
       "      <td>False</td>\n",
       "      <td>0</td>\n",
       "      <td>90</td>\n",
       "      <td>Manual</td>\n",
       "      <td>21.0000</td>\n",
       "      <td>32.0000</td>\n",
       "      <td>Compact Cars</td>\n",
       "      <td>1993</td>\n",
       "      <td>-4000</td>\n",
       "      <td>Tue Jan 01 00:00:00 EST 2013</td>\n",
       "      <td>Tue Jan 01 00:00:00 EST 2013</td>\n",
       "    </tr>\n",
       "  </tbody>\n",
       "</table>\n",
       "</div>"
      ],
      "text/plain": [
       "   barrels08  city08  city08U  co2  co2TailpipeGpm  comb08  comb08U  \\\n",
       "0  15.695714      19      0.0   -1      423.190476      21      0.0   \n",
       "1  29.964545       9      0.0   -1      807.909091      11      0.0   \n",
       "2  12.207778      23      0.0   -1      329.148148      27      0.0   \n",
       "3  29.964545      10      0.0   -1      807.909091      11      0.0   \n",
       "4  17.347895      17      0.0   -1      467.736842      19      0.0   \n",
       "\n",
       "   cylinders  displ drive  engId    eng_dscr  feScore  fuelCost08 fuelType  \\\n",
       "0        4.0    2.0   2WD   9011       (FFS)       -1        1600  Regular   \n",
       "1       12.0    4.9   2WD  22020   (GUZZLER)       -1        3050  Regular   \n",
       "2        4.0    2.2   2WD   2100       (FFS)       -1        1250  Regular   \n",
       "3        8.0    5.2   2WD   2850     Unknown       -1        3050  Regular   \n",
       "4        4.0    2.2   4WD  66031  (FFS,TRBO)       -1        2150  Premium   \n",
       "\n",
       "          fuelType1  ghgScore  highway08  highway08U  hlv  hpv     id  lv2  \\\n",
       "0  Regular Gasoline        -1         25         0.0    0    0      1    0   \n",
       "1  Regular Gasoline        -1         14         0.0    0    0     10    0   \n",
       "2  Regular Gasoline        -1         33         0.0   19   77    100    0   \n",
       "3  Regular Gasoline        -1         12         0.0    0    0   1000    0   \n",
       "4  Premium Gasoline        -1         23         0.0    0    0  10000    0   \n",
       "\n",
       "   lv4        make                model mpgData  phevBlended  pv2  pv4  \\\n",
       "0    0  Alfa Romeo   Spider Veloce 2000       Y        False    0    0   \n",
       "1    0     Ferrari           Testarossa       N        False    0    0   \n",
       "2    0       Dodge              Charger       Y        False    0    0   \n",
       "3    0       Dodge  B150/B250 Wagon 2WD       N        False    0    0   \n",
       "4   14      Subaru     Legacy AWD Turbo       N        False    0   90   \n",
       "\n",
       "       trany    UCity  UHighway           VClass  year  youSaveSpend  \\\n",
       "0     Manual  23.3333   35.0000      Two Seaters  1985         -1250   \n",
       "1     Manual  11.0000   19.0000      Two Seaters  1985         -8500   \n",
       "2     Manual  29.0000   47.0000  Subcompact Cars  1985           500   \n",
       "3  Automatic  12.2222   16.6667             Vans  1985         -8500   \n",
       "4     Manual  21.0000   32.0000     Compact Cars  1993         -4000   \n",
       "\n",
       "                      createdOn                    modifiedOn  \n",
       "0  Tue Jan 01 00:00:00 EST 2013  Tue Jan 01 00:00:00 EST 2013  \n",
       "1  Tue Jan 01 00:00:00 EST 2013  Tue Jan 01 00:00:00 EST 2013  \n",
       "2  Tue Jan 01 00:00:00 EST 2013  Tue Jan 01 00:00:00 EST 2013  \n",
       "3  Tue Jan 01 00:00:00 EST 2013  Tue Jan 01 00:00:00 EST 2013  \n",
       "4  Tue Jan 01 00:00:00 EST 2013  Tue Jan 01 00:00:00 EST 2013  "
      ]
     },
     "execution_count": 38,
     "metadata": {},
     "output_type": "execute_result"
    }
   ],
   "source": [
    "df.head()"
   ]
  },
  {
   "cell_type": "code",
   "execution_count": 39,
   "id": "14122824",
   "metadata": {},
   "outputs": [],
   "source": [
    "manual_city = (df[df.trany == \"Manual\"].UCity.mean())\n",
    "auto_city = (df[df.trany == \"Automatic\"].UCity.mean())\n",
    "\n",
    "man_hig = (df[df.trany == \"Manual\"].UHighway.mean())\n",
    "auto_hig = (df[df.trany == \"Automatic\"].UHighway.mean())"
   ]
  },
  {
   "cell_type": "code",
   "execution_count": 40,
   "id": "cfbd4b81",
   "metadata": {},
   "outputs": [
    {
     "name": "stdout",
     "output_type": "stream",
     "text": [
      "Manual consume city:  23.803615061748328\n",
      "Auto consume city:  21.995187990099787\n",
      "\n",
      "\n",
      "Manual consume highway:  35.39287307288724\n",
      "Auto consume highway:  32.75594702993636\n"
     ]
    }
   ],
   "source": [
    "print(\"Manual consume city: \",manual_city)\n",
    "print(\"Auto consume city: \",auto_city)\n",
    "print(\"\\n\")\n",
    "print(\"Manual consume highway: \",man_hig)\n",
    "print(\"Auto consume highway: \",auto_hig)"
   ]
  },
  {
   "attachments": {},
   "cell_type": "markdown",
   "id": "14b03d7b",
   "metadata": {},
   "source": [
    "Vemos que los coches automáticos tanto en ciudad como en autopista tienen un menor consumo. Si bien esto puede deberse a la presencia de los coches eléctricos entre los automáticos.\n",
    "Veamos que pasaría al quitar los eléctricos"
   ]
  },
  {
   "cell_type": "code",
   "execution_count": 41,
   "id": "1d32c41a",
   "metadata": {},
   "outputs": [
    {
     "data": {
      "text/plain": [
       "120"
      ]
     },
     "execution_count": 41,
     "metadata": {},
     "output_type": "execute_result"
    }
   ],
   "source": [
    "len(df[df.fuelType == \"Electricity\"])"
   ]
  },
  {
   "cell_type": "code",
   "execution_count": 42,
   "id": "e3e2af8a",
   "metadata": {},
   "outputs": [],
   "source": [
    "df_el = df[df['fuelType'] != 'Electricity']"
   ]
  },
  {
   "attachments": {},
   "cell_type": "markdown",
   "id": "00537975",
   "metadata": {},
   "source": [
    "Creamos un nuevo data frame sin coches eléctricos y volvemos a analizar"
   ]
  },
  {
   "cell_type": "code",
   "execution_count": 43,
   "id": "c4dc4787",
   "metadata": {},
   "outputs": [],
   "source": [
    "manual_city_el = (df_el[df_el.trany == \"Manual\"].UCity.mean())\n",
    "auto_city_el = (df_el[df_el.trany == \"Automatic\"].UCity.mean())\n",
    "man_hig_el = (df_el[df_el.trany == \"Manual\"].UHighway.mean())\n",
    "auto_hig_el = (df_el[df_el.trany == \"Automatic\"].UHighway.mean())"
   ]
  },
  {
   "cell_type": "code",
   "execution_count": 44,
   "id": "b55bf8b3",
   "metadata": {},
   "outputs": [
    {
     "name": "stdout",
     "output_type": "stream",
     "text": [
      "Consume without electric cars:\n",
      "\n",
      "\n",
      "Manual consume city:  23.803615061748328\n",
      "Auto consume city:  21.462607780058416\n",
      "\n",
      "\n",
      "Manual consume highway:  35.39287307288724\n",
      "Auto consume highway:  32.33731868635036\n"
     ]
    }
   ],
   "source": [
    "print(\"Consume without electric cars:\")\n",
    "print(\"\\n\")\n",
    "print(\"Manual consume city: \",manual_city_el)\n",
    "print(\"Auto consume city: \",auto_city_el)\n",
    "print(\"\\n\")\n",
    "print(\"Manual consume highway: \",man_hig_el)\n",
    "print(\"Auto consume highway: \",auto_hig_el)"
   ]
  },
  {
   "attachments": {},
   "cell_type": "markdown",
   "id": "ea9b41a7",
   "metadata": {},
   "source": [
    "Vemos que las diferencias entre los resultados son mínimas. Es posible debido a que tan solo había 120 coches eléctricos en el data frame. En cualquier caso sigue estando claro que los coches automáticos tienen un mejor consumo que los manuales."
   ]
  },
  {
   "attachments": {},
   "cell_type": "markdown",
   "id": "1c432728",
   "metadata": {},
   "source": [
    "### Cleaning years"
   ]
  },
  {
   "cell_type": "code",
   "execution_count": 45,
   "id": "851a9e28",
   "metadata": {},
   "outputs": [
    {
     "name": "stdout",
     "output_type": "stream",
     "text": [
      "<class 'pandas.core.series.Series'>\n",
      "RangeIndex: 37843 entries, 0 to 37842\n",
      "Series name: year\n",
      "Non-Null Count  Dtype\n",
      "--------------  -----\n",
      "37843 non-null  int64\n",
      "dtypes: int64(1)\n",
      "memory usage: 295.8 KB\n"
     ]
    }
   ],
   "source": [
    "df.year.info()"
   ]
  },
  {
   "cell_type": "code",
   "execution_count": 46,
   "id": "6c26dcf9",
   "metadata": {},
   "outputs": [],
   "source": [
    "#df.year = pd.to_datetime(df.year)"
   ]
  },
  {
   "cell_type": "code",
   "execution_count": 47,
   "id": "6be3304e",
   "metadata": {},
   "outputs": [
    {
     "name": "stdout",
     "output_type": "stream",
     "text": [
      "<class 'pandas.core.series.Series'>\n",
      "RangeIndex: 37843 entries, 0 to 37842\n",
      "Series name: year\n",
      "Non-Null Count  Dtype\n",
      "--------------  -----\n",
      "37843 non-null  int64\n",
      "dtypes: int64(1)\n",
      "memory usage: 295.8 KB\n"
     ]
    }
   ],
   "source": [
    "df.year.info()"
   ]
  },
  {
   "cell_type": "code",
   "execution_count": 48,
   "id": "8ad6742c",
   "metadata": {},
   "outputs": [
    {
     "data": {
      "text/plain": [
       "34"
      ]
     },
     "execution_count": 48,
     "metadata": {},
     "output_type": "execute_result"
    }
   ],
   "source": [
    "len(df.year.unique())"
   ]
  },
  {
   "attachments": {},
   "cell_type": "markdown",
   "id": "c9be002c",
   "metadata": {},
   "source": [
    "# Outliers"
   ]
  },
  {
   "cell_type": "code",
   "execution_count": 49,
   "id": "1b1729d0",
   "metadata": {},
   "outputs": [],
   "source": [
    "#Run this code\n",
    "stats = data.describe().transpose()\n",
    "stats['IQR'] = stats['75%'] - stats['25%']\n",
    "#stats.head()"
   ]
  },
  {
   "cell_type": "code",
   "execution_count": 50,
   "id": "4ad4c6eb",
   "metadata": {},
   "outputs": [],
   "source": [
    "outliers = pd.DataFrame(columns=data.columns)\n",
    "\n",
    "for col in stats.index:\n",
    "    iqr = stats.at[col,'IQR']\n",
    "    cutoff = iqr * 1.5\n",
    "    lower = stats.at[col,'25%'] - cutoff\n",
    "    upper = stats.at[col,'75%'] + cutoff\n",
    "    results = data[(data[col] < lower) | \n",
    "                   (data[col] > upper)].copy()\n",
    "    results['Outlier'] = col\n",
    "    outliers = outliers.append(results)\n",
    "    \n",
    "\n",
    "# outliers.head()"
   ]
  },
  {
   "cell_type": "code",
   "execution_count": 51,
   "id": "c981cea6",
   "metadata": {},
   "outputs": [
    {
     "data": {
      "text/plain": [
       "23"
      ]
     },
     "execution_count": 51,
     "metadata": {},
     "output_type": "execute_result"
    }
   ],
   "source": [
    "# Columnas en comón\n",
    "len(set(df.columns) & set(outliers.Outlier.unique()))"
   ]
  },
  {
   "cell_type": "code",
   "execution_count": 52,
   "id": "5347dccd",
   "metadata": {},
   "outputs": [],
   "source": [
    "# Columnas que no coinciden\n",
    "#set(df.columns) | set(outliers.Outlier.unique())"
   ]
  },
  {
   "attachments": {},
   "cell_type": "markdown",
   "id": "7ee2bd7f",
   "metadata": {},
   "source": [
    "# Createdon to simplify"
   ]
  },
  {
   "cell_type": "code",
   "execution_count": 53,
   "id": "cd5c4f2a",
   "metadata": {},
   "outputs": [],
   "source": [
    "#df.createdOn.unique()"
   ]
  },
  {
   "cell_type": "code",
   "execution_count": 54,
   "id": "2569b80d",
   "metadata": {},
   "outputs": [],
   "source": [
    "def conversion(texto):\n",
    "    month = ['jan','feb','mar','apr','may','jun','jul','aug','sep','oct','nov','dec']\n",
    "    year = []\n",
    "    days = []\n",
    "\n",
    "    for i in range(1,32):\n",
    "        #i = int(i)\n",
    "        i = str(i)\n",
    "        days.append(i)\n",
    "\n",
    "    #print(days)\n",
    "\n",
    "\n",
    "    for i in range(2000,2020):\n",
    "        i = str(i)\n",
    "        year.append(i)\n",
    "\n",
    "    texto = texto.lower()\n",
    "    texto = texto.split()\n",
    "    #print(texto)\n",
    "\n",
    "    fecha = []\n",
    "\n",
    "    for i in texto:\n",
    "        if i in year:\n",
    "            fecha.append(i)\n",
    "\n",
    "    for i in texto:\n",
    "        if i in month:\n",
    "            fecha.append(i)\n",
    "\n",
    "    for i in texto:\n",
    "        try:\n",
    "            i = int(i)\n",
    "            i = str(i)\n",
    "        except:\n",
    "            pass\n",
    "        if i in days:\n",
    "            fecha.append(i)\n",
    "\n",
    "    return \"-\".join(fecha)"
   ]
  },
  {
   "cell_type": "code",
   "execution_count": 55,
   "id": "73b12434",
   "metadata": {},
   "outputs": [],
   "source": [
    "df[\"Created\"] = df.createdOn.apply(conversion)\n",
    "df[\"Modified\"] = df.modifiedOn.apply(conversion)\n",
    "df = df.drop(columns=[\"createdOn\", \"modifiedOn\"])"
   ]
  },
  {
   "cell_type": "code",
   "execution_count": 56,
   "id": "3ac43ea3",
   "metadata": {},
   "outputs": [
    {
     "data": {
      "text/html": [
       "<div>\n",
       "<style scoped>\n",
       "    .dataframe tbody tr th:only-of-type {\n",
       "        vertical-align: middle;\n",
       "    }\n",
       "\n",
       "    .dataframe tbody tr th {\n",
       "        vertical-align: top;\n",
       "    }\n",
       "\n",
       "    .dataframe thead th {\n",
       "        text-align: right;\n",
       "    }\n",
       "</style>\n",
       "<table border=\"1\" class=\"dataframe\">\n",
       "  <thead>\n",
       "    <tr style=\"text-align: right;\">\n",
       "      <th></th>\n",
       "      <th>barrels08</th>\n",
       "      <th>city08</th>\n",
       "      <th>city08U</th>\n",
       "      <th>co2</th>\n",
       "      <th>co2TailpipeGpm</th>\n",
       "      <th>comb08</th>\n",
       "      <th>comb08U</th>\n",
       "      <th>cylinders</th>\n",
       "      <th>displ</th>\n",
       "      <th>drive</th>\n",
       "      <th>engId</th>\n",
       "      <th>eng_dscr</th>\n",
       "      <th>feScore</th>\n",
       "      <th>fuelCost08</th>\n",
       "      <th>fuelType</th>\n",
       "      <th>fuelType1</th>\n",
       "      <th>ghgScore</th>\n",
       "      <th>highway08</th>\n",
       "      <th>highway08U</th>\n",
       "      <th>hlv</th>\n",
       "      <th>hpv</th>\n",
       "      <th>id</th>\n",
       "      <th>lv2</th>\n",
       "      <th>lv4</th>\n",
       "      <th>make</th>\n",
       "      <th>model</th>\n",
       "      <th>mpgData</th>\n",
       "      <th>phevBlended</th>\n",
       "      <th>pv2</th>\n",
       "      <th>pv4</th>\n",
       "      <th>trany</th>\n",
       "      <th>UCity</th>\n",
       "      <th>UHighway</th>\n",
       "      <th>VClass</th>\n",
       "      <th>year</th>\n",
       "      <th>youSaveSpend</th>\n",
       "      <th>Created</th>\n",
       "      <th>Modified</th>\n",
       "    </tr>\n",
       "  </thead>\n",
       "  <tbody>\n",
       "    <tr>\n",
       "      <th>0</th>\n",
       "      <td>15.695714</td>\n",
       "      <td>19</td>\n",
       "      <td>0.0</td>\n",
       "      <td>-1</td>\n",
       "      <td>423.190476</td>\n",
       "      <td>21</td>\n",
       "      <td>0.0</td>\n",
       "      <td>4.0</td>\n",
       "      <td>2.0</td>\n",
       "      <td>2WD</td>\n",
       "      <td>9011</td>\n",
       "      <td>(FFS)</td>\n",
       "      <td>-1</td>\n",
       "      <td>1600</td>\n",
       "      <td>Regular</td>\n",
       "      <td>Regular Gasoline</td>\n",
       "      <td>-1</td>\n",
       "      <td>25</td>\n",
       "      <td>0.0</td>\n",
       "      <td>0</td>\n",
       "      <td>0</td>\n",
       "      <td>1</td>\n",
       "      <td>0</td>\n",
       "      <td>0</td>\n",
       "      <td>Alfa Romeo</td>\n",
       "      <td>Spider Veloce 2000</td>\n",
       "      <td>Y</td>\n",
       "      <td>False</td>\n",
       "      <td>0</td>\n",
       "      <td>0</td>\n",
       "      <td>Manual</td>\n",
       "      <td>23.3333</td>\n",
       "      <td>35.0</td>\n",
       "      <td>Two Seaters</td>\n",
       "      <td>1985</td>\n",
       "      <td>-1250</td>\n",
       "      <td>2013-jan-1</td>\n",
       "      <td>2013-jan-1</td>\n",
       "    </tr>\n",
       "  </tbody>\n",
       "</table>\n",
       "</div>"
      ],
      "text/plain": [
       "   barrels08  city08  city08U  co2  co2TailpipeGpm  comb08  comb08U  \\\n",
       "0  15.695714      19      0.0   -1      423.190476      21      0.0   \n",
       "\n",
       "   cylinders  displ drive  engId eng_dscr  feScore  fuelCost08 fuelType  \\\n",
       "0        4.0    2.0   2WD   9011    (FFS)       -1        1600  Regular   \n",
       "\n",
       "          fuelType1  ghgScore  highway08  highway08U  hlv  hpv  id  lv2  lv4  \\\n",
       "0  Regular Gasoline        -1         25         0.0    0    0   1    0    0   \n",
       "\n",
       "         make               model mpgData  phevBlended  pv2  pv4   trany  \\\n",
       "0  Alfa Romeo  Spider Veloce 2000       Y        False    0    0  Manual   \n",
       "\n",
       "     UCity  UHighway       VClass  year  youSaveSpend     Created    Modified  \n",
       "0  23.3333      35.0  Two Seaters  1985         -1250  2013-jan-1  2013-jan-1  "
      ]
     },
     "execution_count": 56,
     "metadata": {},
     "output_type": "execute_result"
    }
   ],
   "source": [
    "df.head(1)"
   ]
  }
 ],
 "metadata": {
  "kernelspec": {
   "display_name": "Python 3 (ipykernel)",
   "language": "python",
   "name": "python3"
  },
  "language_info": {
   "codemirror_mode": {
    "name": "ipython",
    "version": 3
   },
   "file_extension": ".py",
   "mimetype": "text/x-python",
   "name": "python",
   "nbconvert_exporter": "python",
   "pygments_lexer": "ipython3",
   "version": "3.10.9"
  }
 },
 "nbformat": 4,
 "nbformat_minor": 5
}
