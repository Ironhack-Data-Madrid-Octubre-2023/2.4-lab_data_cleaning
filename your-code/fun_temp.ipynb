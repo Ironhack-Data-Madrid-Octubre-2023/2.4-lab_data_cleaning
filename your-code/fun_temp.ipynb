{
 "cells": [
  {
   "cell_type": "markdown",
   "id": "24f23903",
   "metadata": {},
   "source": [
    "Data cleaning functions TEMP"
   ]
  },
  {
   "cell_type": "code",
   "execution_count": null,
   "id": "a66aef04",
   "metadata": {},
   "outputs": [],
   "source": [
    "def na_abs(df, ascend=False):\n",
    "    df1 = df.isna().sum()\n",
    "    df1=df1[df1!=0].sort_values(ascending = ascend)\n",
    "    return df1\n",
    "\n",
    "def na_perc(df, ascend=False):\n",
    "    df1 = df.isna().mean()*100\n",
    "    df1 = df1[df1!=0].sort_values(ascending = ascend)\n",
    "    return df1\n",
    "\n",
    "def na_absperc(df):\n",
    "    return pd.concat([na_cols_abs(df), na_cols_perc(df)], axis=1, keys= [\"abs_NA\", \"perc_NA\"])"
   ]
  },
  {
   "cell_type": "code",
   "execution_count": null,
   "id": "05d1c282",
   "metadata": {},
   "outputs": [],
   "source": [
    "test=list(vehicles2.itertuples())\n",
    "\n",
    "for i in test[:4]:\n",
    "    count=0\n",
    "    for j in i:\n",
    "        count += pd.isna(j)\n",
    "    print(count)\n"
   ]
  }
 ],
 "metadata": {
  "kernelspec": {
   "display_name": "env37",
   "language": "python",
   "name": "env37"
  },
  "language_info": {
   "codemirror_mode": {
    "name": "ipython",
    "version": 3
   },
   "file_extension": ".py",
   "mimetype": "text/x-python",
   "name": "python",
   "nbconvert_exporter": "python",
   "pygments_lexer": "ipython3",
   "version": "3.7.16"
  }
 },
 "nbformat": 4,
 "nbformat_minor": 5
}
